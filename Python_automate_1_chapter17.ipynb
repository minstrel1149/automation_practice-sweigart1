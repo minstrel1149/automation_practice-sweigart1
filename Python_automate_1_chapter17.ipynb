{
 "cells": [
  {
   "cell_type": "code",
   "execution_count": 24,
   "metadata": {},
   "outputs": [],
   "source": [
    "import time\n",
    "# datetime을 먼저 import 하고\n",
    "import datetime\n",
    "# 그 후 from datetime import -- 활용하면 간편하게 이용 가능\n",
    "from datetime import datetime, date, timedelta\n",
    "import subprocess\n",
    "# 멀티스레딩을 활용하기 위한 모듈\n",
    "import threading\n",
    "from pathlib import Path"
   ]
  },
  {
   "cell_type": "code",
   "execution_count": 3,
   "metadata": {},
   "outputs": [
    {
     "data": {
      "text/plain": [
       "(1658648727.7416105, 'Sun Jul 24 16:45:27 2022')"
      ]
     },
     "execution_count": 3,
     "metadata": {},
     "output_type": "execute_result"
    }
   ],
   "source": [
    "# 유닉스 시간(unix epoch) : 1970년 1월 1일 오전 12시 기준 -> time.time()은 해당 시점에서 경과한 시간을 초로\n",
    "# time.ctime()은 현재 시각을 문자열 형식으로 반환\n",
    "time.time(), time.ctime()"
   ]
  },
  {
   "cell_type": "code",
   "execution_count": 5,
   "metadata": {},
   "outputs": [
    {
     "name": "stdout",
     "output_type": "stream",
     "text": [
      "Tick\tTock\tTick\tTock\t"
     ]
    }
   ],
   "source": [
    "# time.sleep()을 통해 프로그램 잠시 중지 가능\n",
    "for i in range(2):\n",
    "    print('Tick', end='\\t')\n",
    "    time.sleep(0.5)\n",
    "    print('Tock', end='\\t')\n",
    "    time.sleep(0.5)"
   ]
  },
  {
   "cell_type": "code",
   "execution_count": 11,
   "metadata": {},
   "outputs": [
    {
     "data": {
      "text/plain": [
       "(datetime.datetime(2022, 7, 24, 16, 49, 56, 895304),\n",
       " datetime.datetime(2022, 7, 24, 16, 49, 56, 895305))"
      ]
     },
     "execution_count": 11,
     "metadata": {},
     "output_type": "execute_result"
    }
   ],
   "source": [
    "# datetime 모듈은 고유의 datetime 자료형\n",
    "# 더 나중 시점의 datetime 객체는 더 큰 값 -> 비교 가능\n",
    "datetime.now(), datetime.fromtimestamp(time.time())"
   ]
  },
  {
   "cell_type": "code",
   "execution_count": 12,
   "metadata": {},
   "outputs": [
    {
     "data": {
      "text/plain": [
       "986948.0"
      ]
     },
     "execution_count": 12,
     "metadata": {},
     "output_type": "execute_result"
    }
   ],
   "source": [
    "# timedelta는 시점에 대한 시각이 아닌 기간에 대한 시간\n",
    "# month나 year의 경우 특정 달이나 해에 따라 달라질 수 있으므로 미존재\n",
    "delta = timedelta(days=11, hours=10, minutes=9, seconds=8)\n",
    "# total_seconds() 메서드를 통해 초 단위로 전체 기간 반환\n",
    "delta.total_seconds()"
   ]
  },
  {
   "cell_type": "code",
   "execution_count": 14,
   "metadata": {},
   "outputs": [
    {
     "data": {
      "text/plain": [
       "datetime.datetime(2082, 10, 6, 16, 29)"
      ]
     },
     "execution_count": 14,
     "metadata": {},
     "output_type": "execute_result"
    }
   ],
   "source": [
    "# timedelta 객체는 산술 연산자 사용하여 더하기, 빼기, 곱하기, 나누기 가능\n",
    "oct21st = datetime(2022, 10, 21, 16, 29, 0)\n",
    "aboutThirtyYears = timedelta(days=365 * 30)\n",
    "oct21st + (2 * aboutThirtyYears)"
   ]
  },
  {
   "cell_type": "code",
   "execution_count": 21,
   "metadata": {},
   "outputs": [
    {
     "data": {
      "text/plain": [
       "('10/21/22', datetime.datetime(2022, 10, 21, 0, 0))"
      ]
     },
     "execution_count": 21,
     "metadata": {},
     "output_type": "execute_result"
    }
   ],
   "source": [
    "# strftime() 메서드와 strptime() 함수를 통해 문자열과 datetime 객체 상호 전환\n",
    "# %F(2020-01-01) %D(10/21/22) %Y(2022) %y(22) %m(03) %B(October) %b(Oct) %d(28) %A(Monday) %a(Mon) %H %M %S 등 활용\n",
    "oct21st.strftime('%D'), datetime.strptime('10/21/22', '%m/%d/%y')"
   ]
  },
  {
   "cell_type": "code",
   "execution_count": 23,
   "metadata": {},
   "outputs": [
    {
     "name": "stdout",
     "output_type": "stream",
     "text": [
      "Start\n",
      "End\n"
     ]
    }
   ],
   "source": [
    "# 지연 또는 예약 실행을 하려는 코드를 threading 모듈을 사용해 별도의 스레드에서 실행\n",
    "# threading.Thread(target='')를 사용하여 Thread 객체 생성\n",
    "print('Start')\n",
    "def takeANap():\n",
    "    time.sleep(1)\n",
    "    print('wake up!')\n",
    "# threading.Thread()에 args, kwargs 인자 전달 가능\n",
    "threadObj = threading.Thread(target=takeANap)\n",
    "# start() 메서드를 통해 Thread 객체 시작\n",
    "threadObj.start()\n",
    "print('End')\n",
    "# jupiter notebook 환경에서는 되는데 VSCode 환경에서는 안되는듯..? → 잘 되는데?"
   ]
  },
  {
   "cell_type": "code",
   "execution_count": 30,
   "metadata": {},
   "outputs": [
    {
     "data": {
      "text/plain": [
       "0"
      ]
     },
     "execution_count": 30,
     "metadata": {},
     "output_type": "execute_result"
    }
   ],
   "source": [
    "# subprocess.Popen() 함수를 이용하여 컴퓨터 내 다른 프로그램 실행(P는 process를 의미)\n",
    "paintProc = subprocess.Popen(Path('C:/') / 'Windows' / 'System32' / 'mspaint.exe')\n",
    "paintProc.poll() == None\n",
    "# wait() 메서드는 프로그램이 종료될 때까지 실행을 멈추는 용도 -> 단 계산기 앱은 실행하자마자 스스로 종료\n",
    "paintProc.wait()"
   ]
  },
  {
   "cell_type": "code",
   "execution_count": 33,
   "metadata": {},
   "outputs": [
    {
     "data": {
      "text/plain": [
       "0"
      ]
     },
     "execution_count": 33,
     "metadata": {},
     "output_type": "execute_result"
    }
   ],
   "source": [
    "# Popen() 함수에 명령 행 인자를 전달하기 위해서는 단일 인자로 리스트를 전달해야\n",
    "# 결과적으로 이 리스트는 실행하는 프로그램의 sys.argv 값 형태\n",
    "csvProc = subprocess.Popen([Path('C:/') / 'Windows' / 'notepad.exe', Path.cwd() / 'result_attachments' / 'output.csv'])\n",
    "csvProc.wait()"
   ]
  },
  {
   "cell_type": "code",
   "execution_count": 34,
   "metadata": {},
   "outputs": [
    {
     "data": {
      "text/plain": [
       "0"
      ]
     },
     "execution_count": 34,
     "metadata": {},
     "output_type": "execute_result"
    }
   ],
   "source": [
    "# 기본 연결 프로그램으로 열기 -> 'start'와 shell=True 활용\n",
    "csvProc = subprocess.Popen(['start', Path.cwd() / 'result_attachments' / 'output.csv'], shell=True)\n",
    "# 엑셀 앱도 실행하자마자 스스로 종료\n",
    "csvProc.wait()"
   ]
  },
  {
   "cell_type": "code",
   "execution_count": null,
   "metadata": {},
   "outputs": [],
   "source": []
  }
 ],
 "metadata": {
  "kernelspec": {
   "display_name": "Python 3.9.12 ('base')",
   "language": "python",
   "name": "python3"
  },
  "language_info": {
   "codemirror_mode": {
    "name": "ipython",
    "version": 3
   },
   "file_extension": ".py",
   "mimetype": "text/x-python",
   "name": "python",
   "nbconvert_exporter": "python",
   "pygments_lexer": "ipython3",
   "version": "3.9.12 (main, Apr  4 2022, 05:22:27) [MSC v.1916 64 bit (AMD64)]"
  },
  "orig_nbformat": 4,
  "vscode": {
   "interpreter": {
    "hash": "610a6f344c2137faf927ea819c63f6cee33a2c04455044b28099f39fe9722347"
   }
  }
 },
 "nbformat": 4,
 "nbformat_minor": 2
}
