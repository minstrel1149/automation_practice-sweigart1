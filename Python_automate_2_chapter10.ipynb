{
 "cells": [
  {
   "cell_type": "code",
   "execution_count": 1,
   "metadata": {},
   "outputs": [],
   "source": [
    "import shutil\n",
    "import send2trash\n",
    "import os\n",
    "from pathlib import Path\n",
    "import zipfile\n",
    "from zipfile import ZipFile"
   ]
  },
  {
   "cell_type": "code",
   "execution_count": 2,
   "metadata": {},
   "outputs": [],
   "source": [
    "origin_path = Path.cwd() / 'result_attachments'\n",
    "modification_path = Path.cwd() / 'result_attachments' / 'walnut2'"
   ]
  },
  {
   "cell_type": "code",
   "execution_count": 4,
   "metadata": {},
   "outputs": [
    {
     "data": {
      "text/plain": [
       "WindowsPath('c:/Users/admin/python_automate/result_attachments/walnut2/example.tsv')"
      ]
     },
     "execution_count": 4,
     "metadata": {},
     "output_type": "execute_result"
    }
   ],
   "source": [
    "shutil.copy(origin_path / 'example.tsv', modification_path / 'example.tsv')"
   ]
  },
  {
   "cell_type": "code",
   "execution_count": 7,
   "metadata": {},
   "outputs": [
    {
     "name": "stdout",
     "output_type": "stream",
     "text": [
      "이미 존재하는 폴더입니다.\n"
     ]
    }
   ],
   "source": [
    "try:\n",
    "    shutil.copytree(origin_path / 'xkcd', modification_path / 'xkcd')\n",
    "except:\n",
    "    print('이미 존재하는 폴더입니다.')"
   ]
  },
  {
   "cell_type": "code",
   "execution_count": 12,
   "metadata": {},
   "outputs": [
    {
     "name": "stdout",
     "output_type": "stream",
     "text": [
      "The current folder is walnut_path_mkdir\n",
      "This is the subfolder: cats\n",
      "This is the file: example.xlsx\n",
      "This is the file: example.zip\n",
      "This is the file: mcb.bak\n",
      "This is the file: mcb.dat\n",
      "This is the file: mcb.dir\n",
      "This is the file: new_example.zip\n",
      "This is the file: spam.txt\n",
      "---------------\n",
      "The current folder is cats\n",
      "This is the file: catnames.txt\n",
      "This is the file: zophie.jpg\n",
      "---------------\n"
     ]
    }
   ],
   "source": [
    "for foldername, subfolders, filenames in os.walk(Path.cwd() / 'result_attachments' / 'walnut_path_mkdir'):\n",
    "    print(f'The current folder is {Path(foldername).name}')\n",
    "    for subfolder in subfolders:\n",
    "        print(f'This is the subfolder: {subfolder}')\n",
    "    for filename in filenames:\n",
    "        print(f'This is the file: {filename}')\n",
    "    print(f'---------------')"
   ]
  },
  {
   "cell_type": "code",
   "execution_count": 17,
   "metadata": {},
   "outputs": [],
   "source": [
    "exampleZip = ZipFile(origin_path / 'walnut_path_mkdir' / 'example.zip')\n",
    "exampleZip.namelist()\n",
    "exampleZip.getinfo('spam.txt').file_size\n",
    "exampleZip.extractall(modification_path / 'example')\n",
    "exampleZip.close()"
   ]
  },
  {
   "cell_type": "code",
   "execution_count": 18,
   "metadata": {},
   "outputs": [],
   "source": [
    "newZip = ZipFile(modification_path / 'new_example.zip', mode='w')\n",
    "newZip.write(modification_path / 'example' / 'spam.txt', compress_type=zipfile.ZIP_DEFLATED)\n",
    "for foldername, subfolders, filenames in os.walk(modification_path / 'example' / 'cats'):\n",
    "    newZip.write(foldername, compress_type=zipfile.ZIP_DEFLATED)\n",
    "    for filename in filenames:\n",
    "        newZip.write(os.path.join(foldername, filename), compress_type=zipfile.ZIP_DEFLATED)\n",
    "newZip.close()"
   ]
  },
  {
   "cell_type": "code",
   "execution_count": null,
   "metadata": {},
   "outputs": [],
   "source": []
  }
 ],
 "metadata": {
  "kernelspec": {
   "display_name": "Python 3.9.12 ('base')",
   "language": "python",
   "name": "python3"
  },
  "language_info": {
   "codemirror_mode": {
    "name": "ipython",
    "version": 3
   },
   "file_extension": ".py",
   "mimetype": "text/x-python",
   "name": "python",
   "nbconvert_exporter": "python",
   "pygments_lexer": "ipython3",
   "version": "3.9.12"
  },
  "orig_nbformat": 4,
  "vscode": {
   "interpreter": {
    "hash": "610a6f344c2137faf927ea819c63f6cee33a2c04455044b28099f39fe9722347"
   }
  }
 },
 "nbformat": 4,
 "nbformat_minor": 2
}
