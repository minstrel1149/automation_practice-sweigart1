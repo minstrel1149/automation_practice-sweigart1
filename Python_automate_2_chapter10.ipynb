{
 "cells": [
  {
   "cell_type": "code",
   "execution_count": 1,
   "metadata": {},
   "outputs": [],
   "source": [
    "# 셸 유틸리티 → 파일 복사, 이동, 이름 바꾸기 등(삭제는 가급적 send2trash 활용)\n",
    "import shutil\n",
    "import send2trash\n",
    "import os\n",
    "from pathlib import Path\n",
    "import zipfile\n",
    "from zipfile import ZipFile"
   ]
  },
  {
   "cell_type": "code",
   "execution_count": 2,
   "metadata": {},
   "outputs": [
    {
     "data": {
      "text/plain": [
       "WindowsPath('c:/Users/admin/python_automate/result_attachments/walnut2/example.tsv')"
      ]
     },
     "execution_count": 2,
     "metadata": {},
     "output_type": "execute_result"
    }
   ],
   "source": [
    "# move 메서드는 이동(파일 이름 변경도 가능), copy 메서드는 파일 하나 복사, copytree 메서드는 폴더와 그 안 파일 모두 복사\n",
    "origin_path = Path.cwd() / 'result_attachments'\n",
    "modification_path = Path.cwd() / 'result_attachments' / 'walnut2'\n",
    "shutil.copy(origin_path / 'example.tsv', modification_path / 'example.tsv')"
   ]
  },
  {
   "cell_type": "code",
   "execution_count": 3,
   "metadata": {},
   "outputs": [
    {
     "name": "stdout",
     "output_type": "stream",
     "text": [
      "이미 존재하는 폴더입니다.\n"
     ]
    }
   ],
   "source": [
    "# 예외처리 이용해서 copytree 복사 시 이미 존재할 경우에 대한 대처 가능\n",
    "try:\n",
    "    shutil.copytree(origin_path / 'xkcd', modification_path / 'xkcd')\n",
    "except:\n",
    "    print('이미 존재하는 폴더입니다.')"
   ]
  },
  {
   "cell_type": "code",
   "execution_count": 5,
   "metadata": {},
   "outputs": [
    {
     "name": "stdout",
     "output_type": "stream",
     "text": [
      "The current folder is walnut_path_mkdir\n",
      "This is the subfolder: cats\n",
      "This is the file: example.xlsx\n",
      "This is the file: example.zip\n",
      "This is the file: mcb.bak\n",
      "This is the file: mcb.dat\n",
      "This is the file: mcb.dir\n",
      "This is the file: new_example.zip\n",
      "This is the file: spam.txt\n",
      "---------------\n",
      "The current folder is cats\n",
      "This is the file: catnames.txt\n",
      "This is the file: zophie.jpg\n",
      "---------------\n"
     ]
    }
   ],
   "source": [
    "# 디렉터리 트리 탐색\n",
    "# os.walk(path) → folderName, subfolders, filenames 구분 가능\n",
    "# folderName은 경로를 str형태로 반환 → os.path.basename() 혹은 p.name 활용 가능\n",
    "# subfolders와 filenames는 각각의 이름 문자열 리스트로 반환\n",
    "for foldername, subfolders, filenames in os.walk(Path.cwd() / 'result_attachments' / 'walnut_path_mkdir'):\n",
    "    print(f'The current folder is {Path(foldername).name}')\n",
    "    for subfolder in subfolders:\n",
    "        print(f'This is the subfolder: {subfolder}')\n",
    "    for filename in filenames:\n",
    "        print(f'This is the file: {filename}')\n",
    "    print(f'---------------')"
   ]
  },
  {
   "cell_type": "code",
   "execution_count": 17,
   "metadata": {},
   "outputs": [],
   "source": [
    "# zipfile.ZipFile() 함수를 호출하여 ZipFile 객체 생성\n",
    "exampleZip = ZipFile(origin_path / 'walnut_path_mkdir' / 'example.zip')\n",
    "# namelist() 메서드를 통해 ZipFile 내 어떤 파일이 있는지 파악\n",
    "exampleZip.namelist()\n",
    "# getinfo(파일) 메서드를 통해 해당 파일의 각 속성 파악 → file_size 등 속성\n",
    "exampleZip.getinfo('spam.txt').file_size\n",
    "# extractall(path) 메서드를 통해 모든 파일/폴더 압축 풀기 가능 → path를 지정하지 않으면 cwd에 압축 풀기\n",
    "exampleZip.extractall(modification_path / 'example')\n",
    "exampleZip.close()"
   ]
  },
  {
   "cell_type": "code",
   "execution_count": 18,
   "metadata": {},
   "outputs": [],
   "source": [
    "# ZipFile()에 mode 인자 활용하여 압축파일 쓰기모드도 가능 → write() 메서드에서 compress_type=zipfile.ZIP_DEFLATED 활용\n",
    "# 폴더를 넣으면 빈 폴더만 압축 파일에 추가함 → 다른 조치 필요(os.walk 활용?)\n",
    "# 문제는.. 상위 경로들까지 전부다 압축 폴더에 포함된다는건데.. 이건 어떻게 해결?\n",
    "newZip = ZipFile(modification_path / 'new_example.zip', mode='w')\n",
    "newZip.write(modification_path / 'example' / 'spam.txt', compress_type=zipfile.ZIP_DEFLATED)\n",
    "for foldername, subfolders, filenames in os.walk(modification_path / 'example' / 'cats'):\n",
    "    newZip.write(foldername, compress_type=zipfile.ZIP_DEFLATED)\n",
    "    for filename in filenames:\n",
    "        newZip.write(os.path.join(foldername, filename), compress_type=zipfile.ZIP_DEFLATED)\n",
    "newZip.close()"
   ]
  },
  {
   "cell_type": "code",
   "execution_count": null,
   "metadata": {},
   "outputs": [],
   "source": []
  }
 ],
 "metadata": {
  "kernelspec": {
   "display_name": "Python 3.9.12 ('base')",
   "language": "python",
   "name": "python3"
  },
  "language_info": {
   "codemirror_mode": {
    "name": "ipython",
    "version": 3
   },
   "file_extension": ".py",
   "mimetype": "text/x-python",
   "name": "python",
   "nbconvert_exporter": "python",
   "pygments_lexer": "ipython3",
   "version": "3.9.12"
  },
  "orig_nbformat": 4,
  "vscode": {
   "interpreter": {
    "hash": "610a6f344c2137faf927ea819c63f6cee33a2c04455044b28099f39fe9722347"
   }
  }
 },
 "nbformat": 4,
 "nbformat_minor": 2
}
