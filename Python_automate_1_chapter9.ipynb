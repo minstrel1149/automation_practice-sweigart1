{
 "cells": [
  {
   "cell_type": "code",
   "execution_count": 36,
   "metadata": {},
   "outputs": [],
   "source": [
    "# 윈도우는 경로 구분이 역슬래시(\\), 맥은 슬래시(/) -> 이걸 아우를 수 있는 스크립트를 작성해야 -> pathlib 모듈의 Path() 함수\n",
    "from pathlib import Path\n",
    "import os\n",
    "import shelve"
   ]
  },
  {
   "cell_type": "code",
   "execution_count": 4,
   "metadata": {},
   "outputs": [
    {
     "name": "stdout",
     "output_type": "stream",
     "text": [
      "C:\\Users\\admin\\accounts.txt\n",
      "C:\\Users\\admin\\details.csv\n",
      "C:\\Users\\admin\\invite.docx\n"
     ]
    }
   ],
   "source": [
    "# Path 함수의 경우 '/'로 경로를 구분 및 문자열 결합 -> 윈도우, 맥 모두 처리\n",
    "# '/'연산자는 기존 os.path.join() 함수를 대체 -> os.path.join() 좋을 때도 생각해야\n",
    "myFiles = ['accounts.txt', 'details.csv', 'invite.docx']\n",
    "for filename in myFiles:\n",
    "    print(Path.home() / filename)"
   ]
  },
  {
   "cell_type": "code",
   "execution_count": 5,
   "metadata": {},
   "outputs": [
    {
     "data": {
      "text/plain": [
       "WindowsPath('c:/Users/admin/python_automate')"
      ]
     },
     "execution_count": 5,
     "metadata": {},
     "output_type": "execute_result"
    }
   ],
   "source": [
    "# Path.cwd() -> 현재 작업 디렉터리(current working directory)\n",
    "# os.chdir()로 수정 가능 -> 존재하지 않는 디렉터리로 변경하려고 하면 오류 발생\n",
    "# Path.home() -> 홈 디렉터리\n",
    "Path.cwd()"
   ]
  },
  {
   "cell_type": "code",
   "execution_count": 6,
   "metadata": {},
   "outputs": [],
   "source": [
    "# 절대경로와 상대경로\n",
    "# 절대경로 : 항상 루트 폴더(ex. C:\\)에서 시작\n",
    "# 상대경로 : 현재 작업 디렉터리(cwd)에서 시작 -> cwd에 대한 상대적인 경로\n",
    "# 폴더 이름으로 '.'를 사용하는 것은 cwd를 축약해서 나타낸 것 -> Path.cwd() == Path('.')\n",
    "# '..'는 상위 폴더를 의미"
   ]
  },
  {
   "cell_type": "code",
   "execution_count": 10,
   "metadata": {},
   "outputs": [
    {
     "name": "stdout",
     "output_type": "stream",
     "text": [
      "이미 존재하는 폴더입니다.\n"
     ]
    }
   ],
   "source": [
    "# 폴더 만들기 : os.mkdir(), os.makedirs(), Path 객체에서의 mkdir() 메서드\n",
    "# mkdir()은 디렉터리 하나만 만들 수 있고, makedirs()는 하위 디렉터리 여러개 만들기 가능\n",
    "try:\n",
    "    os.makedirs(Path.cwd() / 'result_attachments' / 'walnut' / 'waffles')\n",
    "except:\n",
    "    print('이미 존재하는 폴더입니다.')\n",
    "\n",
    "try:\n",
    "    os.mkdir(Path.cwd() / 'result_attachments' / 'walnut_os_mkdir')\n",
    "    (Path.cwd() / 'result_attachments' / 'walnut_path_mkdir').mkdir()\n",
    "except:\n",
    "    print('이미 존재하는 폴더입니다.')"
   ]
  },
  {
   "cell_type": "code",
   "execution_count": 14,
   "metadata": {},
   "outputs": [
    {
     "data": {
      "text/plain": [
       "('c:\\\\Users\\\\admin\\\\python_automate\\\\walnut', 'walnut')"
      ]
     },
     "execution_count": 14,
     "metadata": {},
     "output_type": "execute_result"
    }
   ],
   "source": [
    "# 절대경로 확인 : Path 객체의 is_absolute() 메서드 확인\n",
    "# os.path.abspath(path) -> 상대경로를 절대경로로 변환하는 간단한 방법\n",
    "# 절대경로를 상대경로로 변환하기 위해서는 os.path.relpath() 활용\n",
    "os.path.abspath(Path('.') / 'walnut'), os.path.relpath(Path.cwd() / 'walnut', Path.cwd())"
   ]
  },
  {
   "cell_type": "code",
   "execution_count": 15,
   "metadata": {},
   "outputs": [
    {
     "data": {
      "text/plain": [
       "('c:\\\\',\n",
       " WindowsPath('c:/Users/admin/python_automate/attachments'),\n",
       " 'example.xlsx',\n",
       " 'example',\n",
       " '.xlsx',\n",
       " 'c:')"
      ]
     },
     "execution_count": 15,
     "metadata": {},
     "output_type": "execute_result"
    }
   ],
   "source": [
    "# anchor, parent(얘만 Path객체 반환), name, stem, suffix, drive\n",
    "p = Path.cwd() / 'attachments' / 'example.xlsx'\n",
    "p.anchor, p.parent, p.name, p.stem, p.suffix, p.drive"
   ]
  },
  {
   "cell_type": "code",
   "execution_count": 16,
   "metadata": {},
   "outputs": [
    {
     "data": {
      "text/plain": [
       "(WindowsPath('c:/Users/admin/python_automate/attachments'),\n",
       " WindowsPath('c:/Users/admin/python_automate'),\n",
       " WindowsPath('c:/Users/admin'))"
      ]
     },
     "execution_count": 16,
     "metadata": {},
     "output_type": "execute_result"
    }
   ],
   "source": [
    "# p.parents(p.parent와는 다름)를 정수 인덱스와 함께 사용 -> 상위 폴더들이 결과(Path객체)\n",
    "p.parents[0], p.parents[1], p.parents[2]"
   ]
  },
  {
   "cell_type": "code",
   "execution_count": 19,
   "metadata": {},
   "outputs": [
    {
     "data": {
      "text/plain": [
       "('c:\\\\Users\\\\admin\\\\python_automate\\\\attachments',\n",
       " 'example.xlsx',\n",
       " 'c:\\\\Users\\\\admin\\\\python_automate\\\\attachments',\n",
       " 'example.xlsx',\n",
       " ('c:\\\\Users\\\\admin\\\\python_automate\\\\attachments', 'example.xlsx'))"
      ]
     },
     "execution_count": 19,
     "metadata": {},
     "output_type": "execute_result"
    }
   ],
   "source": [
    "# os.path.dirname(path) == str(p.parents[0])\n",
    "# os.path.basename(path) == p.name\n",
    "# os.path.split(path) -> dirname과 basename을 튜플로 반환\n",
    "os.path.dirname(p), os.path.basename(p), str(p.parents[0]), p.name, os.path.split(p)"
   ]
  },
  {
   "cell_type": "code",
   "execution_count": 20,
   "metadata": {},
   "outputs": [
    {
     "data": {
      "text/plain": [
       "['c:', 'Users', 'admin', 'python_automate', 'attachments', 'example.xlsx']"
      ]
     },
     "execution_count": 20,
     "metadata": {},
     "output_type": "execute_result"
    }
   ],
   "source": [
    "# os.sep의 개념(윈도우의 경우 '\\\\', 맥의 경우 '/')\n",
    "str(p).split(os.sep)"
   ]
  },
  {
   "cell_type": "code",
   "execution_count": 24,
   "metadata": {},
   "outputs": [
    {
     "data": {
      "text/plain": [
       "['.git',\n",
       " 'attachments',\n",
       " 'Python_automate_1_chapter7.ipynb',\n",
       " 'Python_automate_1_chapter8.ipynb',\n",
       " 'Python_automate_1_chapter9.ipynb',\n",
       " 'README.md',\n",
       " 'result_attachments']"
      ]
     },
     "execution_count": 24,
     "metadata": {},
     "output_type": "execute_result"
    }
   ],
   "source": [
    "# os.listdir(path)은 path에 있는 파일/폴더 이름 리스트 반환\n",
    "os.listdir(Path.cwd())"
   ]
  },
  {
   "cell_type": "code",
   "execution_count": 30,
   "metadata": {},
   "outputs": [
    {
     "data": {
      "text/plain": [
       "['automate-linux-requirements.txt',\n",
       " 'automate-mac-requirements.txt',\n",
       " 'automate-win-requirements.txt',\n",
       " 'dictionary.txt',\n",
       " 'guests.txt']"
      ]
     },
     "execution_count": 30,
     "metadata": {},
     "output_type": "execute_result"
    }
   ],
   "source": [
    "# os.listdir(path)는 원하는 확장자나 원하는 이름만 추출해내기 어려운 문제\n",
    "# p.glob를 활용(Path객체 반환) -> list comprehension을 합쳐서 사용하는 것이 좋은듯?\n",
    "# '*'(애스터리스크)는 모든 문자를 의미. '?'는 모든 종류의 단일 문자를 의미. 함께 사용도 가능\n",
    "p = Path.cwd() / 'attachments'\n",
    "[x.name for x in p.glob('*.?x?')]"
   ]
  },
  {
   "cell_type": "code",
   "execution_count": 31,
   "metadata": {},
   "outputs": [],
   "source": [
    "# 경로 유효성 검사 : p.exists(), p.is_file(), p.is_dir()"
   ]
  },
  {
   "cell_type": "code",
   "execution_count": 35,
   "metadata": {},
   "outputs": [
    {
     "name": "stdout",
     "output_type": "stream",
     "text": [
      "Prof. Plum\n",
      "Miss Scarlet\n",
      "Col. Mustard\n",
      "Al Sweigart\n",
      "RobocopAdditional contents.\n"
     ]
    }
   ],
   "source": [
    "# open으로 파일 열기: mode, encoding 등 인자 활용\n",
    "# 가급적이면 쓰기의 경우 with ~ as 구문 활용(마지막에 닫아줄 필요가 없음) / 읽기는 관계 없을듯\n",
    "# read, readlines, write 등 다양한 메서드 활용\n",
    "with open(Path.cwd() / 'attachments' / 'guests.txt', mode='r') as file:\n",
    "    print(file.read())"
   ]
  },
  {
   "cell_type": "code",
   "execution_count": 40,
   "metadata": {},
   "outputs": [],
   "source": [
    "# shelve 모듈로 변수 저장 -> 파이썬의 변수들을 이진 파일에 저장하는 형태\n",
    "# Path객체로는 지정이 안되는듯? -> Path객체를 문자열로 바꿔줘야\n",
    "str_path_shelf = str(Path.cwd() / 'result_attachments' / 'mydata')\n",
    "shelfFile = shelve.open(str_path_shelf)\n",
    "cats = ['Zophie', 'Pooka', 'Simon']\n",
    "shelfFile['cats'] = cats\n",
    "shelfFile.close()"
   ]
  },
  {
   "cell_type": "code",
   "execution_count": 42,
   "metadata": {},
   "outputs": [],
   "source": [
    "# 추후 shelf파일에서 데이터를 다시 열어 검색\n",
    "# 딕셔너리처럼 keys()와 values() 메서드를 가짐\n",
    "shelfFile = shelve.open(str_path_shelf)\n",
    "shelfFile['cats']\n",
    "shelfFile.close()"
   ]
  },
  {
   "cell_type": "code",
   "execution_count": null,
   "metadata": {},
   "outputs": [],
   "source": []
  }
 ],
 "metadata": {
  "kernelspec": {
   "display_name": "Python 3.9.12 ('base')",
   "language": "python",
   "name": "python3"
  },
  "language_info": {
   "codemirror_mode": {
    "name": "ipython",
    "version": 3
   },
   "file_extension": ".py",
   "mimetype": "text/x-python",
   "name": "python",
   "nbconvert_exporter": "python",
   "pygments_lexer": "ipython3",
   "version": "3.9.12"
  },
  "orig_nbformat": 4,
  "vscode": {
   "interpreter": {
    "hash": "610a6f344c2137faf927ea819c63f6cee33a2c04455044b28099f39fe9722347"
   }
  }
 },
 "nbformat": 4,
 "nbformat_minor": 2
}
