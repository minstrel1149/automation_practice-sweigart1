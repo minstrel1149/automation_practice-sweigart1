{
 "cells": [
  {
   "cell_type": "code",
   "execution_count": 56,
   "metadata": {},
   "outputs": [],
   "source": [
    "# 브라우저로 특정 페이지를 여는 모듈 - webbrowser\n",
    "import webbrowser\n",
    "# 인터넷에서 파일과 웹 페이지를 다운로드 하는 모듈 - requests\n",
    "import requests\n",
    "# HTML을 구문분석(parsing)하는 라이브러리 - bs4\n",
    "from bs4 import BeautifulSoup as BS\n",
    "# 웹 브라우저를 띄우고 제어하는 라이브러리 - selenium\n",
    "from selenium import webdriver\n",
    "from selenium.webdriver.chrome.service import Service\n",
    "from webdriver_manager.chrome import ChromeDriverManager\n",
    "from selenium.webdriver.common.by import By\n",
    "from selenium.webdriver.common.keys import Keys\n",
    "from selenium.webdriver.chrome.options import Options\n",
    "# urlopen으로 직접 열 수도 있는데.. requests로 다운받아놓는게 더 안전한듯?\n",
    "from urllib.request import urlopen\n",
    "import pyinputplus as pyip\n",
    "from pathlib import Path"
   ]
  },
  {
   "cell_type": "code",
   "execution_count": 5,
   "metadata": {},
   "outputs": [
    {
     "name": "stdout",
     "output_type": "stream",
     "text": [
      "찾는 주소를 입력해주세요."
     ]
    },
    {
     "data": {
      "text/plain": [
       "True"
      ]
     },
     "execution_count": 5,
     "metadata": {},
     "output_type": "execute_result"
    }
   ],
   "source": [
    "# webbroswer.open()함수 활용\n",
    "# 주소의 법칙을 알면 pyinputplus 및 git bash(sys.argv[])와 연계 가능\n",
    "findAddress = pyip.inputStr(prompt='찾는 주소를 입력해주세요.')\n",
    "webbrowser.open(f'https://map.naver.com/v5/search/{findAddress}/place')"
   ]
  },
  {
   "cell_type": "code",
   "execution_count": 8,
   "metadata": {},
   "outputs": [
    {
     "name": "stdout",
     "output_type": "stream",
     "text": [
      "The Project Gutenberg EBook of Romeo and Juliet, by William Shakespeare\n",
      "\n",
      "This eBook is for the use\n"
     ]
    }
   ],
   "source": [
    "# request.get()함수는 다운로드할 url 문자열 -> Response객체로 반환\n",
    "res = requests.get('https://automatetheboringstuff.com/files/rj.txt')\n",
    "# 다운로드 성공 여부 확인을 위해 res.raise_for_status 활용\n",
    "res.raise_for_status\n",
    "print(res.text[:100])"
   ]
  },
  {
   "cell_type": "code",
   "execution_count": 17,
   "metadata": {},
   "outputs": [
    {
     "name": "stdout",
     "output_type": "stream",
     "text": [
      "The Project Gutenberg EBook of Romeo and Juliet, by William Shakespeare\n",
      "\n",
      "This eBook is for the use of anyone anywhere at no cost and with\n",
      "almost no re\n"
     ]
    }
   ],
   "source": [
    "p1 = Path.cwd() / 'result_attachments'\n",
    "# 이진파일 쓰기 모드로 열어야 -> mode='wb'\n",
    "with open(p1 / 'RomeoAndJuliet.txt', mode='wb') as playFile:\n",
    "    # res.iter_content()를 이용하여 반복문을 돌 때 마다 chunk를 반환 -> 각 chunk는 바이트 자료형\n",
    "    for chunk in res.iter_content(100000):\n",
    "        playFile.write(chunk)\n",
    "playFileRead = open(p1 / 'RomeoAndJuliet.txt', mode='r')\n",
    "print(playFileRead.read()[:150])"
   ]
  },
  {
   "cell_type": "code",
   "execution_count": 19,
   "metadata": {},
   "outputs": [
    {
     "data": {
      "text/plain": [
       "bs4.BeautifulSoup"
      ]
     },
     "execution_count": 19,
     "metadata": {},
     "output_type": "execute_result"
    }
   ],
   "source": [
    "res = requests.get('https://nostarch.com')\n",
    "res.raise_for_status()\n",
    "# html = urlopen(url)을 통해 res.text 대신 html 집어넣는 것도 가능하긴 한데..\n",
    "bsObj = BS(res.text, 'html.parser')\n",
    "type(bsObj)"
   ]
  },
  {
   "cell_type": "code",
   "execution_count": 20,
   "metadata": {},
   "outputs": [],
   "source": [
    "# BeautifulSoup 객체에서의 메서드들 -> find, find_all, select(선택자 패턴) 등\n",
    "# bsObj.select('div') - 이름이 div인 모든 요소\n",
    "# bsObj.select('#author') - id 속성이 author인 요소\n",
    "# bsObj.select('.notice') - CSS class 속성의 이름이 notice인 요소\n",
    "# bsObj.select('div span') - <div> 요소 내 존재하는 요소 중 이름이 <span>인 모든 요소\n",
    "# bsObj.select('input[name]') - 이름이 <input>인 요소 중 name 속성 값이 있는 모든 요소\n",
    "# bsObj.select('input[type=\"button\"]') - 이름이 <input>인 요소 중 type 속성 값이 button인 경우\n",
    "# 다양한 선택자 패턴 결합 가능"
   ]
  },
  {
   "cell_type": "code",
   "execution_count": 33,
   "metadata": {},
   "outputs": [
    {
     "data": {
      "text/plain": [
       "'Skip to main content'"
      ]
     },
     "execution_count": 33,
     "metadata": {},
     "output_type": "execute_result"
    }
   ],
   "source": [
    "# 선택자 패턴으로 div 추출, text 메서드 활용\n",
    "bsObj.select('div')[0].text.strip()"
   ]
  },
  {
   "cell_type": "code",
   "execution_count": 46,
   "metadata": {},
   "outputs": [
    {
     "data": {
      "text/plain": [
       "'skip-link'"
      ]
     },
     "execution_count": 46,
     "metadata": {},
     "output_type": "execute_result"
    }
   ],
   "source": [
    "# get() 메서드를 활용하여 해당 속성 값을 반환\n",
    "bsObj.select('#skip-link')[0].get('id')"
   ]
  },
  {
   "cell_type": "code",
   "execution_count": 54,
   "metadata": {},
   "outputs": [
    {
     "data": {
      "text/plain": [
       "['Open Circuits Cover',\n",
       " 'Engineering in Plain Sight Cover',\n",
       " 'Hacking APIs Cover',\n",
       " 'DevOps for the Desperate Cover',\n",
       " 'The Art of Mac Malware Cover',\n",
       " 'How to Hack Like a Legend Cover',\n",
       " 'The Book of Recursion',\n",
       " 'The Art of Clean Code',\n",
       " 'Python for Data Science cover',\n",
       " 'Bare Metal C cover',\n",
       " 'Androids Cover',\n",
       " 'DevOps for the Desperate Cover',\n",
       " 'The Art of Mac Malware Cover',\n",
       " \"An Artist's Guide to Programming Cover\",\n",
       " 'Practical Social Engineering Cover',\n",
       " 'Hacking APIs Cover',\n",
       " 'The Art of Cyberwarfare',\n",
       " 'Practical SQL, 2nd Edition Cover',\n",
       " 'Go H*ck Yourself Cover',\n",
       " 'Practical Doomsday',\n",
       " 'The Book of Kubernetes Cover',\n",
       " 'The Book of Dash Cover',\n",
       " 'Dive Into Systems Cover',\n",
       " 'Strange Code Cover',\n",
       " 'How to Hack Like a Legend Cover',\n",
       " 'The LEGO Engineer Cover',\n",
       " 'Open Circuits Cover',\n",
       " 'Engineering in Plain Sight Cover',\n",
       " 'Cybersecurity for Small Networks Cover',\n",
       " 'AVR Workshop Cover',\n",
       " 'Python for Kids, 2nd Edition Cover',\n",
       " 'Python Crash Course 3rd Edition Cover',\n",
       " 'The Art of Machine Learning Cover']"
      ]
     },
     "execution_count": 54,
     "metadata": {},
     "output_type": "execute_result"
    }
   ],
   "source": [
    "# find_all()을 활용하여 해당 사이트의 책 이미지들 가져오기\n",
    "# list comprehension과 간편 조건문 이용하여 책 제목들 추출\n",
    "[x.get('title') for x in bsObj.find_all('img', {'class':'img-responsive'}) if x.get('title') is not None]"
   ]
  },
  {
   "cell_type": "code",
   "execution_count": 57,
   "metadata": {},
   "outputs": [
    {
     "name": "stdout",
     "output_type": "stream",
     "text": [
      "\n"
     ]
    },
    {
     "name": "stderr",
     "output_type": "stream",
     "text": [
      "[WDM] - ====== WebDriver manager ======\n",
      "[WDM] - Current google-chrome version is 103.0.5060\n",
      "[WDM] - Get LATEST chromedriver version for 103.0.5060 google-chrome\n",
      "[WDM] - About to download new driver from https://chromedriver.storage.googleapis.com/103.0.5060.134/chromedriver_win32.zip\n",
      "[WDM] - Driver has been saved in cache [C:\\Users\\admin\\.wdm\\drivers\\chromedriver\\win32\\103.0.5060.134]\n",
      "C:\\Users\\admin\\AppData\\Local\\Temp\\ipykernel_7396\\4142192968.py:6: DeprecationWarning: use options instead of chrome_options\n",
      "  driver = webdriver.Chrome(service=Service(ChromeDriverManager().install()), chrome_options=options)\n"
     ]
    }
   ],
   "source": [
    "# Options() 및 add_argument 활용하여 여러 옵션 추가 가능(by 업무 자동화 - bhban)\n",
    "options = Options()\n",
    "# add_argument 안에 'headless' 넣으면 헤드리스 자동화 가능\n",
    "options.add_argument('--window-size=1600,900')\n",
    "# 책 대신 원래 쓰던 방식 활용 -> ChromeDriverManager().install()을 통해 직접 설치\n",
    "driver = webdriver.Chrome(service=Service(ChromeDriverManager().install()), chrome_options=options)"
   ]
  },
  {
   "cell_type": "code",
   "execution_count": 58,
   "metadata": {},
   "outputs": [],
   "source": [
    "driver.get('https://inventwithpython.com')\n",
    "# selenium 드라이버에서 page객체 생성 가능 -> 이걸 통해 BeautifulSoup에서 활용 가능\n",
    "page = driver.page_source\n",
    "bsObj = BS(page, 'html.parser')"
   ]
  },
  {
   "cell_type": "code",
   "execution_count": 60,
   "metadata": {},
   "outputs": [
    {
     "name": "stdout",
     "output_type": "stream",
     "text": [
      "img - find!\n"
     ]
    }
   ],
   "source": [
    "# 페이지에서 요소를 찾는 메서드로 driver.find_element 활용 가능\n",
    "# By.CLASS_NAME, By.ID, By.CSS_SELECTOR, By.LINK_TEXT, By.NAME, By.TAG_NAME, By.XPATH 등\n",
    "try:\n",
    "    elem = driver.find_element(By.CLASS_NAME, 'cover-thumb')\n",
    "    print(f'{elem.tag_name} - find!')\n",
    "except:\n",
    "    print('There is no element.')"
   ]
  },
  {
   "cell_type": "code",
   "execution_count": 61,
   "metadata": {},
   "outputs": [],
   "source": [
    "try:\n",
    "    # By.LINK_TEXT 활용하여 해당 텍스트가 있는 곳을 찾을 수가 있으며,\n",
    "    linkElem = driver.find_element(By.LINK_TEXT, 'Read Online for Free')\n",
    "    # click() 메서드를 통해 클릭 가능\n",
    "    linkElem.click()\n",
    "except:\n",
    "    print('There is no element.')"
   ]
  },
  {
   "cell_type": "code",
   "execution_count": 62,
   "metadata": {},
   "outputs": [],
   "source": [
    "driver.get('https://login.metafilter.com')\n",
    "# By.ID를 통해 id가 'user_name'인 것을 찾고\n",
    "userElem = driver.find_element(By.ID, 'user_name')\n",
    "# send_keys() 메서드를 통해 내용 입력\n",
    "# id 등을 지울 때는 clear() 메서드를 활용하면 될듯\n",
    "userElem.send_keys('id12345')\n",
    "pwElem = driver.find_element(By.ID, 'user_pass')\n",
    "pwElem.send_keys('password12345')\n",
    "# submit() 메서드를 통해 로그인을 진행(로그인 버튼을 찾아서 클릭하는 걸 간단히 하는 개념)\n",
    "pwElem.submit()"
   ]
  },
  {
   "cell_type": "code",
   "execution_count": 64,
   "metadata": {},
   "outputs": [],
   "source": [
    "driver.get('https://nostarch.com')\n",
    "# By.TAG_NAME을 'html'로 설정하여 사이트 자체를 컨트롤할 수 있게 만들고\n",
    "htmlElem = driver.find_element(By.TAG_NAME, 'html')\n",
    "# 'Keys.'를 활용한 특수 키를 지정하여 원하는 방법으로 진행\n",
    "# Keys.DOWN, Keys.UP, Keys.LEFT, Keys.RIGHT, Keys.ENTER, Keys.RETURN, Keys.HOME, Keys.END, Keys.PAGE_DOWN, Keys.PAGE_UP\n",
    "# Keys.ESCAPE(ESC키), Keys.BACK_SPACE, Keys.DELETE, Keys.TAB 등\n",
    "htmlElem.send_keys(Keys.END)"
   ]
  },
  {
   "cell_type": "code",
   "execution_count": null,
   "metadata": {},
   "outputs": [],
   "source": [
    "# driver.back(), driver.forward(), driver.refresh(), driver.quit() 등 driver 객체를 직접 컨트롤 하는 것도 가능"
   ]
  }
 ],
 "metadata": {
  "kernelspec": {
   "display_name": "Python 3.9.12 ('base')",
   "language": "python",
   "name": "python3"
  },
  "language_info": {
   "codemirror_mode": {
    "name": "ipython",
    "version": 3
   },
   "file_extension": ".py",
   "mimetype": "text/x-python",
   "name": "python",
   "nbconvert_exporter": "python",
   "pygments_lexer": "ipython3",
   "version": "3.9.12 (main, Apr  4 2022, 05:22:27) [MSC v.1916 64 bit (AMD64)]"
  },
  "orig_nbformat": 4,
  "vscode": {
   "interpreter": {
    "hash": "610a6f344c2137faf927ea819c63f6cee33a2c04455044b28099f39fe9722347"
   }
  }
 },
 "nbformat": 4,
 "nbformat_minor": 2
}
