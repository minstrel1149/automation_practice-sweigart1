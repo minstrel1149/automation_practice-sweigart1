{
 "cells": [
  {
   "cell_type": "code",
   "execution_count": 18,
   "metadata": {},
   "outputs": [],
   "source": [
    "# 브라우저로 특정 페이지를 여는 모듈 - webbrowser\n",
    "import webbrowser\n",
    "# 인터넷에서 파일과 웹 페이지를 다운로드 하는 모듈 - requests\n",
    "import requests\n",
    "# HTML을 구문분석(parsing)하는 라이브러리 - bs4\n",
    "from bs4 import BeautifulSoup as BS\n",
    "# 웹 브라우저를 띄우고 제어하는 라이브러리 - selenium\n",
    "import selenium\n",
    "# urlopen으로 직접 열 수도 있는데.. requests로 다운받아놓는게 더 안전한듯?\n",
    "from urllib.request import urlopen\n",
    "import pyinputplus as pyip\n",
    "from pathlib import Path"
   ]
  },
  {
   "cell_type": "code",
   "execution_count": 5,
   "metadata": {},
   "outputs": [
    {
     "name": "stdout",
     "output_type": "stream",
     "text": [
      "찾는 주소를 입력해주세요."
     ]
    },
    {
     "data": {
      "text/plain": [
       "True"
      ]
     },
     "execution_count": 5,
     "metadata": {},
     "output_type": "execute_result"
    }
   ],
   "source": [
    "# webbroswer.open()함수 활용\n",
    "# 주소의 법칙을 알면 pyinputplus 및 git bash(sys.argv[])와 연계 가능\n",
    "findAddress = pyip.inputStr(prompt='찾는 주소를 입력해주세요.')\n",
    "webbrowser.open(f'https://map.naver.com/v5/search/{findAddress}/place')"
   ]
  },
  {
   "cell_type": "code",
   "execution_count": 8,
   "metadata": {},
   "outputs": [
    {
     "name": "stdout",
     "output_type": "stream",
     "text": [
      "The Project Gutenberg EBook of Romeo and Juliet, by William Shakespeare\n",
      "\n",
      "This eBook is for the use\n"
     ]
    }
   ],
   "source": [
    "# request.get()함수는 다운로드할 url 문자열 -> Response객체로 반환\n",
    "res = requests.get('https://automatetheboringstuff.com/files/rj.txt')\n",
    "# 다운로드 성공 여부 확인을 위해 res.raise_for_status 활용\n",
    "res.raise_for_status\n",
    "print(res.text[:100])"
   ]
  },
  {
   "cell_type": "code",
   "execution_count": 17,
   "metadata": {},
   "outputs": [
    {
     "name": "stdout",
     "output_type": "stream",
     "text": [
      "The Project Gutenberg EBook of Romeo and Juliet, by William Shakespeare\n",
      "\n",
      "This eBook is for the use of anyone anywhere at no cost and with\n",
      "almost no re\n"
     ]
    }
   ],
   "source": [
    "p1 = Path.cwd() / 'result_attachments'\n",
    "# 이진파일 쓰기 모드로 열어야 -> mode='wb'\n",
    "with open(p1 / 'RomeoAndJuliet.txt', mode='wb') as playFile:\n",
    "    # res.iter_content()를 이용하여 반복문을 돌 때 마다 chunk를 반환 -> 각 chunk는 바이트 자료형\n",
    "    for chunk in res.iter_content(100000):\n",
    "        playFile.write(chunk)\n",
    "playFileRead = open(p1 / 'RomeoAndJuliet.txt', mode='r')\n",
    "print(playFileRead.read()[:150])"
   ]
  },
  {
   "cell_type": "code",
   "execution_count": 19,
   "metadata": {},
   "outputs": [
    {
     "data": {
      "text/plain": [
       "bs4.BeautifulSoup"
      ]
     },
     "execution_count": 19,
     "metadata": {},
     "output_type": "execute_result"
    }
   ],
   "source": [
    "res = requests.get('https://nostarch.com')\n",
    "res.raise_for_status()\n",
    "# html = urlopen(url)을 통해 res.text 대신 html 집어넣는 것도 가능하긴 한데..\n",
    "bsObj = BS(res.text, 'html.parser')\n",
    "type(bsObj)"
   ]
  },
  {
   "cell_type": "code",
   "execution_count": 20,
   "metadata": {},
   "outputs": [],
   "source": [
    "# BeautifulSoup 객체에서의 메서드들 -> find, find_all, select(선택자 패턴) 등\n",
    "# bsObj.select('div') - 이름이 div인 모든 요소\n",
    "# bsObj.select('#author') - id 속성이 author인 요소\n",
    "# bsObj.select('.notice') - CSS class 속성의 이름이 notice인 요소\n",
    "# bsObj.select('div span') - <div> 요소 내 존재하는 요소 중 이름이 <span>인 모든 요소\n",
    "# bsObj.select('input[name]') - 이름이 <input>인 요소 중 name 속성 값이 있는 모든 요소\n",
    "# bsObj.select('input[type=\"button\"]') - 이름이 <input>인 요소 중 type 속성 값이 button인 경우\n",
    "# 다양한 선택자 패턴 결합 가능"
   ]
  },
  {
   "cell_type": "code",
   "execution_count": 33,
   "metadata": {},
   "outputs": [
    {
     "data": {
      "text/plain": [
       "'Skip to main content'"
      ]
     },
     "execution_count": 33,
     "metadata": {},
     "output_type": "execute_result"
    }
   ],
   "source": [
    "# 선택자 패턴으로 div 추출, text 메서드 활용\n",
    "bsObj.select('div')[0].text.strip()"
   ]
  },
  {
   "cell_type": "code",
   "execution_count": 46,
   "metadata": {},
   "outputs": [
    {
     "data": {
      "text/plain": [
       "'skip-link'"
      ]
     },
     "execution_count": 46,
     "metadata": {},
     "output_type": "execute_result"
    }
   ],
   "source": [
    "# get() 메서드를 활용하여 해당 속성 값을 반환\n",
    "bsObj.select('#skip-link')[0].get('id')"
   ]
  },
  {
   "cell_type": "code",
   "execution_count": null,
   "metadata": {},
   "outputs": [],
   "source": []
  }
 ],
 "metadata": {
  "kernelspec": {
   "display_name": "Python 3.9.12 ('base')",
   "language": "python",
   "name": "python3"
  },
  "language_info": {
   "codemirror_mode": {
    "name": "ipython",
    "version": 3
   },
   "file_extension": ".py",
   "mimetype": "text/x-python",
   "name": "python",
   "nbconvert_exporter": "python",
   "pygments_lexer": "ipython3",
   "version": "3.9.12"
  },
  "orig_nbformat": 4,
  "vscode": {
   "interpreter": {
    "hash": "610a6f344c2137faf927ea819c63f6cee33a2c04455044b28099f39fe9722347"
   }
  }
 },
 "nbformat": 4,
 "nbformat_minor": 2
}
