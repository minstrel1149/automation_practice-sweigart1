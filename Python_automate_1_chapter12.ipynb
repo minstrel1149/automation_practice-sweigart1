{
 "cells": [
  {
   "cell_type": "code",
   "execution_count": 2,
   "metadata": {},
   "outputs": [],
   "source": [
    "# 브라우저로 특정 페이지를 여는 모듈 - webbrowser\n",
    "import webbrowser\n",
    "# 인터넷에서 파일과 웹 페이지를 다운로드 하는 모듈 - requests\n",
    "import requests\n",
    "# HTML을 구문분석(parsing)하는 라이브러리 - bs4\n",
    "from bs4 import BeautifulSoup as BS\n",
    "# 웹 브라우저를 띄우고 제어하는 라이브러리 - selenium\n",
    "import selenium\n",
    "import pyinputplus as pyip"
   ]
  },
  {
   "cell_type": "code",
   "execution_count": 5,
   "metadata": {},
   "outputs": [
    {
     "name": "stdout",
     "output_type": "stream",
     "text": [
      "찾는 주소를 입력해주세요."
     ]
    },
    {
     "data": {
      "text/plain": [
       "True"
      ]
     },
     "execution_count": 5,
     "metadata": {},
     "output_type": "execute_result"
    }
   ],
   "source": [
    "# webbroswer.open()함수 활용\n",
    "# 주소의 법칙을 알면 pyinputplus 및 git bash(sys.argv[])와 연계 가능\n",
    "findAddress = pyip.inputStr(prompt='찾는 주소를 입력해주세요.')\n",
    "webbrowser.open(f'https://map.naver.com/v5/search/{findAddress}/place')"
   ]
  },
  {
   "cell_type": "code",
   "execution_count": 8,
   "metadata": {},
   "outputs": [
    {
     "name": "stdout",
     "output_type": "stream",
     "text": [
      "The Project Gutenberg EBook of Romeo and Juliet, by William Shakespeare\n",
      "\n",
      "This eBook is for the use\n"
     ]
    }
   ],
   "source": [
    "# request.get()함수는 다운로드할 url 문자열 -> Response객체로 반환\n",
    "res = requests.get('https://automatetheboringstuff.com/files/rj.txt')\n",
    "# 다운로드 성공 여부 확인을 위해 res.raise_for_status 활용\n",
    "res.raise_for_status\n",
    "print(res.text[:100])"
   ]
  },
  {
   "cell_type": "code",
   "execution_count": null,
   "metadata": {},
   "outputs": [],
   "source": []
  }
 ],
 "metadata": {
  "kernelspec": {
   "display_name": "Python 3.9.12 ('base')",
   "language": "python",
   "name": "python3"
  },
  "language_info": {
   "codemirror_mode": {
    "name": "ipython",
    "version": 3
   },
   "file_extension": ".py",
   "mimetype": "text/x-python",
   "name": "python",
   "nbconvert_exporter": "python",
   "pygments_lexer": "ipython3",
   "version": "3.9.12"
  },
  "orig_nbformat": 4,
  "vscode": {
   "interpreter": {
    "hash": "610a6f344c2137faf927ea819c63f6cee33a2c04455044b28099f39fe9722347"
   }
  }
 },
 "nbformat": 4,
 "nbformat_minor": 2
}
