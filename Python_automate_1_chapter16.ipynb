{
 "cells": [
  {
   "cell_type": "code",
   "execution_count": 2,
   "metadata": {},
   "outputs": [],
   "source": [
    "# csv -> comma-separated values\n",
    "import csv\n",
    "# json -> javascript object notation\n",
    "import json\n",
    "from pathlib import Path"
   ]
  },
  {
   "cell_type": "code",
   "execution_count": 3,
   "metadata": {},
   "outputs": [],
   "source": [
    "p1 = Path.cwd() / 'attachments'\n",
    "p2 = Path.cwd() / 'result_attachments'"
   ]
  },
  {
   "cell_type": "code",
   "execution_count": 8,
   "metadata": {},
   "outputs": [
    {
     "data": {
      "text/plain": [
       "[['4/5/2014 13:34', 'Apples', '73'],\n",
       " ['4/5/2014 3:41', 'Cherries', '85'],\n",
       " ['4/6/2014 12:46', 'Pears', '14'],\n",
       " ['4/8/2014 8:59', 'Oranges', '52'],\n",
       " ['4/10/2014 2:07', 'Apples', '152'],\n",
       " ['4/10/2014 18:10', 'Bananas', '23'],\n",
       " ['4/10/2014 2:40', 'Strawberries', '98']]"
      ]
     },
     "execution_count": 8,
     "metadata": {},
     "output_type": "execute_result"
    }
   ],
   "source": [
    "# csv파일은 이진 형식이 아니라 텍스트 형식이므로 읽기 전용 모드로 활용\n",
    "fileObj = open(p1 / 'example.csv')\n",
    "# csv.reader()를 통해 csv읽기 객체 생성\n",
    "csvReader = csv.reader(fileObj)\n",
    "# 리스트를 활용하여 일반 파이썬 중첩 리스트 형식의 데이터로 추출\n",
    "csvData = list(csvReader)\n",
    "csvData"
   ]
  },
  {
   "cell_type": "code",
   "execution_count": 9,
   "metadata": {},
   "outputs": [
    {
     "data": {
      "text/plain": [
       "7"
      ]
     },
     "execution_count": 9,
     "metadata": {},
     "output_type": "execute_result"
    }
   ],
   "source": [
    "# line_num 메서드를 통해 현재 행의 번호 출력 가능\n",
    "# 한번 읽어들여서 Data로 추출하고 나면 현재 행이 마지막 행으로 전환 -> 순환문을 위해서는 다시 읽어야\n",
    "csvReader.line_num"
   ]
  },
  {
   "cell_type": "code",
   "execution_count": 10,
   "metadata": {},
   "outputs": [],
   "source": [
    "# csv.writer() 함수를 통해 csv쓰기 객체 생성 가능\n",
    "# newline=''를 넣어야 한 줄씩 띄어지는 현상 방지\n",
    "with open(p2 / 'output.csv', mode='w', newline='') as outputFileObj:\n",
    "    csvWriter = csv.writer(outputFileObj)\n",
    "    # writerow() 메서드를 통해 내용 추가 가능(한 줄)\n",
    "    csvWriter.writerow(['spam', 'egg', 'bacon', 'ham'])\n",
    "    # writerows() 메서드로 여러 줄도 내용 추가 가능\n",
    "    csvWriter.writerows([['kim', 'lee', 'park', 'choi'], [1, 3, 5, 7]])\n"
   ]
  },
  {
   "cell_type": "code",
   "execution_count": 11,
   "metadata": {},
   "outputs": [],
   "source": [
    "# csv.writer() 활용 시 delimiter와 lineterminator를 통해 셀 구분 및 줄 간격 조절 가능\n",
    "# delimiter를 탭으로 지정했기 때문에 확장자가 tsv(tab-separated values)\n",
    "with open(p2 / 'example.tsv', mode='w', newline='') as outputFileObj:\n",
    "    csvWriter = csv.writer(outputFileObj, delimiter='\\t', lineterminator='\\n\\n')\n",
    "    csvWriter.writerows([['spam', 'egg', 'bacon', 'ham'], ['kim', 'lee', 'park', 'choi'], [1, 3, 5, 7]])"
   ]
  },
  {
   "cell_type": "code",
   "execution_count": 13,
   "metadata": {},
   "outputs": [
    {
     "data": {
      "text/plain": [
       "[{'Timestamp': '4/5/2014 13:34', 'Fruit': 'Apples', 'Quantity': '73'},\n",
       " {'Timestamp': '4/5/2014 3:41', 'Fruit': 'Cherries', 'Quantity': '85'},\n",
       " {'Timestamp': '4/6/2014 12:46', 'Fruit': 'Pears', 'Quantity': '14'},\n",
       " {'Timestamp': '4/8/2014 8:59', 'Fruit': 'Oranges', 'Quantity': '52'},\n",
       " {'Timestamp': '4/10/2014 2:07', 'Fruit': 'Apples', 'Quantity': '152'},\n",
       " {'Timestamp': '4/10/2014 18:10', 'Fruit': 'Bananas', 'Quantity': '23'},\n",
       " {'Timestamp': '4/10/2014 2:40', 'Fruit': 'Strawberries', 'Quantity': '98'}]"
      ]
     },
     "execution_count": 13,
     "metadata": {},
     "output_type": "execute_result"
    }
   ],
   "source": [
    "# 헤더 행이 있는 csv 파일의 경우 DictReader 혹은 DictWriter 객체 사용 가능 -> 내부 값이 리스트가 아닌 딕셔너리로 출력\n",
    "fileObj = open(p1 / 'exampleWithHeader.csv')\n",
    "csvDictReader = csv.DictReader(fileObj)\n",
    "# 전체 값은 리스트로 출력해야\n",
    "csvDictData = list(csvDictReader)\n",
    "csvDictData"
   ]
  },
  {
   "cell_type": "code",
   "execution_count": 15,
   "metadata": {},
   "outputs": [
    {
     "data": {
      "text/plain": [
       "[{'time': '4/5/2014 13:34', 'name': 'Apples', 'amount': '73'},\n",
       " {'time': '4/5/2014 3:41', 'name': 'Cherries', 'amount': '85'},\n",
       " {'time': '4/6/2014 12:46', 'name': 'Pears', 'amount': '14'},\n",
       " {'time': '4/8/2014 8:59', 'name': 'Oranges', 'amount': '52'},\n",
       " {'time': '4/10/2014 2:07', 'name': 'Apples', 'amount': '152'},\n",
       " {'time': '4/10/2014 18:10', 'name': 'Bananas', 'amount': '23'},\n",
       " {'time': '4/10/2014 2:40', 'name': 'Strawberries', 'amount': '98'}]"
      ]
     },
     "execution_count": 15,
     "metadata": {},
     "output_type": "execute_result"
    }
   ],
   "source": [
    "# 헤더 정보가 없는 경우에는 DictReader 객체를 사용할 경우 첫 행을 딕셔너리 키로 사용\n",
    "fileObj = open(p1 / 'example.csv')\n",
    "# DictReader() 함수에 두 번째 인자로 헤더 이름 전달 가능 -> 위치 전달인자로 사용해야\n",
    "csvDictReader = csv.DictReader(fileObj, ['time', 'name', 'amount'])\n",
    "csvDictData = list(csvDictReader)\n",
    "csvDictData"
   ]
  },
  {
   "cell_type": "code",
   "execution_count": 16,
   "metadata": {},
   "outputs": [],
   "source": [
    "# DictWriter 객체는 csv파일을 생성하기 위해 딕셔너리 사용\n",
    "with open(p2 / 'output2.csv', mode='w', newline='') as outputFileObj:\n",
    "    # 두 번째 인자에 위치 전달인자로 헤더 행 지정\n",
    "    csvDictWriter = csv.DictWriter(outputFileObj, ['Name', 'Pet', 'Phone'])\n",
    "    # writeheader() 메서드를 통해 헤더 행 삽입\n",
    "    csvDictWriter.writeheader()\n",
    "    # writerows() 메서드에 딕셔너리들의 리스트 삽입\n",
    "    csvDictWriter.writerows([{'Name': 'Alice', 'Pet': 'cat', 'Phone': '555-1234'}, {'Name': 'Bob', 'Phone': '555-9999'}, {'Phone': '555-5555', 'Name': 'Carol', 'Pet':'dog'}])"
   ]
  },
  {
   "cell_type": "code",
   "execution_count": 18,
   "metadata": {},
   "outputs": [
    {
     "data": {
      "text/plain": [
       "{'name': 'Zophie', 'isCat': True, 'miceCaught': 0, 'felineIQ': None}"
      ]
     },
     "execution_count": 18,
     "metadata": {},
     "output_type": "execute_result"
    }
   ],
   "source": [
    "# API가 반환하는 값은 json 등의 형식으로 되어 있음 -> API를 사용하여 원시 데이터 스크랩, 데이터 가져오기 등 가능\n",
    "# json.loads(), json.dumps() 함수로 json 데이터와 파이썬 값을 서로 변환\n",
    "stringOfJsonData = '{\"name\": \"Zophie\", \"isCat\": true, \"miceCaught\": 0, \"felineIQ\": null}'\n",
    "jsonToPython = json.loads(stringOfJsonData)\n",
    "# json.loads()는 null 값을 None으로 반환\n",
    "jsonToPython"
   ]
  },
  {
   "cell_type": "code",
   "execution_count": 19,
   "metadata": {},
   "outputs": [
    {
     "data": {
      "text/plain": [
       "'{\"isCat\": true, \"miceCaught\": 0, \"name\": \"Zophie\", \"felineIQ\": null}'"
      ]
     },
     "execution_count": 19,
     "metadata": {},
     "output_type": "execute_result"
    }
   ],
   "source": [
    "# json.dumps()는 문자열을 넘기다(dump string)의 의미\n",
    "pythonValue = {'isCat': True, 'miceCaught': 0, 'name': 'Zophie', 'felineIQ': None}\n",
    "pythonToJson = json.dumps(pythonValue)\n",
    "# json.dumps()는 파이썬의 None 값을 null로 반환\n",
    "pythonToJson"
   ]
  },
  {
   "cell_type": "code",
   "execution_count": null,
   "metadata": {},
   "outputs": [],
   "source": []
  }
 ],
 "metadata": {
  "kernelspec": {
   "display_name": "Python 3.9.12 ('base')",
   "language": "python",
   "name": "python3"
  },
  "language_info": {
   "codemirror_mode": {
    "name": "ipython",
    "version": 3
   },
   "file_extension": ".py",
   "mimetype": "text/x-python",
   "name": "python",
   "nbconvert_exporter": "python",
   "pygments_lexer": "ipython3",
   "version": "3.9.12"
  },
  "orig_nbformat": 4,
  "vscode": {
   "interpreter": {
    "hash": "610a6f344c2137faf927ea819c63f6cee33a2c04455044b28099f39fe9722347"
   }
  }
 },
 "nbformat": 4,
 "nbformat_minor": 2
}
