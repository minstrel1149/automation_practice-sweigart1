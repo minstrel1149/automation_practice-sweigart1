{
 "cells": [
  {
   "cell_type": "code",
   "execution_count": 2,
   "id": "05414ac8",
   "metadata": {},
   "outputs": [],
   "source": [
    "# 정규표현식 관련 모듈\n",
    "import re"
   ]
  },
  {
   "cell_type": "code",
   "execution_count": 3,
   "id": "033fdf5d",
   "metadata": {},
   "outputs": [
    {
     "data": {
      "text/plain": [
       "'010-0000-0000'"
      ]
     },
     "execution_count": 3,
     "metadata": {},
     "output_type": "execute_result"
    }
   ],
   "source": [
    "# 정규표현식을 나타내는 문자열을 re.compile()에 전달하여 Regex 패턴 객체를 생성\n",
    "phoneNumRegex = re.compile(r'\\d{3}-\\d{3,4}-\\d{4}')\n",
    "# search 메서드를 활용하여 패턴 일치 부분 검색\n",
    "mo = phoneNumRegex.search('My number is 010-0000-0000')\n",
    "# group() 메서드를 활용하여 일치 텍스트 반환\n",
    "mo.group()"
   ]
  },
  {
   "cell_type": "code",
   "execution_count": 4,
   "id": "c7842e4d",
   "metadata": {},
   "outputs": [
    {
     "data": {
      "text/plain": [
       "('010', '0000-0000', '010-0000-0000')"
      ]
     },
     "execution_count": 4,
     "metadata": {},
     "output_type": "execute_result"
    }
   ],
   "source": [
    "# 괄호를 넣어 정규표현식에 그룹을 생성\n",
    "phoneNumRegex = re.compile(r'(\\d{3})-(\\d{3,4}-\\d{4})')\n",
    "mo = phoneNumRegex.search('My number is 010-0000-0000')\n",
    "# 1번이 첫 번째 그룹임을 파악(0이 아니라 1)\n",
    "mo.group(1), mo.group(2), mo.group()"
   ]
  },
  {
   "cell_type": "code",
   "execution_count": 5,
   "id": "3e89a1ab",
   "metadata": {},
   "outputs": [
    {
     "data": {
      "text/plain": [
       "('010', '0000-0000')"
      ]
     },
     "execution_count": 5,
     "metadata": {},
     "output_type": "execute_result"
    }
   ],
   "source": [
    "# 모든 그룹을 한꺼번에 얻고 싶다면 groups 활용 -> 튜플 형태로 반환\n",
    "mo.groups()"
   ]
  },
  {
   "cell_type": "code",
   "execution_count": 6,
   "id": "4d962bf2",
   "metadata": {},
   "outputs": [
    {
     "data": {
      "text/plain": [
       "('(010)', '0000-0000', '(010)0000-0000')"
      ]
     },
     "execution_count": 6,
     "metadata": {},
     "output_type": "execute_result"
    }
   ],
   "source": [
    "# 그룹 안에 괄호가 들어가야 할 경우 역슬래시를 통해 이스케이프\n",
    "phoneNumRegex = re.compile(r'(\\(\\d{3}\\))(\\d{3,4}-\\d{4})')\n",
    "mo = phoneNumRegex.search('My number is (010)0000-0000')\n",
    "mo.group(1), mo.group(2), mo.group()"
   ]
  },
  {
   "cell_type": "code",
   "execution_count": null,
   "id": "a404828d",
   "metadata": {},
   "outputs": [],
   "source": []
  }
 ],
 "metadata": {
  "kernelspec": {
   "display_name": "Python 3.9.12 ('base')",
   "language": "python",
   "name": "python3"
  },
  "language_info": {
   "codemirror_mode": {
    "name": "ipython",
    "version": 3
   },
   "file_extension": ".py",
   "mimetype": "text/x-python",
   "name": "python",
   "nbconvert_exporter": "python",
   "pygments_lexer": "ipython3",
   "version": "3.9.12"
  },
  "toc": {
   "base_numbering": 1,
   "nav_menu": {},
   "number_sections": true,
   "sideBar": true,
   "skip_h1_title": false,
   "title_cell": "Table of Contents",
   "title_sidebar": "Contents",
   "toc_cell": false,
   "toc_position": {},
   "toc_section_display": true,
   "toc_window_display": false
  },
  "vscode": {
   "interpreter": {
    "hash": "610a6f344c2137faf927ea819c63f6cee33a2c04455044b28099f39fe9722347"
   }
  }
 },
 "nbformat": 4,
 "nbformat_minor": 5
}
