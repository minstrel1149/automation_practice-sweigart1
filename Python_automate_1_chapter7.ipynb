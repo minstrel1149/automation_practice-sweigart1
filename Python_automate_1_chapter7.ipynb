{
 "cells": [
  {
   "cell_type": "code",
   "execution_count": 1,
   "id": "05414ac8",
   "metadata": {},
   "outputs": [],
   "source": [
    "# 정규표현식 관련 모듈\n",
    "import re"
   ]
  },
  {
   "cell_type": "code",
   "execution_count": 2,
   "id": "033fdf5d",
   "metadata": {},
   "outputs": [
    {
     "data": {
      "text/plain": [
       "'010-0000-0000'"
      ]
     },
     "execution_count": 2,
     "metadata": {},
     "output_type": "execute_result"
    }
   ],
   "source": [
    "# 정규표현식을 나타내는 문자열을 re.compile()에 전달하여 Regex 패턴 객체를 생성\n",
    "# 중괄호를 통해 특정 횟수만큼 반복 -> 첫 번째나 두 번째 숫자를 비워 최소/최대값 제한하지 않을 수도\n",
    "phoneNumRegex = re.compile(r'\\d{3}-\\d{3,4}-\\d{4}')\n",
    "# search 메서드를 활용하여 패턴 일치 부분 검색\n",
    "mo = phoneNumRegex.search('My number is 010-0000-0000')\n",
    "# group() 메서드를 활용하여 일치 텍스트 반환\n",
    "mo.group()"
   ]
  },
  {
   "cell_type": "code",
   "execution_count": 3,
   "id": "c7842e4d",
   "metadata": {},
   "outputs": [
    {
     "data": {
      "text/plain": [
       "('010', '0000-0000', '010-0000-0000')"
      ]
     },
     "execution_count": 3,
     "metadata": {},
     "output_type": "execute_result"
    }
   ],
   "source": [
    "# 괄호를 넣어 정규표현식에 그룹을 생성\n",
    "phoneNumRegex = re.compile(r'(\\d{3})-(\\d{3,4}-\\d{4})')\n",
    "mo = phoneNumRegex.search('My number is 010-0000-0000')\n",
    "# 1번이 첫 번째 그룹임을 파악(0이 아니라 1)\n",
    "mo.group(1), mo.group(2), mo.group()"
   ]
  },
  {
   "cell_type": "code",
   "execution_count": 4,
   "id": "3e89a1ab",
   "metadata": {},
   "outputs": [
    {
     "data": {
      "text/plain": [
       "('010', '0000-0000')"
      ]
     },
     "execution_count": 4,
     "metadata": {},
     "output_type": "execute_result"
    }
   ],
   "source": [
    "# 모든 그룹을 한꺼번에 얻고 싶다면 groups 활용 -> 튜플 형태로 반환\n",
    "mo.groups()"
   ]
  },
  {
   "cell_type": "code",
   "execution_count": 5,
   "id": "4d962bf2",
   "metadata": {},
   "outputs": [
    {
     "data": {
      "text/plain": [
       "('(010)', '0000-0000', '(010)0000-0000')"
      ]
     },
     "execution_count": 5,
     "metadata": {},
     "output_type": "execute_result"
    }
   ],
   "source": [
    "# 그룹 안에 괄호가 들어가야 할 경우 역슬래시를 통해 이스케이프\n",
    "phoneNumRegex = re.compile(r'(\\(\\d{3}\\))(\\d{3,4}-\\d{4})')\n",
    "mo = phoneNumRegex.search('My number is (010)0000-0000')\n",
    "mo.group(1), mo.group(2), mo.group()"
   ]
  },
  {
   "cell_type": "code",
   "execution_count": 6,
   "id": "a404828d",
   "metadata": {},
   "outputs": [
    {
     "data": {
      "text/plain": [
       "'Batman'"
      ]
     },
     "execution_count": 6,
     "metadata": {},
     "output_type": "execute_result"
    }
   ],
   "source": [
    "# |(파이프 문자) 활용하여 여러 개의 표현식 중 하나라도 일치하는지 확인\n",
    "heroRegex = re.compile(r'Batman|Tina Fey')\n",
    "mo = heroRegex.search('Batman and Tina Fey')\n",
    "mo.group()"
   ]
  },
  {
   "cell_type": "code",
   "execution_count": 8,
   "id": "57b8563d",
   "metadata": {},
   "outputs": [
    {
     "data": {
      "text/plain": [
       "['Batman', 'Tina Fey']"
      ]
     },
     "execution_count": 8,
     "metadata": {},
     "output_type": "execute_result"
    }
   ],
   "source": [
    "heroRegex = re.compile(r'Batman|Tina Fey')\n",
    "# findall 활용하여 일치하는 모두를 리스트로 수집\n",
    "mo = heroRegex.findall('Batman and Tina Fey')\n",
    "mo"
   ]
  },
  {
   "cell_type": "code",
   "execution_count": 9,
   "id": "c5fdad12",
   "metadata": {},
   "outputs": [
    {
     "data": {
      "text/plain": [
       "('Batmobile', 'mobile')"
      ]
     },
     "execution_count": 9,
     "metadata": {},
     "output_type": "execute_result"
    }
   ],
   "source": [
    "# 파이프문자와 괄호를 사용하여 일부를 여러 패턴 중 하나와 일치시킬 수도\n",
    "batRegex = re.compile(r'Bat(man|mobile|copter|bat)')\n",
    "mo = batRegex.search('Batmobile lost a wheel')\n",
    "mo.group(), mo.group(1)"
   ]
  },
  {
   "cell_type": "code",
   "execution_count": 10,
   "id": "f6ec61ba",
   "metadata": {},
   "outputs": [
    {
     "data": {
      "text/plain": [
       "('Batman', 'Batwoman')"
      ]
     },
     "execution_count": 10,
     "metadata": {},
     "output_type": "execute_result"
    }
   ],
   "source": [
    "# 선택적으로 대조하고자 하는 패턴 -> 그룹으로 지정한 후 '?' 활용(0개 또는 1개 있을 경우)\n",
    "batRegex = re.compile(r'Bat(wo)?man')\n",
    "mo1 = batRegex.search('The Adventure of Batman')\n",
    "mo2 = batRegex.search('The Adventure of Batwoman')\n",
    "mo1.group(), mo2.group()"
   ]
  },
  {
   "cell_type": "code",
   "execution_count": 11,
   "id": "bd219cec",
   "metadata": {},
   "outputs": [
    {
     "data": {
      "text/plain": [
       "('Batman', 'Batwowowoman')"
      ]
     },
     "execution_count": 11,
     "metadata": {},
     "output_type": "execute_result"
    }
   ],
   "source": [
    "# '*'활용 -> 0개 또는 그 이상\n",
    "batRegex = re.compile(r'Bat(wo)*man')\n",
    "mo1 = batRegex.search('The Adventure of Batman')\n",
    "mo2 = batRegex.search('The Adventure of Batwowowoman')\n",
    "mo1.group(), mo2.group()"
   ]
  },
  {
   "cell_type": "code",
   "execution_count": 12,
   "id": "d6b704a3",
   "metadata": {},
   "outputs": [
    {
     "data": {
      "text/plain": [
       "('Batwoman', 'Batwowowoman')"
      ]
     },
     "execution_count": 12,
     "metadata": {},
     "output_type": "execute_result"
    }
   ],
   "source": [
    "# '+'활용 -> 0개 또는 그 이상\n",
    "batRegex = re.compile(r'Bat(wo)+man')\n",
    "mo1 = batRegex.search('The Adventure of Batwoman')\n",
    "mo2 = batRegex.search('The Adventure of Batwowowoman')\n",
    "mo1.group(), mo2.group()"
   ]
  },
  {
   "cell_type": "code",
   "execution_count": 13,
   "id": "f0f6159e",
   "metadata": {},
   "outputs": [
    {
     "data": {
      "text/plain": [
       "('HaHaHaHaHa', 'HaHaHa')"
      ]
     },
     "execution_count": 13,
     "metadata": {},
     "output_type": "execute_result"
    }
   ],
   "source": [
    "# 파이썬 정규표현식은 기본적으로 최대일치 추구 -> 닫는 중괄호 뒤 '?'로 최소일치 가능\n",
    "# 참고 : '?'는 그룹 뒤에는 0개 또는 1개 / 중괄호 뒤에는 최소일치\n",
    "greedyHaRegex = re.compile(r'(Ha){3,5}')\n",
    "nongreedyHaRegex = re.compile(r'(Ha){3,5}?')\n",
    "mo1 = greedyHaRegex.search('HaHaHaHaHa')\n",
    "mo2 = nongreedyHaRegex.search('HaHaHaHaHa')\n",
    "mo1.group(), mo2.group()"
   ]
  },
  {
   "cell_type": "code",
   "execution_count": 14,
   "id": "2f3acde8",
   "metadata": {},
   "outputs": [
    {
     "data": {
      "text/plain": [
       "[('010', '0000', '0000'), ('070', '0000', '0000')]"
      ]
     },
     "execution_count": 14,
     "metadata": {},
     "output_type": "execute_result"
    }
   ],
   "source": [
    "# 정규표현식 안에 그룹이 있을 경우 findall은 그룹들의 튜플을 리스트로 반환\n",
    "phoneNumRegex = re.compile(r'(\\d{3})-(\\d{3,4})-(\\d{4})')\n",
    "phoneNumRegex.findall('Cell: 010-0000-0000, Work: 070-0000-0000')"
   ]
  },
  {
   "cell_type": "code",
   "execution_count": 15,
   "id": "5095101f",
   "metadata": {},
   "outputs": [
    {
     "data": {
      "text/plain": [
       "['12 drummers',\n",
       " '11 pipers',\n",
       " '10 lords',\n",
       " '9 ladies',\n",
       " '8 maids',\n",
       " '7 swans',\n",
       " '6 geese',\n",
       " '5 rings',\n",
       " '4 birds',\n",
       " '3 hens',\n",
       " '2 doves',\n",
       " '1 partridge']"
      ]
     },
     "execution_count": 15,
     "metadata": {},
     "output_type": "execute_result"
    }
   ],
   "source": [
    "# 문자 클래스 (\\D, \\W, \\S의 경우 아래 내용의 반대)\n",
    "# \\d: 0에서 9사이 숫자\n",
    "# \\w: 글자, 숫자, 밑줄 중 하나에 해당하는 문자\n",
    "# \\s: 빈칸, 탭, 개행문자 중 하나에 해당하는 문자('공백'과 일치한다고 생각)\n",
    "# 글자와 일치하는 문자 클래스는 없음 -> [a-zA-z] 활용 가능\n",
    "# 숫자 하나 이상, 공백, 문자 하나 이상\n",
    "xmasRegex = re.compile(r'\\d+\\s\\w+')\n",
    "xmasRegex.findall('12 drummers, 11 pipers, 10 lords, 9 ladies, 8 maids, 7 swans, 6 geese, 5 rings, 4 birds, 3 hens, 2 doves, 1 partridge')"
   ]
  },
  {
   "cell_type": "code",
   "execution_count": 26,
   "id": "04c9382f",
   "metadata": {},
   "outputs": [
    {
     "data": {
      "text/plain": [
       "(['o', 'o', 'o', 'e', 'a', 'A', 'o', 'O'],\n",
       " ['R', 'b', 'C', 'p', ' ', 't', 's', ' ', 'b', 'b', 'y', ' ', 'f', 'd', '.'])"
      ]
     },
     "execution_count": 26,
     "metadata": {},
     "output_type": "execute_result"
    }
   ],
   "source": [
    "# 사용자 정의 문자 클래스 -> 대괄호 '[]' 사용. 반대의 경우 캐럿 기호 '^'(대괄호 안에 넣어야) 사용.\n",
    "# re.I 또는 re.IGNORECASE를 전달해서 대소문자 구분을 하지 않을 수도\n",
    "vowelRegex = re.compile(r'[aeiouAEIOU]')\n",
    "consonantRegex = re.compile(r'[^aeiou]', re.I)\n",
    "mo1 = vowelRegex.findall('RoboCop eats bAby foOd.')\n",
    "mo2 = consonantRegex.findall('RoboCop eats bAby foOd.')\n",
    "mo1, mo2"
   ]
  },
  {
   "cell_type": "code",
   "execution_count": 19,
   "id": "587da1ce",
   "metadata": {},
   "outputs": [
    {
     "data": {
      "text/plain": [
       "('Hello', '22')"
      ]
     },
     "execution_count": 19,
     "metadata": {},
     "output_type": "execute_result"
    }
   ],
   "source": [
    "# 정규표현식 앞에 '^'는 텍스트 시작 부분 일치, 끝에 '$'는 텍스트 끝 부분 일치\n",
    "# '^'와 '$'를 같이 사용하면 전체 일치\n",
    "beginsWithHello = re.compile(r'^Hello')\n",
    "endsWithNumber = re.compile(r'\\d{2}$')\n",
    "mo1 = beginsWithHello.search('Hello world')\n",
    "mo2 = endsWithNumber.search('Your number is 22')\n",
    "mo1.group(), mo2.group()"
   ]
  },
  {
   "cell_type": "code",
   "execution_count": 20,
   "id": "0e318bbe",
   "metadata": {},
   "outputs": [
    {
     "data": {
      "text/plain": [
       "['Cat', 'hat', 'sat', 'lat', 'mat']"
      ]
     },
     "execution_count": 20,
     "metadata": {},
     "output_type": "execute_result"
    }
   ],
   "source": [
    "# 마침표 '.'는 와일드카드 문자. 줄바꿈을 제외한 모든 문자와 일치\n",
    "atRegex = re.compile(r'.at')\n",
    "atRegex.findall('The Cat in the hat sat on the flat mat.')"
   ]
  },
  {
   "cell_type": "code",
   "execution_count": 24,
   "id": "c114ffb7",
   "metadata": {},
   "outputs": [
    {
     "data": {
      "text/plain": [
       "('First Name: Taehwa, Last Name: Kim', 'Taehwa', 'Kim')"
      ]
     },
     "execution_count": 24,
     "metadata": {},
     "output_type": "execute_result"
    }
   ],
   "source": [
    "# '.*'로 모든 것과 일치 가능('*'대신 1개 이상의 목적으로 '+'도 가능) - 다만 줄이 바뀌기 이전까지\n",
    "# re.DOTALL을 같이 전달하면 마침표 문자로 개행 문자를 포함한 모든 문자와 일치(줄이 바뀌고 나서도 포함)\n",
    "nameRegex = re.compile(r'First Name: (.*), Last Name: (.*)')\n",
    "mo = nameRegex.search('First Name: Taehwa, Last Name: Kim')\n",
    "mo.group(), mo.group(1), mo.group(2)"
   ]
  },
  {
   "cell_type": "code",
   "execution_count": 27,
   "id": "38bff1fb",
   "metadata": {},
   "outputs": [
    {
     "data": {
      "text/plain": [
       "'A**** told C**** that E**** knew B**** was a double agent.'"
      ]
     },
     "execution_count": 27,
     "metadata": {},
     "output_type": "execute_result"
    }
   ],
   "source": [
    "# Regex 객체에 있는 sub() 메서드로 문자열 치환 가능\n",
    "# 첫 번째 인자는 치환할 문자열, 두 번째 인자는 정규표현식과 대조할 문자열\n",
    "# \\1, \\2, \\3을 활용하여 텍스트 그룹 1, 2, 3으로 치환 가능\n",
    "# 괄호를 통해 group(1)을 추출하고 그 뒤에는 '*'를 통해 접근\n",
    "agentNamesRegex = re.compile(r'Agent (\\w)\\w*')\n",
    "agentNamesRegex.sub(r'\\1****', 'Agent Alice told Agent Carol that Agent Eve knew Agent Bob was a double agent.')"
   ]
  },
  {
   "cell_type": "code",
   "execution_count": 32,
   "id": "2c0e0d15",
   "metadata": {},
   "outputs": [
    {
     "data": {
      "text/plain": [
       "'(070)0000-0000'"
      ]
     },
     "execution_count": 32,
     "metadata": {},
     "output_type": "execute_result"
    }
   ],
   "source": [
    "# re.VERBOSE를 통해 정규표현식에 공백문자와 주석 넣기 가능 -> ''' '''를 통해 줄바꿈 진행\n",
    "# re.DOTALL, re.I, re.VERBOSE는 파이프 문자를 통해 함께 사용 가능\n",
    "phoneRegex = re.compile(r'''\n",
    "(\\d{3}|\\(\\d{3}\\))?          # area_code\n",
    "(\\s|-|\\.)?                  # sep\n",
    "\\d{3,4}                     # mid_number\n",
    "(\\s|-|\\.)?                  # sep\n",
    "\\d{4}                       # end_number\n",
    "''', re.VERBOSE)\n",
    "mo = phoneRegex.search('Home: (070)0000-0000')\n",
    "mo.group()"
   ]
  },
  {
   "cell_type": "code",
   "execution_count": null,
   "id": "2227f433",
   "metadata": {},
   "outputs": [],
   "source": []
  }
 ],
 "metadata": {
  "kernelspec": {
   "display_name": "Python 3.9.12 ('base')",
   "language": "python",
   "name": "python3"
  },
  "language_info": {
   "codemirror_mode": {
    "name": "ipython",
    "version": 3
   },
   "file_extension": ".py",
   "mimetype": "text/x-python",
   "name": "python",
   "nbconvert_exporter": "python",
   "pygments_lexer": "ipython3",
   "version": "3.9.12"
  },
  "toc": {
   "base_numbering": 1,
   "nav_menu": {},
   "number_sections": true,
   "sideBar": true,
   "skip_h1_title": false,
   "title_cell": "Table of Contents",
   "title_sidebar": "Contents",
   "toc_cell": false,
   "toc_position": {},
   "toc_section_display": true,
   "toc_window_display": false
  },
  "vscode": {
   "interpreter": {
    "hash": "610a6f344c2137faf927ea819c63f6cee33a2c04455044b28099f39fe9722347"
   }
  }
 },
 "nbformat": 4,
 "nbformat_minor": 5
}
