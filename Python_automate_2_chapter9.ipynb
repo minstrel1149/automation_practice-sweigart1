{
 "cells": [
  {
   "cell_type": "code",
   "execution_count": 1,
   "metadata": {},
   "outputs": [],
   "source": [
    "# 윈도우는 경로 구분이 역슬래시(\\), 맥은 슬래시(/) -> 이걸 아우를 수 있는 스크립트를 작성해야 → pathlib 모듈의 Path 함수\n",
    "from pathlib import Path\n",
    "import os\n",
    "import shelve"
   ]
  },
  {
   "cell_type": "code",
   "execution_count": 2,
   "metadata": {},
   "outputs": [
    {
     "name": "stdout",
     "output_type": "stream",
     "text": [
      "C:\\Users\\admin\\accounts.txt\n",
      "C:\\Users\\admin\\details.csv\n",
      "C:\\Users\\admin\\invite.docx\n"
     ]
    }
   ],
   "source": [
    "# Path 함수의 경우 '/'로 경로를 구분 및 문자열 결합 → 윈도우, 맥 모두 처리\n",
    "# '/'연산자는 기존 os.path.join() 함수를 대체 → os.path.join() 좋을 때도 생각해야\n",
    "myFiles = ['accounts.txt', 'details.csv', 'invite.docx']\n",
    "for filename in myFiles:\n",
    "    print(Path(Path.home() / filename))"
   ]
  },
  {
   "cell_type": "code",
   "execution_count": 3,
   "metadata": {},
   "outputs": [
    {
     "data": {
      "text/plain": [
       "(WindowsPath('C:/Users/admin'), WindowsPath('c:/Users/admin/python_automate'))"
      ]
     },
     "execution_count": 3,
     "metadata": {},
     "output_type": "execute_result"
    }
   ],
   "source": [
    "# Path.home() → 홈 디렉터리\n",
    "# Path.cwd() → 현재 작업 디렉터리(current working directory)\n",
    "# os.chdir()로 수정 가능 → 존재하지 않는 디렉터리로 변경하려고 하면 오류 발생\n",
    "Path.home(), Path.cwd()"
   ]
  },
  {
   "cell_type": "code",
   "execution_count": 4,
   "metadata": {},
   "outputs": [],
   "source": [
    "# 절대경로와 상대경로\n",
    "# 절대경로 : 항상 루트 폴더(ex. C:\\)에서 시작\n",
    "# 상대경로 : 현재 작업 디렉터리(cwd)에서 시작 → cwd에 대한 상대적인 경로\n",
    "# 폴더 이름으로 '.'를 사용하는 것은 cwd를 축약해서 나타낸 것 → Path.cwd() == Path('.')\n",
    "# '..'는 상위 폴더를 의미"
   ]
  },
  {
   "cell_type": "code",
   "execution_count": 5,
   "metadata": {},
   "outputs": [
    {
     "name": "stdout",
     "output_type": "stream",
     "text": [
      "이미 존재하는 폴더입니다.\n"
     ]
    }
   ],
   "source": [
    "# 폴더 만들기 : os.mkdir(), os.makedirs(), Path 객체에서의 mkdir() 메서드\n",
    "# mkdir()은 디렉터리 하나만 만들 수 있고, makedirs()는 하위 디렉터리 여러개 만들기 가능\n",
    "try:\n",
    "    # exist_ok=True 전달하여 이미 존재하는 폴더 건너뛰기 가능\n",
    "    os.makedirs(Path.cwd() / 'result_attachments' / 'walnut2', exist_ok=True)\n",
    "except:\n",
    "    print('경로가 잘못되었습니다.')\n",
    "try:\n",
    "    (Path.cwd() / 'result_attachments' / 'walnut2').mkdir()\n",
    "except:\n",
    "    print('이미 존재하는 폴더입니다.')"
   ]
  },
  {
   "cell_type": "code",
   "execution_count": 6,
   "metadata": {},
   "outputs": [
    {
     "data": {
      "text/plain": [
       "('c:\\\\Users\\\\admin\\\\python_automate\\\\walnut', 'python_automate\\\\walnut')"
      ]
     },
     "execution_count": 6,
     "metadata": {},
     "output_type": "execute_result"
    }
   ],
   "source": [
    "# 절대경로 확인 : Path 객체의 is_absolute() 메서드 확인\n",
    "# os.path.abspath(path) → 상대경로를 절대경로로 변환하는 간단한 방법\n",
    "# 절대경로를 상대경로로 변환하기 위해서는 os.path.relpath() 활용\n",
    "os.path.abspath(Path('.') / 'walnut'), os.path.relpath(Path.cwd() / 'walnut', Path.home())"
   ]
  },
  {
   "cell_type": "code",
   "execution_count": 6,
   "metadata": {},
   "outputs": [
    {
     "data": {
      "text/plain": [
       "('c:\\\\',\n",
       " WindowsPath('c:/Users/admin/python_automate/attachments'),\n",
       " 'example.xlsx',\n",
       " 'example',\n",
       " '.xlsx',\n",
       " 'c:')"
      ]
     },
     "execution_count": 6,
     "metadata": {},
     "output_type": "execute_result"
    }
   ],
   "source": [
    "# anchor, parent(얘만 Path객체 반환), name, stem, suffix, drive\n",
    "p = Path.cwd() / 'attachments' / 'example.xlsx'\n",
    "p.anchor, p.parent, p.name, p.stem, p.suffix, p.drive"
   ]
  },
  {
   "cell_type": "code",
   "execution_count": 8,
   "metadata": {},
   "outputs": [
    {
     "name": "stdout",
     "output_type": "stream",
     "text": [
      "c:\\Users\\admin\\python_automate\\attachments\n",
      "c:\\Users\\admin\\python_automate\n",
      "c:\\Users\\admin\n"
     ]
    }
   ],
   "source": [
    "# p.parents(p.parent와는 다름)를 정수 인덱스와 함께 사용 → 상위 폴더들이 결과(Path객체)\n",
    "for i in range(3):\n",
    "    print(p.parents[i])"
   ]
  },
  {
   "cell_type": "code",
   "execution_count": 11,
   "metadata": {},
   "outputs": [
    {
     "data": {
      "text/plain": [
       "('c:\\\\Users\\\\admin\\\\python_automate\\\\attachments',\n",
       " 'example.xlsx',\n",
       " ('c:\\\\Users\\\\admin\\\\python_automate\\\\attachments', 'example.xlsx'),\n",
       " ['c:', 'Users', 'admin', 'python_automate', 'attachments', 'example.xlsx'])"
      ]
     },
     "execution_count": 11,
     "metadata": {},
     "output_type": "execute_result"
    }
   ],
   "source": [
    "# os.path.dirname(path) == str(p.parents[0])\n",
    "# os.path.basename(path) == p.name\n",
    "# os.path.split(path) → dirname과 basename을 튜플로 반환\n",
    "# 파이썬 split() 함수 활용 시 슬래시나 역슬래시 대신 os.sep를 기준자로 분할 가능\n",
    "# os.sep의 개념(윈도우의 경우 '\\\\', 맥의 경우 '/')\n",
    "os.path.dirname(p), os.path.basename(p), os.path.split(p), str(p).split(os.sep)"
   ]
  },
  {
   "cell_type": "code",
   "execution_count": 12,
   "metadata": {},
   "outputs": [
    {
     "data": {
      "text/plain": [
       "['.git',\n",
       " 'attachments',\n",
       " 'Chapter10_pjt2_tkim1.py',\n",
       " 'Chapter12_pjt1_tkim1.py',\n",
       " 'Chapter13_pjt1_tkim1.py',\n",
       " 'Chapter13_pjt2_tkim1.py',\n",
       " 'Chapter15_pjt1_tkim1.py',\n",
       " 'Chapter16_pjt1_tkim1.py',\n",
       " 'Chapter16_pjt2_tkim1.py',\n",
       " 'Chapter17_pjt2_tkim1.py',\n",
       " 'Chapter17_pjt3_tkim1.py',\n",
       " 'Chapter18_pjt1_tkim1.py',\n",
       " 'Chapter20_pjt1_tkim1.py',\n",
       " 'Chapter7_pjt1_tkim1.py',\n",
       " 'Chapter8_pjt1_tkim1.py',\n",
       " 'Chapter9_pjt1_tkim1.py',\n",
       " 'Chapter9_pjt2_tkim1.py',\n",
       " 'Python_automate_1_chapter10.ipynb',\n",
       " 'Python_automate_1_chapter11.ipynb',\n",
       " 'Python_automate_1_chapter12.ipynb',\n",
       " 'Python_automate_1_chapter13.ipynb',\n",
       " 'Python_automate_1_chapter15.ipynb',\n",
       " 'Python_automate_1_chapter16.ipynb',\n",
       " 'Python_automate_1_chapter17.ipynb',\n",
       " 'Python_automate_1_chapter18.ipynb',\n",
       " 'Python_automate_1_chapter20.ipynb',\n",
       " 'Python_automate_1_chapter7.ipynb',\n",
       " 'Python_automate_1_chapter8.ipynb',\n",
       " 'Python_automate_1_chapter9.ipynb',\n",
       " 'Python_automate_2_chapter10.ipynb',\n",
       " 'Python_automate_2_chapter11.ipynb',\n",
       " 'Python_automate_2_chapter12.ipynb',\n",
       " 'Python_automate_2_chapter13.ipynb',\n",
       " 'Python_automate_2_chapter15.ipynb',\n",
       " 'Python_automate_2_chapter16.ipynb',\n",
       " 'Python_automate_2_chapter17.ipynb',\n",
       " 'Python_automate_2_chapter18.ipynb',\n",
       " 'Python_automate_2_chapter20.ipynb',\n",
       " 'Python_automate_2_chapter7.ipynb',\n",
       " 'Python_automate_2_chapter8.ipynb',\n",
       " 'Python_automate_2_chapter9.ipynb',\n",
       " 'README.md',\n",
       " 'result_attachments']"
      ]
     },
     "execution_count": 12,
     "metadata": {},
     "output_type": "execute_result"
    }
   ],
   "source": [
    "# os.listdir(path)은 path에 있는 파일/폴더 이름 리스트 반환\n",
    "os.listdir(Path.cwd())"
   ]
  },
  {
   "cell_type": "code",
   "execution_count": 13,
   "metadata": {},
   "outputs": [
    {
     "data": {
      "text/plain": [
       "['Python_automate_1_chapter10.ipynb',\n",
       " 'Python_automate_1_chapter11.ipynb',\n",
       " 'Python_automate_1_chapter12.ipynb',\n",
       " 'Python_automate_1_chapter13.ipynb',\n",
       " 'Python_automate_1_chapter15.ipynb',\n",
       " 'Python_automate_1_chapter16.ipynb',\n",
       " 'Python_automate_1_chapter17.ipynb',\n",
       " 'Python_automate_1_chapter18.ipynb',\n",
       " 'Python_automate_1_chapter20.ipynb',\n",
       " 'Python_automate_1_chapter7.ipynb',\n",
       " 'Python_automate_1_chapter8.ipynb',\n",
       " 'Python_automate_1_chapter9.ipynb',\n",
       " 'Python_automate_2_chapter10.ipynb',\n",
       " 'Python_automate_2_chapter11.ipynb',\n",
       " 'Python_automate_2_chapter12.ipynb',\n",
       " 'Python_automate_2_chapter13.ipynb',\n",
       " 'Python_automate_2_chapter15.ipynb',\n",
       " 'Python_automate_2_chapter16.ipynb',\n",
       " 'Python_automate_2_chapter17.ipynb',\n",
       " 'Python_automate_2_chapter18.ipynb',\n",
       " 'Python_automate_2_chapter20.ipynb',\n",
       " 'Python_automate_2_chapter7.ipynb',\n",
       " 'Python_automate_2_chapter8.ipynb',\n",
       " 'Python_automate_2_chapter9.ipynb']"
      ]
     },
     "execution_count": 13,
     "metadata": {},
     "output_type": "execute_result"
    }
   ],
   "source": [
    "# p.glob()는 Path 객체를 반환하므로, for문 및 name 속성을 활용하여 파일 이름만 추출 가능\n",
    "# os.listdir(path)는 원하는 확장자나 원하는 이름만 추출해내기 어려운 문제\n",
    "# p.glob를 활용(Path객체 반환) → list comprehension을 합쳐서 사용하는 것이 좋은듯?\n",
    "# '*'(애스터리스크)는 모든 문자를 의미. '?'는 모든 종류의 단일 문자를 의미. 함께 사용도 가능\n",
    "list(Path.cwd().glob('*'))\n",
    "[file.name for file in Path.cwd().glob('*.ipynb')]"
   ]
  },
  {
   "cell_type": "code",
   "execution_count": 14,
   "metadata": {},
   "outputs": [],
   "source": [
    "# 경로 유효성 검사 : p.exists(), p.is_file(), p.is_dir()"
   ]
  },
  {
   "cell_type": "code",
   "execution_count": 15,
   "metadata": {},
   "outputs": [
    {
     "name": "stdout",
     "output_type": "stream",
     "text": [
      "Prof. Plum\n",
      "Miss Scarlet\n",
      "Col. Mustard\n",
      "Al Sweigart\n",
      "Robocop\n"
     ]
    }
   ],
   "source": [
    "# open으로 파일 열기: mode, encoding 등 인자 활용\n",
    "# 가급적이면 쓰기의 경우 with ~ as 구문 활용(마지막에 닫아줄 필요가 없음) / 읽기는 관계 없을듯\n",
    "# read, readlines, write 등 다양한 메서드 활용\n",
    "with open(Path.cwd() / 'attachments' / 'guests.txt', mode='r') as file:\n",
    "    print(file.read())"
   ]
  },
  {
   "cell_type": "code",
   "execution_count": 16,
   "metadata": {},
   "outputs": [],
   "source": [
    "# shelve 모듈로 변수 저장 → 파이썬의 변수들을 이진 파일에 저장하는 형태\n",
    "# Path객체로는 지정이 안되는듯? → Path객체를 문자열로 바꿔줘야\n",
    "str_path_shelf = str(Path.cwd() / 'result_attachments' / 'walnut2')\n",
    "shelfFile = shelve.open(str_path_shelf)\n",
    "cats = ['Zophie', 'Pooka', 'Simon']\n",
    "shelfFile['cats'] = cats\n",
    "shelfFile.close()"
   ]
  },
  {
   "cell_type": "code",
   "execution_count": 17,
   "metadata": {},
   "outputs": [],
   "source": [
    "shelfFile = shelve.open(str_path_shelf)\n",
    "shelfFile['cats']\n",
    "shelfFile.close()"
   ]
  },
  {
   "cell_type": "code",
   "execution_count": null,
   "metadata": {},
   "outputs": [],
   "source": []
  }
 ],
 "metadata": {
  "kernelspec": {
   "display_name": "Python 3.9.12 ('base')",
   "language": "python",
   "name": "python3"
  },
  "language_info": {
   "codemirror_mode": {
    "name": "ipython",
    "version": 3
   },
   "file_extension": ".py",
   "mimetype": "text/x-python",
   "name": "python",
   "nbconvert_exporter": "python",
   "pygments_lexer": "ipython3",
   "version": "3.9.12"
  },
  "orig_nbformat": 4,
  "vscode": {
   "interpreter": {
    "hash": "610a6f344c2137faf927ea819c63f6cee33a2c04455044b28099f39fe9722347"
   }
  }
 },
 "nbformat": 4,
 "nbformat_minor": 2
}
