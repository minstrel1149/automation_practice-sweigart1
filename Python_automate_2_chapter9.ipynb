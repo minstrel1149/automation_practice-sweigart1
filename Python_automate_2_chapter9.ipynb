{
 "cells": [
  {
   "cell_type": "code",
   "execution_count": 1,
   "metadata": {},
   "outputs": [],
   "source": [
    "from pathlib import Path\n",
    "import os\n",
    "import shelve"
   ]
  },
  {
   "cell_type": "code",
   "execution_count": 2,
   "metadata": {},
   "outputs": [
    {
     "name": "stdout",
     "output_type": "stream",
     "text": [
      "C:\\Users\\admin\\accounts.txt\n",
      "C:\\Users\\admin\\details.csv\n",
      "C:\\Users\\admin\\invite.docx\n"
     ]
    }
   ],
   "source": [
    "myFiles = ['accounts.txt', 'details.csv', 'invite.docx']\n",
    "for filename in myFiles:\n",
    "    print(Path(Path.home() / filename))"
   ]
  },
  {
   "cell_type": "code",
   "execution_count": 3,
   "metadata": {},
   "outputs": [
    {
     "data": {
      "text/plain": [
       "(WindowsPath('C:/Users/admin'), WindowsPath('c:/Users/admin/python_automate'))"
      ]
     },
     "execution_count": 3,
     "metadata": {},
     "output_type": "execute_result"
    }
   ],
   "source": [
    "Path.home(), Path.cwd()"
   ]
  },
  {
   "cell_type": "code",
   "execution_count": 4,
   "metadata": {},
   "outputs": [],
   "source": [
    "os.makedirs(Path.cwd() / 'result_attachments' / 'walnut2', exist_ok=True)"
   ]
  },
  {
   "cell_type": "code",
   "execution_count": 5,
   "metadata": {},
   "outputs": [
    {
     "name": "stdout",
     "output_type": "stream",
     "text": [
      "이미 존재하는 폴더입니다.\n"
     ]
    }
   ],
   "source": [
    "try:\n",
    "    (Path.cwd() / 'result_attachments' / 'walnut2').mkdir()\n",
    "except:\n",
    "    print('이미 존재하는 폴더입니다.')"
   ]
  },
  {
   "cell_type": "code",
   "execution_count": 6,
   "metadata": {},
   "outputs": [
    {
     "data": {
      "text/plain": [
       "('c:\\\\Users\\\\admin\\\\python_automate\\\\walnut', 'python_automate\\\\walnut')"
      ]
     },
     "execution_count": 6,
     "metadata": {},
     "output_type": "execute_result"
    }
   ],
   "source": [
    "os.path.abspath(Path('.') / 'walnut'), os.path.relpath(Path.cwd() / 'walnut', Path.home())"
   ]
  },
  {
   "cell_type": "code",
   "execution_count": 7,
   "metadata": {},
   "outputs": [
    {
     "data": {
      "text/plain": [
       "('c:\\\\',\n",
       " WindowsPath('c:/Users/admin/python_automate/attachments'),\n",
       " 'example.xlsx',\n",
       " 'example',\n",
       " '.xlsx',\n",
       " 'c:')"
      ]
     },
     "execution_count": 7,
     "metadata": {},
     "output_type": "execute_result"
    }
   ],
   "source": [
    "p = Path.cwd() / 'attachments' / 'example.xlsx'\n",
    "p.anchor, p.parent, p.name, p.stem, p.suffix, p.drive"
   ]
  },
  {
   "cell_type": "code",
   "execution_count": 8,
   "metadata": {},
   "outputs": [
    {
     "name": "stdout",
     "output_type": "stream",
     "text": [
      "c:\\Users\\admin\\python_automate\\attachments\n",
      "c:\\Users\\admin\\python_automate\n",
      "c:\\Users\\admin\n"
     ]
    }
   ],
   "source": [
    "for i in range(3):\n",
    "    print(p.parents[i])"
   ]
  },
  {
   "cell_type": "code",
   "execution_count": 9,
   "metadata": {},
   "outputs": [
    {
     "data": {
      "text/plain": [
       "('c:\\\\Users\\\\admin\\\\python_automate\\\\attachments', 'example.xlsx')"
      ]
     },
     "execution_count": 9,
     "metadata": {},
     "output_type": "execute_result"
    }
   ],
   "source": [
    "os.path.dirname(p), os.path.basename(p)"
   ]
  },
  {
   "cell_type": "code",
   "execution_count": 10,
   "metadata": {},
   "outputs": [
    {
     "data": {
      "text/plain": [
       "['c:', 'Users', 'admin', 'python_automate', 'attachments', 'example.xlsx']"
      ]
     },
     "execution_count": 10,
     "metadata": {},
     "output_type": "execute_result"
    }
   ],
   "source": [
    "str(p).split(os.sep)"
   ]
  },
  {
   "cell_type": "code",
   "execution_count": 11,
   "metadata": {},
   "outputs": [
    {
     "data": {
      "text/plain": [
       "['.git',\n",
       " 'attachments',\n",
       " 'Chapter10_pjt2_tkim1.py',\n",
       " 'Chapter12_pjt1_tkim1.py',\n",
       " 'Chapter13_pjt1_tkim1.py',\n",
       " 'Chapter13_pjt2_tkim1.py',\n",
       " 'Chapter15_pjt1_tkim1.py',\n",
       " 'Chapter16_pjt1_tkim1.py',\n",
       " 'Chapter16_pjt2_tkim1.py',\n",
       " 'Chapter17_pjt2_tkim1.py',\n",
       " 'Chapter17_pjt3_tkim1.py',\n",
       " 'Chapter18_pjt1_tkim1.py',\n",
       " 'Chapter20_pjt1_tkim1.py',\n",
       " 'Chapter7_pjt1_tkim1.py',\n",
       " 'Chapter8_pjt1_tkim1.py',\n",
       " 'Chapter9_pjt1_tkim1.py',\n",
       " 'Chapter9_pjt2_tkim1.py',\n",
       " 'Python_automate_1_chapter10.ipynb',\n",
       " 'Python_automate_1_chapter11.ipynb',\n",
       " 'Python_automate_1_chapter12.ipynb',\n",
       " 'Python_automate_1_chapter13.ipynb',\n",
       " 'Python_automate_1_chapter15.ipynb',\n",
       " 'Python_automate_1_chapter16.ipynb',\n",
       " 'Python_automate_1_chapter17.ipynb',\n",
       " 'Python_automate_1_chapter18.ipynb',\n",
       " 'Python_automate_1_chapter20.ipynb',\n",
       " 'Python_automate_1_chapter7.ipynb',\n",
       " 'Python_automate_1_chapter8.ipynb',\n",
       " 'Python_automate_1_chapter9.ipynb',\n",
       " 'Python_automate_2_chapter7.ipynb',\n",
       " 'Python_automate_2_chapter8.ipynb',\n",
       " 'Python_automate_2_chapter9.ipynb',\n",
       " 'README.md',\n",
       " 'result_attachments']"
      ]
     },
     "execution_count": 11,
     "metadata": {},
     "output_type": "execute_result"
    }
   ],
   "source": [
    "os.listdir(Path.cwd())"
   ]
  },
  {
   "cell_type": "code",
   "execution_count": 12,
   "metadata": {},
   "outputs": [
    {
     "data": {
      "text/plain": [
       "['Python_automate_1_chapter10.ipynb',\n",
       " 'Python_automate_1_chapter11.ipynb',\n",
       " 'Python_automate_1_chapter12.ipynb',\n",
       " 'Python_automate_1_chapter13.ipynb',\n",
       " 'Python_automate_1_chapter15.ipynb',\n",
       " 'Python_automate_1_chapter16.ipynb',\n",
       " 'Python_automate_1_chapter17.ipynb',\n",
       " 'Python_automate_1_chapter18.ipynb',\n",
       " 'Python_automate_1_chapter20.ipynb',\n",
       " 'Python_automate_1_chapter7.ipynb',\n",
       " 'Python_automate_1_chapter8.ipynb',\n",
       " 'Python_automate_1_chapter9.ipynb',\n",
       " 'Python_automate_2_chapter7.ipynb',\n",
       " 'Python_automate_2_chapter8.ipynb',\n",
       " 'Python_automate_2_chapter9.ipynb']"
      ]
     },
     "execution_count": 12,
     "metadata": {},
     "output_type": "execute_result"
    }
   ],
   "source": [
    "list(Path.cwd().glob('*'))\n",
    "file_name_list = []\n",
    "for file in Path.cwd().glob('*.ipynb'):\n",
    "    file_name_list.append(file.name)\n",
    "file_name_list"
   ]
  },
  {
   "cell_type": "code",
   "execution_count": 13,
   "metadata": {},
   "outputs": [
    {
     "data": {
      "text/plain": [
       "['Python_automate_1_chapter10.ipynb',\n",
       " 'Python_automate_1_chapter11.ipynb',\n",
       " 'Python_automate_1_chapter12.ipynb',\n",
       " 'Python_automate_1_chapter13.ipynb',\n",
       " 'Python_automate_1_chapter15.ipynb',\n",
       " 'Python_automate_1_chapter16.ipynb',\n",
       " 'Python_automate_1_chapter17.ipynb',\n",
       " 'Python_automate_1_chapter18.ipynb',\n",
       " 'Python_automate_1_chapter20.ipynb',\n",
       " 'Python_automate_1_chapter7.ipynb',\n",
       " 'Python_automate_1_chapter8.ipynb',\n",
       " 'Python_automate_1_chapter9.ipynb',\n",
       " 'Python_automate_2_chapter7.ipynb',\n",
       " 'Python_automate_2_chapter8.ipynb',\n",
       " 'Python_automate_2_chapter9.ipynb']"
      ]
     },
     "execution_count": 13,
     "metadata": {},
     "output_type": "execute_result"
    }
   ],
   "source": [
    "[file.name for file in Path.cwd().glob('*.ipynb')]"
   ]
  },
  {
   "cell_type": "code",
   "execution_count": 14,
   "metadata": {},
   "outputs": [
    {
     "name": "stdout",
     "output_type": "stream",
     "text": [
      "Prof. Plum\n",
      "Miss Scarlet\n",
      "Col. Mustard\n",
      "Al Sweigart\n",
      "Robocop\n"
     ]
    }
   ],
   "source": [
    "with open(Path.cwd() / 'attachments' / 'guests.txt', mode='r') as file:\n",
    "    print(file.read())"
   ]
  },
  {
   "cell_type": "code",
   "execution_count": 17,
   "metadata": {},
   "outputs": [],
   "source": [
    "str_path_shelf = str(Path.cwd() / 'result_attachments' / 'walnut2')\n",
    "shelfFile = shelve.open(str_path_shelf)\n",
    "cats = ['Zophie', 'Pooka', 'Simon']\n",
    "shelfFile['cats'] = cats\n",
    "shelfFile.close()"
   ]
  },
  {
   "cell_type": "code",
   "execution_count": 19,
   "metadata": {},
   "outputs": [],
   "source": [
    "shelfFile = shelve.open(str_path_shelf)\n",
    "shelfFile['cats']\n",
    "shelfFile.close()"
   ]
  },
  {
   "cell_type": "code",
   "execution_count": null,
   "metadata": {},
   "outputs": [],
   "source": []
  }
 ],
 "metadata": {
  "kernelspec": {
   "display_name": "Python 3.9.12 ('base')",
   "language": "python",
   "name": "python3"
  },
  "language_info": {
   "codemirror_mode": {
    "name": "ipython",
    "version": 3
   },
   "file_extension": ".py",
   "mimetype": "text/x-python",
   "name": "python",
   "nbconvert_exporter": "python",
   "pygments_lexer": "ipython3",
   "version": "3.9.12"
  },
  "orig_nbformat": 4,
  "vscode": {
   "interpreter": {
    "hash": "610a6f344c2137faf927ea819c63f6cee33a2c04455044b28099f39fe9722347"
   }
  }
 },
 "nbformat": 4,
 "nbformat_minor": 2
}
