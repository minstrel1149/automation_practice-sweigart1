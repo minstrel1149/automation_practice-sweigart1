{
 "cells": [
  {
   "cell_type": "code",
   "execution_count": 1,
   "metadata": {},
   "outputs": [],
   "source": [
    "import logging"
   ]
  },
  {
   "cell_type": "code",
   "execution_count": 2,
   "metadata": {},
   "outputs": [
    {
     "name": "stdout",
     "output_type": "stream",
     "text": [
      "****\n",
      "*  *\n",
      "*  *\n",
      "****\n",
      "Error! Width must be greater than 2.\n",
      "Error! Symbol must be a single character string.\n"
     ]
    }
   ],
   "source": [
    "def boxPrint(symbol, width, height):\n",
    "    if len(symbol) != 1:\n",
    "      raise Exception('Symbol must be a single character string.')\n",
    "    if width <= 2:\n",
    "      raise Exception('Width must be greater than 2.')\n",
    "    if height <= 2:\n",
    "      raise Exception('Height must be greater than 2.')\n",
    "    print(symbol * width)\n",
    "    for i in range(height - 2):\n",
    "        print(symbol + (' ' * (width - 2)) + symbol)\n",
    "    print(symbol * width)\n",
    "\n",
    "for sym, w, h in (('*', 4, 4), ('0', 1, 3), ('ZZ', 3, 3)):\n",
    "    try:\n",
    "        boxPrint(sym, w, h)\n",
    "    # err를 받아와서 출력해주는 형태\n",
    "    except Exception as err:\n",
    "        print(f'Error! {err}')"
   ]
  },
  {
   "cell_type": "code",
   "execution_count": null,
   "metadata": {},
   "outputs": [],
   "source": []
  }
 ],
 "metadata": {
  "kernelspec": {
   "display_name": "Python 3.9.12 ('base')",
   "language": "python",
   "name": "python3"
  },
  "language_info": {
   "codemirror_mode": {
    "name": "ipython",
    "version": 3
   },
   "file_extension": ".py",
   "mimetype": "text/x-python",
   "name": "python",
   "nbconvert_exporter": "python",
   "pygments_lexer": "ipython3",
   "version": "3.9.12"
  },
  "orig_nbformat": 4,
  "vscode": {
   "interpreter": {
    "hash": "610a6f344c2137faf927ea819c63f6cee33a2c04455044b28099f39fe9722347"
   }
  }
 },
 "nbformat": 4,
 "nbformat_minor": 2
}
