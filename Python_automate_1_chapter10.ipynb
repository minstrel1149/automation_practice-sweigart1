{
 "cells": [
  {
   "cell_type": "code",
   "execution_count": 21,
   "metadata": {},
   "outputs": [],
   "source": [
    "# 셸 유틸리티 -> 파일 복사, 이동, 이름 바꾸기 등(삭제는 가급적 send2trash 활용)\n",
    "import shutil\n",
    "import send2trash\n",
    "import os\n",
    "from pathlib import Path\n",
    "import zipfile\n",
    "from zipfile import ZipFile"
   ]
  },
  {
   "cell_type": "code",
   "execution_count": 3,
   "metadata": {},
   "outputs": [
    {
     "data": {
      "text/plain": [
       "WindowsPath('c:/Users/admin/python_automate/result_attachments/walnut_path_mkdir/example.xlsx')"
      ]
     },
     "execution_count": 3,
     "metadata": {},
     "output_type": "execute_result"
    }
   ],
   "source": [
    "# move 메서드는 이동(파일 이름 변경도 가능), copy 메서드는 파일 하나 복사, copytree 메서드는 폴더와 그 안 파일 모두 복사\n",
    "p1 = Path.cwd() / 'attachments'\n",
    "p2 = Path.cwd() / 'result_attachments' / 'walnut_path_mkdir'\n",
    "shutil.copy(p1 / 'example.xlsx', p2 / 'example.xlsx')"
   ]
  },
  {
   "cell_type": "code",
   "execution_count": 4,
   "metadata": {},
   "outputs": [],
   "source": [
    "# 파일/폴더 영구 삭제 -> os.unlink(path), os.rmdir(path) - 빈 폴더만 가능, shutil.rmtree(path)\n",
    "# 호출하는 부분을 주석 처리하고 print()를 활용해 삭제할 파일을 살펴볼 필요\n",
    "# send2trash.send2trash()로 휴지통으로 보내기 가능 -> 빼내오지는 못함"
   ]
  },
  {
   "cell_type": "code",
   "execution_count": 12,
   "metadata": {},
   "outputs": [
    {
     "name": "stdout",
     "output_type": "stream",
     "text": [
      "The current folder is result_attachments\n",
      "This is the subfolder: walnut\n",
      "This is the subfolder: walnut_os_mkdir\n",
      "This is the subfolder: walnut_path_mkdir\n",
      "This is the file: mydata.bak\n",
      "This is the file: mydata.dat\n",
      "This is the file: mydata.dir\n",
      "-------\n",
      "The current folder is walnut\n",
      "This is the subfolder: waffles\n",
      "-------\n",
      "The current folder is waffles\n",
      "-------\n",
      "The current folder is walnut_os_mkdir\n",
      "-------\n",
      "The current folder is walnut_path_mkdir\n",
      "This is the file: example.xlsx\n",
      "-------\n"
     ]
    }
   ],
   "source": [
    "# 디렉터리 트리 탐색\n",
    "# os.walk(path) -> folderName, subfolders, filenames 구분 가능\n",
    "# folderName은 경로를 str형태로 반환 -> os.path.basename() 활용 가능\n",
    "# subfolders와 filenames는 각각의 이름 문자열 리스트로 반환\n",
    "for folderName, subfolders, filenames in os.walk(Path.cwd() / 'result_attachments'):\n",
    "    print(f'The current folder is {os.path.basename(folderName)}')\n",
    "    for subfolder in subfolders:\n",
    "        print(f'This is the subfolder: {subfolder}')\n",
    "    for filename in filenames:\n",
    "        print(f'This is the file: {filename}')\n",
    "    print(f'-------')"
   ]
  },
  {
   "cell_type": "code",
   "execution_count": 16,
   "metadata": {},
   "outputs": [],
   "source": [
    "# zipfile.ZipFile() 함수를 호출하여 ZipFile 객체 생성\n",
    "exampleZip = ZipFile(p1 / 'example.zip')\n",
    "# namelist()를 통해 ZipFile 내 어떤 파일이 있는지 파악\n",
    "exampleZip.namelist()\n",
    "exampleZip.close()"
   ]
  },
  {
   "cell_type": "code",
   "execution_count": 18,
   "metadata": {},
   "outputs": [],
   "source": [
    "# extractall(path) 메서드를 통해 모든 파일/폴더 압축 풀기 가능 -> path를 지정하지 않으면 cwd에 압축 풀기\n",
    "shutil.copy(p1 / 'example.zip', p2 / 'example.zip')\n",
    "exampleZip = ZipFile(p2 / 'example.zip')\n",
    "exampleZip.extractall(p2)\n",
    "exampleZip.close()"
   ]
  },
  {
   "cell_type": "code",
   "execution_count": 27,
   "metadata": {},
   "outputs": [],
   "source": [
    "# ZipFile()에 mode 인자 활용하여 압축파일 쓰기모드도 가능 -> write() 메서드에서 compress_type=zipfile.ZIP_DEFLATED 활용\n",
    "# 폴더를 넣으면 빈 폴더만 압축 파일에 추가함 -> 다른 조치 필요(os.walk 활용?)\n",
    "# 문제는.. 상위 경로들까지 전부다 압축 폴더에 포함된다는건데.. 이건 어떻게 해결?\n",
    "newZip = ZipFile(p2 / 'new_example.zip', mode='w')\n",
    "newZip.write(p2 / 'spam.txt', compress_type=zipfile.ZIP_DEFLATED)\n",
    "for folderName, subfolders, filenames in os.walk(p2 / 'cats'):\n",
    "    newZip.write(folderName, compress_type=zipfile.ZIP_DEFLATED)\n",
    "    for filename in filenames:\n",
    "        newZip.write(os.path.join(folderName, filename), compress_type=zipfile.ZIP_DEFLATED)\n",
    "newZip.close()"
   ]
  },
  {
   "cell_type": "code",
   "execution_count": null,
   "metadata": {},
   "outputs": [],
   "source": []
  }
 ],
 "metadata": {
  "kernelspec": {
   "display_name": "Python 3.9.12 ('base')",
   "language": "python",
   "name": "python3"
  },
  "language_info": {
   "codemirror_mode": {
    "name": "ipython",
    "version": 3
   },
   "file_extension": ".py",
   "mimetype": "text/x-python",
   "name": "python",
   "nbconvert_exporter": "python",
   "pygments_lexer": "ipython3",
   "version": "3.9.12"
  },
  "orig_nbformat": 4,
  "vscode": {
   "interpreter": {
    "hash": "610a6f344c2137faf927ea819c63f6cee33a2c04455044b28099f39fe9722347"
   }
  }
 },
 "nbformat": 4,
 "nbformat_minor": 2
}
