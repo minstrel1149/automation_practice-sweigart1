{
 "cells": [
  {
   "cell_type": "code",
   "execution_count": 7,
   "metadata": {},
   "outputs": [],
   "source": [
    "# 책 내용 대신 파이썬 기본 smtplib, email, imaplib 모듈 활용\n",
    "import smtplib\n",
    "import email\n",
    "from email.mime.text import MIMEText\n",
    "from email.mime.multipart import MIMEMultipart\n",
    "import imaplib\n",
    "from pathlib import Path\n",
    "import pyinputplus as pyip"
   ]
  },
  {
   "cell_type": "code",
   "execution_count": 2,
   "metadata": {},
   "outputs": [
    {
     "data": {
      "text/plain": [
       "(220, b'2.0.0 Ready to start TLS')"
      ]
     },
     "execution_count": 2,
     "metadata": {},
     "output_type": "execute_result"
    }
   ],
   "source": [
    "# smtplib.SMTP()함수를 통해 smtp 객체 생성(587 포트 활용)\n",
    "# 587 포트가 안될 경우 smtplib.SMTP_SSL('smtp.gmail.com', 465) 활용\n",
    "smtpObj = smtplib.SMTP('smtp.gmail.com', 587)\n",
    "# smtp 객체를 생성한 후에는 ehlo() 메서드를 제일 먼저 호출해야(헬로 도메인)\n",
    "smtpObj.ehlo()\n",
    "# 연결을 암호화 하기 위하여 starttls() 메서드 호출 -> SSL을 사용하여 465 포트에 연결했다면 이 단계 건너뛰기 가능\n",
    "smtpObj.starttls()"
   ]
  },
  {
   "cell_type": "code",
   "execution_count": 3,
   "metadata": {},
   "outputs": [
    {
     "name": "stdout",
     "output_type": "stream",
     "text": [
      "비밀번호를 입력해주세요.: "
     ]
    }
   ],
   "source": [
    "# pyinputplus를 활용하여 소스코드에 비밀번호 직접 넣지 않도록 조치\n",
    "password = pyip.inputStr(prompt='비밀번호를 입력해주세요.: ')\n",
    "# login 메서드를 이용해 로그인 -> 반환값 235는 인증에 성공했음을 의미\n",
    "smtpObj.login('kth1149@gmail.com', password)\n",
    "password = None"
   ]
  },
  {
   "cell_type": "code",
   "execution_count": 4,
   "metadata": {},
   "outputs": [],
   "source": [
    "# MIMEMultipart() 및 MIMEText() 이용하여 MIMEText(메시지) 등 객체 생성\n",
    "# MIMEText()에 html 문서를 집어넣을 수도 있으며, 그 경우 두 번째 인자로 'html' 넣어줘야 -> HTML 웹에디터 활용 가능\n",
    "msg = MIMEMultipart()\n",
    "# msg['subject'], msg['to'], msg['from'], msg['cc'], msg['bcc'] 활용\n",
    "msg['Subject'] = '파이썬에서 보내는 이메일입니다.'\n",
    "msg['To'] = 'tkim@iportfolio.co.kr'\n",
    "msg['From'] = 'kth1149@gmail.com'\n",
    "msg['cc'] = 'kth1149@gmail.com'\n",
    "body = '파이썬에서 보내는 이메일입니다.'\n",
    "# attach 메서드를 활용하여 Multipart()에 MIMEText() 객체 삽입\n",
    "msg.attach(MIMEText(body))"
   ]
  },
  {
   "cell_type": "code",
   "execution_count": 5,
   "metadata": {},
   "outputs": [
    {
     "data": {
      "text/plain": [
       "{}"
      ]
     },
     "execution_count": 5,
     "metadata": {},
     "output_type": "execute_result"
    }
   ],
   "source": [
    "# sendmail() 메서드를 통해 메일 보내기(보내는 사람, 받는 사람, 메시지 내용 순서의 인자)\n",
    "# msg.as_string()을 활용하여 설정되었던 'cc' 주소로도 메일을 보낼 수 있음을 확인\n",
    "smtpObj.sendmail(msg['from'], msg['to'], msg.as_string())"
   ]
  },
  {
   "cell_type": "code",
   "execution_count": 6,
   "metadata": {},
   "outputs": [
    {
     "data": {
      "text/plain": [
       "(221,\n",
       " b'2.0.0 closing connection a4-20020a170902ecc400b0016d2e772550sm6995609plh.175 - gsmtp')"
      ]
     },
     "execution_count": 6,
     "metadata": {},
     "output_type": "execute_result"
    }
   ],
   "source": [
    "# quit() 메서드를 사용해 연결 종료\n",
    "smtpObj.quit()"
   ]
  },
  {
   "cell_type": "code",
   "execution_count": null,
   "metadata": {},
   "outputs": [],
   "source": []
  }
 ],
 "metadata": {
  "kernelspec": {
   "display_name": "Python 3.9.12 ('base')",
   "language": "python",
   "name": "python3"
  },
  "language_info": {
   "codemirror_mode": {
    "name": "ipython",
    "version": 3
   },
   "file_extension": ".py",
   "mimetype": "text/x-python",
   "name": "python",
   "nbconvert_exporter": "python",
   "pygments_lexer": "ipython3",
   "version": "3.9.12"
  },
  "orig_nbformat": 4,
  "vscode": {
   "interpreter": {
    "hash": "610a6f344c2137faf927ea819c63f6cee33a2c04455044b28099f39fe9722347"
   }
  }
 },
 "nbformat": 4,
 "nbformat_minor": 2
}
