{
 "cells": [
  {
   "cell_type": "code",
   "execution_count": 2,
   "metadata": {},
   "outputs": [],
   "source": [
    "# 책 내용 대신 파이썬 기본 smtplib, email, imaplib 모듈 활용\n",
    "import smtplib\n",
    "import email\n",
    "from email.mime.text import MIMEText\n",
    "from email.mime.multipart import MIMEMultipart\n",
    "import imaplib\n",
    "from pathlib import Path\n",
    "import pyinputplus as pyip"
   ]
  },
  {
   "cell_type": "code",
   "execution_count": 2,
   "metadata": {},
   "outputs": [
    {
     "data": {
      "text/plain": [
       "(220, b'2.0.0 Ready to start TLS')"
      ]
     },
     "execution_count": 2,
     "metadata": {},
     "output_type": "execute_result"
    }
   ],
   "source": [
    "# smtplib.SMTP()함수를 통해 smtp 객체 생성(587 포트 활용)\n",
    "# 587 포트가 안될 경우 smtplib.SMTP_SSL('smtp.gmail.com', 465) 활용\n",
    "smtpObj = smtplib.SMTP('smtp.gmail.com', 587)\n",
    "# smtp 객체를 생성한 후에는 ehlo() 메서드를 제일 먼저 호출해야(헬로 도메인)\n",
    "smtpObj.ehlo()\n",
    "# 연결을 암호화 하기 위하여 starttls() 메서드 호출 -> SSL을 사용하여 465 포트에 연결했다면 이 단계 건너뛰기 가능\n",
    "smtpObj.starttls()"
   ]
  },
  {
   "cell_type": "code",
   "execution_count": 3,
   "metadata": {},
   "outputs": [
    {
     "name": "stdout",
     "output_type": "stream",
     "text": [
      "비밀번호를 입력해주세요.: "
     ]
    }
   ],
   "source": [
    "# pyinputplus를 활용하여 소스코드에 비밀번호 직접 넣지 않도록 조치\n",
    "password = pyip.inputStr(prompt='비밀번호를 입력해주세요.: ')\n",
    "# login 메서드를 이용해 로그인 -> 반환값 235는 인증에 성공했음을 의미\n",
    "smtpObj.login('kth1149@gmail.com', password)\n",
    "password = None"
   ]
  },
  {
   "cell_type": "code",
   "execution_count": 4,
   "metadata": {},
   "outputs": [],
   "source": [
    "# MIMEMultipart() 및 MIMEText() 이용하여 MIMEText(메시지) 등 객체 생성\n",
    "# MIMEText()에 html 문서를 집어넣을 수도 있으며, 그 경우 두 번째 인자로 'html' 넣어줘야 -> HTML 웹에디터 활용 가능\n",
    "msg = MIMEMultipart()\n",
    "# msg['subject'], msg['to'], msg['from'], msg['cc'], msg['bcc'] 활용\n",
    "msg['Subject'] = '파이썬에서 보내는 이메일입니다.'\n",
    "msg['To'] = 'tkim@iportfolio.co.kr'\n",
    "msg['From'] = 'kth1149@gmail.com'\n",
    "msg['cc'] = 'kth1149@gmail.com'\n",
    "body = '파이썬에서 보내는 이메일입니다.'\n",
    "# attach 메서드를 활용하여 Multipart()에 MIMEText() 객체 삽입\n",
    "msg.attach(MIMEText(body))"
   ]
  },
  {
   "cell_type": "code",
   "execution_count": 5,
   "metadata": {},
   "outputs": [
    {
     "data": {
      "text/plain": [
       "{}"
      ]
     },
     "execution_count": 5,
     "metadata": {},
     "output_type": "execute_result"
    }
   ],
   "source": [
    "# sendmail() 메서드를 통해 메일 보내기(보내는 사람, 받는 사람, 메시지 내용 순서의 인자)\n",
    "# msg.as_string()을 활용하여 설정되었던 'cc' 주소로도 메일을 보낼 수 있음을 확인\n",
    "smtpObj.sendmail(msg['from'], msg['to'], msg.as_string())"
   ]
  },
  {
   "cell_type": "code",
   "execution_count": 6,
   "metadata": {},
   "outputs": [
    {
     "data": {
      "text/plain": [
       "(221,\n",
       " b'2.0.0 closing connection a4-20020a170902ecc400b0016d2e772550sm6995609plh.175 - gsmtp')"
      ]
     },
     "execution_count": 6,
     "metadata": {},
     "output_type": "execute_result"
    }
   ],
   "source": [
    "# quit() 메서드를 사용해 연결 종료\n",
    "smtpObj.quit()"
   ]
  },
  {
   "cell_type": "code",
   "execution_count": 3,
   "metadata": {},
   "outputs": [],
   "source": [
    "# imaplib.IMAP4_SSL() 함수를 통해 imap 객체 생성\n",
    "imapObj = imaplib.IMAP4_SSL('imap.gmail.com')"
   ]
  },
  {
   "cell_type": "code",
   "execution_count": 4,
   "metadata": {},
   "outputs": [
    {
     "name": "stdout",
     "output_type": "stream",
     "text": [
      "비밀번호를 입력해주세요.: "
     ]
    }
   ],
   "source": [
    "# pyinputplus를 활용하여 소스코드에 비밀번호 직접 넣지 않도록 조치\n",
    "password = pyip.inputStr(prompt='비밀번호를 입력해주세요.: ')\n",
    "# login 메서드를 이용해 로그인 -> Success는 인증에 성공했음을 의미\n",
    "imapObj.login('kth1149@gmail.com', password)\n",
    "password = None"
   ]
  },
  {
   "cell_type": "code",
   "execution_count": 5,
   "metadata": {},
   "outputs": [
    {
     "data": {
      "text/plain": [
       "('OK', [b'24322'])"
      ]
     },
     "execution_count": 5,
     "metadata": {},
     "output_type": "execute_result"
    }
   ],
   "source": [
    "# select() 메서드를 통하여 메일함 지정 -> 'INBOX' 등\n",
    "# readonly=True 인자를 통해 읽기 전용으로 열기도 가능\n",
    "imapObj.select('INBOX', readonly=True)"
   ]
  },
  {
   "cell_type": "code",
   "execution_count": 6,
   "metadata": {},
   "outputs": [
    {
     "data": {
      "text/plain": [
       "('OK',\n",
       " [b'(\\\\HasNoChildren) \"/\" \"INBOX\"',\n",
       "  b'(\\\\HasNoChildren) \"/\" \"Sent\"',\n",
       "  b'(\\\\HasChildren \\\\Noselect) \"/\" \"[Gmail]\"',\n",
       "  b'(\\\\Flagged \\\\HasNoChildren) \"/\" \"[Gmail]/&vMTUXNO4ycDVaA-\"',\n",
       "  b'(\\\\HasNoChildren \\\\Sent) \"/\" \"[Gmail]/&vPSwuNO4ycDVaA-\"',\n",
       "  b'(\\\\HasNoChildren \\\\Junk) \"/\" \"[Gmail]/&wqTTONVo-\"',\n",
       "  b'(\\\\Drafts \\\\HasNoChildren) \"/\" \"[Gmail]/&x4TC3Lz0rQDVaA-\"',\n",
       "  b'(\\\\All \\\\HasNoChildren) \"/\" \"[Gmail]/&yATMtLz0rQDVaA-\"',\n",
       "  b'(\\\\HasNoChildren \\\\Important) \"/\" \"[Gmail]/&yRHGlA-\"',\n",
       "  b'(\\\\HasNoChildren \\\\Trash) \"/\" \"[Gmail]/&1zTJwNG1-\"'])"
      ]
     },
     "execution_count": 6,
     "metadata": {},
     "output_type": "execute_result"
    }
   ],
   "source": [
    "# 메일함의 리스트 확인\n",
    "imapObj.list()"
   ]
  },
  {
   "cell_type": "code",
   "execution_count": 7,
   "metadata": {},
   "outputs": [
    {
     "data": {
      "text/plain": [
       "[b'936', b'993']"
      ]
     },
     "execution_count": 7,
     "metadata": {},
     "output_type": "execute_result"
    }
   ],
   "source": [
    "# search() 메서드 활용 -> 첫 번째 인자는 charset, 두 번째 인자는 찾고자 하는 내용\n",
    "# status와 result(uid의 리스트 형태)를 튜플로 반환\n",
    "status, result = imapObj.search('utf-8', '(FROM \"kth1149@gmail.com\")')\n",
    "# result는 리스트 형태이므로, index 0을 지정 후 split()으로 새로운 리스트로 분류\n",
    "result = result[0].split()\n",
    "result[:2]"
   ]
  },
  {
   "cell_type": "code",
   "execution_count": 8,
   "metadata": {},
   "outputs": [],
   "source": [
    "# 가장 최근 uid를 선택\n",
    "recent = result[-5]\n",
    "# fetch() 메서드를 활용하여 확인 -> 첫 번째 인자는 확인하고자 하는 uid, 두 번째 인자는 '(RFC822)'로 고정\n",
    "# 마찬가지로 status와 result(인코딩 이전 메시지 형태)를 튜플로 반환\n",
    "status, result = imapObj.fetch(recent, '(RFC822)')"
   ]
  },
  {
   "cell_type": "code",
   "execution_count": 9,
   "metadata": {},
   "outputs": [],
   "source": [
    "# result[0][1](이게 뭔지는 모르겠으나.. 필요한 정보만을 따로 추출한 것으로 보임)를 raw로 지정\n",
    "raw = result[0][1]"
   ]
  },
  {
   "cell_type": "code",
   "execution_count": 10,
   "metadata": {},
   "outputs": [
    {
     "data": {
      "text/plain": [
       "['Return-Path',\n",
       " 'Received',\n",
       " 'Message-ID',\n",
       " 'Date',\n",
       " 'From',\n",
       " 'X-Google-Original-From',\n",
       " 'Content-Type',\n",
       " 'MIME-Version',\n",
       " 'To',\n",
       " 'cc',\n",
       " 'Subject']"
      ]
     },
     "execution_count": 10,
     "metadata": {},
     "output_type": "execute_result"
    }
   ],
   "source": [
    "# email 모듈 활용하여 진행\n",
    "# email.message_from_bytes() 활용 -> 디코딩을 진행하지 않았으므로\n",
    "email_msg = email.message_from_bytes(raw)\n",
    "# keys() 메서드를 통해 어떠한 키들이 있는지 확인 -> 즉, email_msg는 딕셔너리의 형태\n",
    "email_msg.keys()"
   ]
  },
  {
   "cell_type": "code",
   "execution_count": 11,
   "metadata": {},
   "outputs": [
    {
     "data": {
      "text/plain": [
       "('kth1149@gmail.com',\n",
       " 'kth1149@gmail.com',\n",
       " '[IMPORTANT] Jun 2014 dues unpaid.',\n",
       " 'Thu, 28 Jul 2022 07:22:23 -0700 (PDT)')"
      ]
     },
     "execution_count": 11,
     "metadata": {},
     "output_type": "execute_result"
    }
   ],
   "source": [
    "# 수신인, 발신인, 제목, 일시 확인\n",
    "email_msg['To'], email_msg['From'], email_msg['Subject'], email_msg['Date']"
   ]
  },
  {
   "cell_type": "code",
   "execution_count": 16,
   "metadata": {},
   "outputs": [
    {
     "name": "stdout",
     "output_type": "stream",
     "text": [
      "[<email.message.Message object at 0x0000023102BF8850>]\n"
     ]
    }
   ],
   "source": [
    "# 메일 본문 내용을 get_payload() 메서드를 통해 확인\n",
    "print(email_msg.get_payload())"
   ]
  },
  {
   "cell_type": "code",
   "execution_count": 121,
   "metadata": {},
   "outputs": [
    {
     "data": {
      "text/plain": [
       "('BYE', [b'LOGOUT Requested'])"
      ]
     },
     "execution_count": 121,
     "metadata": {},
     "output_type": "execute_result"
    }
   ],
   "source": [
    "# imap에서 로그아웃 진행\n",
    "imapObj.logout()"
   ]
  }
 ],
 "metadata": {
  "kernelspec": {
   "display_name": "Python 3.9.12 ('base')",
   "language": "python",
   "name": "python3"
  },
  "language_info": {
   "codemirror_mode": {
    "name": "ipython",
    "version": 3
   },
   "file_extension": ".py",
   "mimetype": "text/x-python",
   "name": "python",
   "nbconvert_exporter": "python",
   "pygments_lexer": "ipython3",
   "version": "3.9.12"
  },
  "orig_nbformat": 4,
  "vscode": {
   "interpreter": {
    "hash": "610a6f344c2137faf927ea819c63f6cee33a2c04455044b28099f39fe9722347"
   }
  }
 },
 "nbformat": 4,
 "nbformat_minor": 2
}
