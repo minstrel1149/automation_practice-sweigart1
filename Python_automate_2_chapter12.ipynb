{
 "cells": [
  {
   "cell_type": "code",
   "execution_count": 1,
   "metadata": {},
   "outputs": [],
   "source": [
    "import webbrowser\n",
    "import requests\n",
    "from bs4 import BeautifulSoup as BS\n",
    "from selenium import webdriver\n",
    "from urllib.request import urlopen\n",
    "import pyinputplus as pyip\n",
    "from pathlib import Path"
   ]
  },
  {
   "cell_type": "code",
   "execution_count": 2,
   "metadata": {},
   "outputs": [
    {
     "name": "stdout",
     "output_type": "stream",
     "text": [
      "찾는 주소를 입력해주세요."
     ]
    },
    {
     "data": {
      "text/plain": [
       "True"
      ]
     },
     "execution_count": 2,
     "metadata": {},
     "output_type": "execute_result"
    }
   ],
   "source": [
    "findAddress = pyip.inputStr(prompt='찾는 주소를 입력해주세요.')\n",
    "webbrowser.open(f'https://map.naver.com/v5/search/{findAddress}/place')"
   ]
  },
  {
   "cell_type": "code",
   "execution_count": 5,
   "metadata": {},
   "outputs": [
    {
     "name": "stdout",
     "output_type": "stream",
     "text": [
      "The Project Gutenberg EBook of Romeo and Juliet, by William Shakespeare\n",
      "\n",
      "This eBook is for the use of anyone anywhere at no cost and with\n",
      "almost no restrictions whatsoever.  You may copy it, give it away or\n",
      "re-use it under the terms of the Projec\n"
     ]
    }
   ],
   "source": [
    "res = requests.get('https://automatetheboringstuff.com/files/rj.txt')\n",
    "res.raise_for_status()\n",
    "print(res.text[:250])"
   ]
  },
  {
   "cell_type": "code",
   "execution_count": 6,
   "metadata": {},
   "outputs": [],
   "source": [
    "path = Path.cwd() / 'result_attachments' / 'walnut2'\n",
    "with open(path / 'Romeo and Juliet.txt', mode='wb') as playFile:\n",
    "    for chunk in res.iter_content(100000):\n",
    "        playFile.write(chunk)"
   ]
  },
  {
   "cell_type": "code",
   "execution_count": 13,
   "metadata": {},
   "outputs": [
    {
     "data": {
      "text/plain": [
       "bs4.BeautifulSoup"
      ]
     },
     "execution_count": 13,
     "metadata": {},
     "output_type": "execute_result"
    }
   ],
   "source": [
    "res = requests.get('https://nostarch.com')\n",
    "res.raise_for_status()\n",
    "bsObj = BS(res.text, 'html.parser')\n",
    "type(bsObj)"
   ]
  },
  {
   "cell_type": "code",
   "execution_count": 19,
   "metadata": {},
   "outputs": [
    {
     "data": {
      "text/plain": [
       "(<a class=\"element-invisible element-focusable\" href=\"#main-content\">Skip to main content</a>,\n",
       " 'Skip to main content')"
      ]
     },
     "execution_count": 19,
     "metadata": {},
     "output_type": "execute_result"
    }
   ],
   "source": [
    "bsObj.select('div a')[0], bsObj.select('div')[0].text.strip()"
   ]
  },
  {
   "cell_type": "code",
   "execution_count": 29,
   "metadata": {},
   "outputs": [
    {
     "data": {
      "text/plain": [
       "(<div id=\"skip-link\">\n",
       " <a class=\"element-invisible element-focusable\" href=\"#main-content\">Skip to main content</a>\n",
       " </div>,\n",
       " 'skip-link')"
      ]
     },
     "execution_count": 29,
     "metadata": {},
     "output_type": "execute_result"
    }
   ],
   "source": [
    "bsObj.select('#skip-link')[0], bsObj.select('#skip-link')[0].get('id')"
   ]
  },
  {
   "cell_type": "code",
   "execution_count": 36,
   "metadata": {},
   "outputs": [
    {
     "data": {
      "text/plain": [
       "('skip-link', {'id': 'skip-link'})"
      ]
     },
     "execution_count": 36,
     "metadata": {},
     "output_type": "execute_result"
    }
   ],
   "source": [
    "bsObj.select('div')[0].get('id'), bsObj.select('div')[0].attrs"
   ]
  },
  {
   "cell_type": "code",
   "execution_count": 41,
   "metadata": {},
   "outputs": [
    {
     "data": {
      "text/plain": [
       "['DevOps for the Desperate Cover',\n",
       " 'The Book of Recursion',\n",
       " 'Engineering in Plain Sight Cover',\n",
       " 'Open Circuits Cover',\n",
       " 'How to Hack Like a Legend Cover',\n",
       " 'Hacking APIs Cover',\n",
       " 'Open Circuits Cover',\n",
       " 'Engineering in Plain Sight Cover',\n",
       " 'The LEGO Engineer Cover',\n",
       " 'Python for Kids, 2nd Edition Cover',\n",
       " 'Python Crash Course 3rd Edition Cover',\n",
       " 'Cybersecurity for Small Networks Cover',\n",
       " 'Python Tools for Scientists Cover',\n",
       " 'Dead Simple Python Cover',\n",
       " 'How to Hack Like a Legend Cover',\n",
       " 'AVR Workshop Cover',\n",
       " 'Mastering LEGO® MINDSTORMS Cover',\n",
       " 'Getting Started with LEGO® MINDSTORMS Cover',\n",
       " 'Data Structures the Fun Way Cover',\n",
       " 'Strange Code Cover',\n",
       " 'The Rust Programming Language, 2E Cover',\n",
       " 'Black Hat GraphQL Cover',\n",
       " 'Learn Physics with Functional Programming Cover',\n",
       " 'Ada & Zangemann Cover',\n",
       " 'MySQL Crash Course Cover',\n",
       " 'Modeling and Simulation in Python Cover',\n",
       " 'Dive Into Data Science cover',\n",
       " 'The Art of Machine Learning Cover',\n",
       " 'Codebreaking Cover',\n",
       " 'JavaScript Crash Course Cover',\n",
       " 'PHP Crash Course Cover',\n",
       " 'Writing a C Compiler Cover',\n",
       " 'Metasploit, 2nd Edition']"
      ]
     },
     "execution_count": 41,
     "metadata": {},
     "output_type": "execute_result"
    }
   ],
   "source": [
    "[x.get('title') for x in bsObj.find_all('img', {'class':'img-responsive'}) if x.get('title') is not None]"
   ]
  },
  {
   "cell_type": "code",
   "execution_count": null,
   "metadata": {},
   "outputs": [],
   "source": []
  }
 ],
 "metadata": {
  "kernelspec": {
   "display_name": "Python 3.9.12 ('base')",
   "language": "python",
   "name": "python3"
  },
  "language_info": {
   "codemirror_mode": {
    "name": "ipython",
    "version": 3
   },
   "file_extension": ".py",
   "mimetype": "text/x-python",
   "name": "python",
   "nbconvert_exporter": "python",
   "pygments_lexer": "ipython3",
   "version": "3.9.12"
  },
  "orig_nbformat": 4,
  "vscode": {
   "interpreter": {
    "hash": "610a6f344c2137faf927ea819c63f6cee33a2c04455044b28099f39fe9722347"
   }
  }
 },
 "nbformat": 4,
 "nbformat_minor": 2
}
