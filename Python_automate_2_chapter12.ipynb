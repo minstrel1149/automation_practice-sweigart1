{
 "cells": [
  {
   "cell_type": "code",
   "execution_count": 11,
   "metadata": {},
   "outputs": [],
   "source": [
    "import webbrowser\n",
    "import requests\n",
    "from bs4 import BeautifulSoup as BS\n",
    "from selenium import webdriver\n",
    "from selenium.webdriver.chrome.service import Service\n",
    "from webdriver_manager.chrome import ChromeDriverManager\n",
    "from selenium.webdriver.common.by import By\n",
    "from selenium.webdriver.common.keys import Keys\n",
    "from selenium.webdriver.chrome.options import Options\n",
    "from urllib.request import urlopen\n",
    "import pyinputplus as pyip\n",
    "from pathlib import Path"
   ]
  },
  {
   "cell_type": "code",
   "execution_count": 2,
   "metadata": {},
   "outputs": [
    {
     "name": "stdout",
     "output_type": "stream",
     "text": [
      "찾는 주소를 입력해주세요."
     ]
    },
    {
     "data": {
      "text/plain": [
       "True"
      ]
     },
     "execution_count": 2,
     "metadata": {},
     "output_type": "execute_result"
    }
   ],
   "source": [
    "findAddress = pyip.inputStr(prompt='찾는 주소를 입력해주세요.')\n",
    "webbrowser.open(f'https://map.naver.com/v5/search/{findAddress}/place')"
   ]
  },
  {
   "cell_type": "code",
   "execution_count": 3,
   "metadata": {},
   "outputs": [
    {
     "name": "stdout",
     "output_type": "stream",
     "text": [
      "The Project Gutenberg EBook of Romeo and Juliet, by William Shakespeare\n",
      "\n",
      "This eBook is for the use of anyone anywhere at no cost and with\n",
      "almost no restrictions whatsoever.  You may copy it, give it away or\n",
      "re-use it under the terms of the Projec\n"
     ]
    }
   ],
   "source": [
    "res = requests.get('https://automatetheboringstuff.com/files/rj.txt')\n",
    "res.raise_for_status()\n",
    "print(res.text[:250])"
   ]
  },
  {
   "cell_type": "code",
   "execution_count": 4,
   "metadata": {},
   "outputs": [],
   "source": [
    "path = Path.cwd() / 'result_attachments' / 'walnut2'\n",
    "with open(path / 'Romeo and Juliet.txt', mode='wb') as playFile:\n",
    "    for chunk in res.iter_content(100000):\n",
    "        playFile.write(chunk)"
   ]
  },
  {
   "cell_type": "code",
   "execution_count": 5,
   "metadata": {},
   "outputs": [
    {
     "data": {
      "text/plain": [
       "bs4.BeautifulSoup"
      ]
     },
     "execution_count": 5,
     "metadata": {},
     "output_type": "execute_result"
    }
   ],
   "source": [
    "res = requests.get('https://nostarch.com')\n",
    "res.raise_for_status()\n",
    "bsObj = BS(res.text, 'html.parser')\n",
    "type(bsObj)"
   ]
  },
  {
   "cell_type": "code",
   "execution_count": 6,
   "metadata": {},
   "outputs": [
    {
     "data": {
      "text/plain": [
       "(<a class=\"element-invisible element-focusable\" href=\"#main-content\">Skip to main content</a>,\n",
       " 'Skip to main content')"
      ]
     },
     "execution_count": 6,
     "metadata": {},
     "output_type": "execute_result"
    }
   ],
   "source": [
    "bsObj.select('div a')[0], bsObj.select('div')[0].text.strip()"
   ]
  },
  {
   "cell_type": "code",
   "execution_count": 7,
   "metadata": {},
   "outputs": [
    {
     "data": {
      "text/plain": [
       "(<div id=\"skip-link\">\n",
       " <a class=\"element-invisible element-focusable\" href=\"#main-content\">Skip to main content</a>\n",
       " </div>,\n",
       " 'skip-link')"
      ]
     },
     "execution_count": 7,
     "metadata": {},
     "output_type": "execute_result"
    }
   ],
   "source": [
    "bsObj.select('#skip-link')[0], bsObj.select('#skip-link')[0].get('id')"
   ]
  },
  {
   "cell_type": "code",
   "execution_count": 8,
   "metadata": {},
   "outputs": [
    {
     "data": {
      "text/plain": [
       "('skip-link', {'id': 'skip-link'})"
      ]
     },
     "execution_count": 8,
     "metadata": {},
     "output_type": "execute_result"
    }
   ],
   "source": [
    "bsObj.select('div')[0].get('id'), bsObj.select('div')[0].attrs"
   ]
  },
  {
   "cell_type": "code",
   "execution_count": 9,
   "metadata": {},
   "outputs": [
    {
     "data": {
      "text/plain": [
       "['The Book of Recursion',\n",
       " 'Hacking APIs Cover',\n",
       " 'The Art of Mac Malware Cover',\n",
       " 'Open Circuits Cover',\n",
       " 'Engineering in Plain Sight Cover',\n",
       " 'How to Hack Like a Legend Cover',\n",
       " 'Open Circuits Cover',\n",
       " 'Engineering in Plain Sight Cover',\n",
       " 'The LEGO Engineer Cover',\n",
       " 'Python for Kids, 2nd Edition Cover',\n",
       " 'Python Crash Course 3rd Edition Cover',\n",
       " 'Cybersecurity for Small Networks Cover',\n",
       " 'Python Tools for Scientists Cover',\n",
       " 'Dead Simple Python Cover',\n",
       " 'How to Hack Like a Legend Cover',\n",
       " 'AVR Workshop Cover',\n",
       " 'Mastering LEGO® MINDSTORMS Cover',\n",
       " 'Getting Started with LEGO® MINDSTORMS Cover',\n",
       " 'Data Structures the Fun Way Cover',\n",
       " 'Strange Code Cover',\n",
       " 'The Rust Programming Language, 2E Cover',\n",
       " 'Black Hat GraphQL Cover',\n",
       " 'Learn Physics with Functional Programming Cover',\n",
       " 'Ada & Zangemann Cover',\n",
       " 'MySQL Crash Course Cover',\n",
       " 'Modeling and Simulation in Python Cover',\n",
       " 'Dive Into Data Science cover',\n",
       " 'The Art of Machine Learning Cover',\n",
       " 'Codebreaking Cover',\n",
       " 'JavaScript Crash Course Cover',\n",
       " 'PHP Crash Course Cover',\n",
       " 'Writing a C Compiler Cover',\n",
       " 'Metasploit, 2nd Edition']"
      ]
     },
     "execution_count": 9,
     "metadata": {},
     "output_type": "execute_result"
    }
   ],
   "source": [
    "[x.get('title') for x in bsObj.find_all('img', {'class':'img-responsive'}) if x.get('title') is not None]"
   ]
  },
  {
   "cell_type": "code",
   "execution_count": 12,
   "metadata": {},
   "outputs": [
    {
     "name": "stderr",
     "output_type": "stream",
     "text": [
      "[WDM] - Downloading: 100%|██████████| 6.58M/6.58M [00:00<00:00, 11.9MB/s]\n"
     ]
    }
   ],
   "source": [
    "options = Options()\n",
    "options.add_argument('--window-size=1600,900')\n",
    "driver = webdriver.Chrome(service=Service(ChromeDriverManager().install()), options=options)"
   ]
  },
  {
   "cell_type": "code",
   "execution_count": 13,
   "metadata": {},
   "outputs": [],
   "source": [
    "driver.get('https://inventwithpython.com')\n",
    "page = driver.page_source\n",
    "bsObj = BS(page, 'html.parser')"
   ]
  },
  {
   "cell_type": "code",
   "execution_count": 17,
   "metadata": {},
   "outputs": [
    {
     "data": {
      "text/plain": [
       "'navbarDropdownReadMenuLink'"
      ]
     },
     "execution_count": 17,
     "metadata": {},
     "output_type": "execute_result"
    }
   ],
   "source": [
    "bsObj.select('div a')[0].get('id')"
   ]
  },
  {
   "cell_type": "code",
   "execution_count": 28,
   "metadata": {},
   "outputs": [
    {
     "data": {
      "text/plain": [
       "'img'"
      ]
     },
     "execution_count": 28,
     "metadata": {},
     "output_type": "execute_result"
    }
   ],
   "source": [
    "elems = driver.find_elements(By.CLASS_NAME, 'cover-thumb')\n",
    "elems[0].tag_name"
   ]
  },
  {
   "cell_type": "code",
   "execution_count": 40,
   "metadata": {},
   "outputs": [
    {
     "data": {
      "text/plain": [
       "'Read for Free'"
      ]
     },
     "execution_count": 40,
     "metadata": {},
     "output_type": "execute_result"
    }
   ],
   "source": [
    "elems = driver.find_elements(By.CLASS_NAME, 'dropdown-toggle')\n",
    "elems[0].text"
   ]
  },
  {
   "cell_type": "code",
   "execution_count": 38,
   "metadata": {},
   "outputs": [
    {
     "data": {
      "text/plain": [
       "'Cover of Automate the Boring Stuff with Python'"
      ]
     },
     "execution_count": 38,
     "metadata": {},
     "output_type": "execute_result"
    }
   ],
   "source": [
    "elems = driver.find_elements(By.CLASS_NAME, 'cover-thumb')\n",
    "elems[0].get_attribute('alt')"
   ]
  },
  {
   "cell_type": "code",
   "execution_count": 41,
   "metadata": {},
   "outputs": [],
   "source": [
    "linkElem = driver.find_element(By.LINK_TEXT, 'Read Online for Free')\n",
    "linkElem.click()"
   ]
  },
  {
   "cell_type": "code",
   "execution_count": 43,
   "metadata": {},
   "outputs": [],
   "source": [
    "linkElem = driver.find_element(By.PARTIAL_LINK_TEXT, 'Free to read')\n",
    "linkElem.click()"
   ]
  },
  {
   "cell_type": "code",
   "execution_count": 45,
   "metadata": {},
   "outputs": [],
   "source": [
    "driver.get('https://login.metafilter.com')\n",
    "userElem = driver.find_element(By.ID, 'user_name')\n",
    "userElem.send_keys('id12345')\n",
    "pwElem = driver.find_element(By.ID, 'user_pass')\n",
    "pwElem.send_keys('password12345')\n",
    "pwElem.submit()"
   ]
  },
  {
   "cell_type": "code",
   "execution_count": 46,
   "metadata": {},
   "outputs": [],
   "source": [
    "driver.get('https://nostarch.com')\n",
    "elem = driver.find_element(By.TAG_NAME, 'html')\n",
    "elem.send_keys(Keys.END)"
   ]
  },
  {
   "cell_type": "code",
   "execution_count": 47,
   "metadata": {},
   "outputs": [],
   "source": [
    "driver.quit()"
   ]
  },
  {
   "cell_type": "code",
   "execution_count": null,
   "metadata": {},
   "outputs": [],
   "source": []
  }
 ],
 "metadata": {
  "kernelspec": {
   "display_name": "Python 3.9.12 ('base')",
   "language": "python",
   "name": "python3"
  },
  "language_info": {
   "codemirror_mode": {
    "name": "ipython",
    "version": 3
   },
   "file_extension": ".py",
   "mimetype": "text/x-python",
   "name": "python",
   "nbconvert_exporter": "python",
   "pygments_lexer": "ipython3",
   "version": "3.9.12"
  },
  "orig_nbformat": 4,
  "vscode": {
   "interpreter": {
    "hash": "610a6f344c2137faf927ea819c63f6cee33a2c04455044b28099f39fe9722347"
   }
  }
 },
 "nbformat": 4,
 "nbformat_minor": 2
}
