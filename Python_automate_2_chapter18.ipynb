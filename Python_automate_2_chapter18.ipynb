{
 "cells": [
  {
   "cell_type": "code",
   "execution_count": 2,
   "metadata": {},
   "outputs": [],
   "source": [
    "# 책 내용 대신 파이썬 기본 smtplib, email, imaplib 모듈 활용\n",
    "import smtplib\n",
    "import email\n",
    "from email.mime.text import MIMEText\n",
    "from email.mime.multipart import MIMEMultipart\n",
    "import imaplib\n",
    "from pathlib import Path\n",
    "import pyinputplus as pyip"
   ]
  },
  {
   "cell_type": "code",
   "execution_count": 2,
   "metadata": {},
   "outputs": [
    {
     "data": {
      "text/plain": [
       "(220, b'2.0.0 Ready to start TLS')"
      ]
     },
     "execution_count": 2,
     "metadata": {},
     "output_type": "execute_result"
    }
   ],
   "source": [
    "# smtplib.SMTP()함수를 통해 smtp 객체 생성(587 포트 활용)\n",
    "# 587 포트가 안될 경우 smtplib.SMTP_SSL('smtp.gmail.com', 465) 활용\n",
    "smtpObj = smtplib.SMTP('smtp.gmail.com', 587)\n",
    "# smtp 객체를 생성한 후에는 ehlo() 메서드를 제일 먼저 호출해야(헬로 도메인)\n",
    "smtpObj.ehlo()\n",
    "# 연결을 암호화 하기 위하여 starttls() 메서드 호출 → SSL을 사용하여 465 포트에 연결했다면 이 단계 건너뛰기 가능\n",
    "smtpObj.starttls()"
   ]
  },
  {
   "cell_type": "code",
   "execution_count": 17,
   "metadata": {},
   "outputs": [
    {
     "name": "stdout",
     "output_type": "stream",
     "text": [
      "비밀번호 입력: "
     ]
    },
    {
     "ename": "SMTPServerDisconnected",
     "evalue": "please run connect() first",
     "output_type": "error",
     "traceback": [
      "\u001b[1;31m---------------------------------------------------------------------------\u001b[0m",
      "\u001b[1;31mSMTPServerDisconnected\u001b[0m                    Traceback (most recent call last)",
      "\u001b[1;32mc:\\Users\\admin\\python_automate\\Python_automate_2_chapter18.ipynb 셀 3\u001b[0m in \u001b[0;36m<cell line: 3>\u001b[1;34m()\u001b[0m\n\u001b[0;32m      <a href='vscode-notebook-cell:/c%3A/Users/admin/python_automate/Python_automate_2_chapter18.ipynb#W2sZmlsZQ%3D%3D?line=0'>1</a>\u001b[0m \u001b[39m# 2단계 인증이 된 경우 활용 불가?\u001b[39;00m\n\u001b[0;32m      <a href='vscode-notebook-cell:/c%3A/Users/admin/python_automate/Python_automate_2_chapter18.ipynb#W2sZmlsZQ%3D%3D?line=1'>2</a>\u001b[0m password \u001b[39m=\u001b[39m pyip\u001b[39m.\u001b[39minputStr(prompt\u001b[39m=\u001b[39m\u001b[39m'\u001b[39m\u001b[39m비밀번호 입력: \u001b[39m\u001b[39m'\u001b[39m)\n\u001b[1;32m----> <a href='vscode-notebook-cell:/c%3A/Users/admin/python_automate/Python_automate_2_chapter18.ipynb#W2sZmlsZQ%3D%3D?line=2'>3</a>\u001b[0m smtpObj\u001b[39m.\u001b[39;49mlogin(\u001b[39m'\u001b[39;49m\u001b[39mkth1149@gmail.com\u001b[39;49m\u001b[39m'\u001b[39;49m, password)\n\u001b[0;32m      <a href='vscode-notebook-cell:/c%3A/Users/admin/python_automate/Python_automate_2_chapter18.ipynb#W2sZmlsZQ%3D%3D?line=3'>4</a>\u001b[0m password \u001b[39m=\u001b[39m \u001b[39mNone\u001b[39;00m\n",
      "File \u001b[1;32mc:\\Users\\admin\\anaconda3\\lib\\smtplib.py:714\u001b[0m, in \u001b[0;36mSMTP.login\u001b[1;34m(self, user, password, initial_response_ok)\u001b[0m\n\u001b[0;32m    686\u001b[0m \u001b[39mdef\u001b[39;00m \u001b[39mlogin\u001b[39m(\u001b[39mself\u001b[39m, user, password, \u001b[39m*\u001b[39m, initial_response_ok\u001b[39m=\u001b[39m\u001b[39mTrue\u001b[39;00m):\n\u001b[0;32m    687\u001b[0m     \u001b[39m\"\"\"Log in on an SMTP server that requires authentication.\u001b[39;00m\n\u001b[0;32m    688\u001b[0m \n\u001b[0;32m    689\u001b[0m \u001b[39m    The arguments are:\u001b[39;00m\n\u001b[1;32m   (...)\u001b[0m\n\u001b[0;32m    711\u001b[0m \u001b[39m                              found.\u001b[39;00m\n\u001b[0;32m    712\u001b[0m \u001b[39m    \"\"\"\u001b[39;00m\n\u001b[1;32m--> 714\u001b[0m     \u001b[39mself\u001b[39;49m\u001b[39m.\u001b[39;49mehlo_or_helo_if_needed()\n\u001b[0;32m    715\u001b[0m     \u001b[39mif\u001b[39;00m \u001b[39mnot\u001b[39;00m \u001b[39mself\u001b[39m\u001b[39m.\u001b[39mhas_extn(\u001b[39m\"\u001b[39m\u001b[39mauth\u001b[39m\u001b[39m\"\u001b[39m):\n\u001b[0;32m    716\u001b[0m         \u001b[39mraise\u001b[39;00m SMTPNotSupportedError(\n\u001b[0;32m    717\u001b[0m             \u001b[39m\"\u001b[39m\u001b[39mSMTP AUTH extension not supported by server.\u001b[39m\u001b[39m\"\u001b[39m)\n",
      "File \u001b[1;32mc:\\Users\\admin\\anaconda3\\lib\\smtplib.py:611\u001b[0m, in \u001b[0;36mSMTP.ehlo_or_helo_if_needed\u001b[1;34m(self)\u001b[0m\n\u001b[0;32m    600\u001b[0m \u001b[39m\"\"\"Call self.ehlo() and/or self.helo() if needed.\u001b[39;00m\n\u001b[0;32m    601\u001b[0m \n\u001b[0;32m    602\u001b[0m \u001b[39mIf there has been no previous EHLO or HELO command this session, this\u001b[39;00m\n\u001b[1;32m   (...)\u001b[0m\n\u001b[0;32m    608\u001b[0m \u001b[39m                          the helo greeting.\u001b[39;00m\n\u001b[0;32m    609\u001b[0m \u001b[39m\"\"\"\u001b[39;00m\n\u001b[0;32m    610\u001b[0m \u001b[39mif\u001b[39;00m \u001b[39mself\u001b[39m\u001b[39m.\u001b[39mhelo_resp \u001b[39mis\u001b[39;00m \u001b[39mNone\u001b[39;00m \u001b[39mand\u001b[39;00m \u001b[39mself\u001b[39m\u001b[39m.\u001b[39mehlo_resp \u001b[39mis\u001b[39;00m \u001b[39mNone\u001b[39;00m:\n\u001b[1;32m--> 611\u001b[0m     \u001b[39mif\u001b[39;00m \u001b[39mnot\u001b[39;00m (\u001b[39m200\u001b[39m \u001b[39m<\u001b[39m\u001b[39m=\u001b[39m \u001b[39mself\u001b[39;49m\u001b[39m.\u001b[39;49mehlo()[\u001b[39m0\u001b[39m] \u001b[39m<\u001b[39m\u001b[39m=\u001b[39m \u001b[39m299\u001b[39m):\n\u001b[0;32m    612\u001b[0m         (code, resp) \u001b[39m=\u001b[39m \u001b[39mself\u001b[39m\u001b[39m.\u001b[39mhelo()\n\u001b[0;32m    613\u001b[0m         \u001b[39mif\u001b[39;00m \u001b[39mnot\u001b[39;00m (\u001b[39m200\u001b[39m \u001b[39m<\u001b[39m\u001b[39m=\u001b[39m code \u001b[39m<\u001b[39m\u001b[39m=\u001b[39m \u001b[39m299\u001b[39m):\n",
      "File \u001b[1;32mc:\\Users\\admin\\anaconda3\\lib\\smtplib.py:451\u001b[0m, in \u001b[0;36mSMTP.ehlo\u001b[1;34m(self, name)\u001b[0m\n\u001b[0;32m    446\u001b[0m \u001b[39m\"\"\" SMTP 'ehlo' command.\u001b[39;00m\n\u001b[0;32m    447\u001b[0m \u001b[39mHostname to send for this command defaults to the FQDN of the local\u001b[39;00m\n\u001b[0;32m    448\u001b[0m \u001b[39mhost.\u001b[39;00m\n\u001b[0;32m    449\u001b[0m \u001b[39m\"\"\"\u001b[39;00m\n\u001b[0;32m    450\u001b[0m \u001b[39mself\u001b[39m\u001b[39m.\u001b[39mesmtp_features \u001b[39m=\u001b[39m {}\n\u001b[1;32m--> 451\u001b[0m \u001b[39mself\u001b[39;49m\u001b[39m.\u001b[39;49mputcmd(\u001b[39mself\u001b[39;49m\u001b[39m.\u001b[39;49mehlo_msg, name \u001b[39mor\u001b[39;49;00m \u001b[39mself\u001b[39;49m\u001b[39m.\u001b[39;49mlocal_hostname)\n\u001b[0;32m    452\u001b[0m (code, msg) \u001b[39m=\u001b[39m \u001b[39mself\u001b[39m\u001b[39m.\u001b[39mgetreply()\n\u001b[0;32m    453\u001b[0m \u001b[39m# According to RFC1869 some (badly written)\u001b[39;00m\n\u001b[0;32m    454\u001b[0m \u001b[39m# MTA's will disconnect on an ehlo. Toss an exception if\u001b[39;00m\n\u001b[0;32m    455\u001b[0m \u001b[39m# that happens -ddm\u001b[39;00m\n",
      "File \u001b[1;32mc:\\Users\\admin\\anaconda3\\lib\\smtplib.py:378\u001b[0m, in \u001b[0;36mSMTP.putcmd\u001b[1;34m(self, cmd, args)\u001b[0m\n\u001b[0;32m    374\u001b[0m     s \u001b[39m=\u001b[39m s\u001b[39m.\u001b[39mreplace(\u001b[39m'\u001b[39m\u001b[39m\\n\u001b[39;00m\u001b[39m'\u001b[39m, \u001b[39m'\u001b[39m\u001b[39m\\\\\u001b[39;00m\u001b[39mn\u001b[39m\u001b[39m'\u001b[39m)\u001b[39m.\u001b[39mreplace(\u001b[39m'\u001b[39m\u001b[39m\\r\u001b[39;00m\u001b[39m'\u001b[39m, \u001b[39m'\u001b[39m\u001b[39m\\\\\u001b[39;00m\u001b[39mr\u001b[39m\u001b[39m'\u001b[39m)\n\u001b[0;32m    375\u001b[0m     \u001b[39mraise\u001b[39;00m \u001b[39mValueError\u001b[39;00m(\n\u001b[0;32m    376\u001b[0m         \u001b[39mf\u001b[39m\u001b[39m'\u001b[39m\u001b[39mcommand and arguments contain prohibited newline characters: \u001b[39m\u001b[39m{\u001b[39;00ms\u001b[39m}\u001b[39;00m\u001b[39m'\u001b[39m\n\u001b[0;32m    377\u001b[0m     )\n\u001b[1;32m--> 378\u001b[0m \u001b[39mself\u001b[39;49m\u001b[39m.\u001b[39;49msend(\u001b[39mf\u001b[39;49m\u001b[39m'\u001b[39;49m\u001b[39m{\u001b[39;49;00ms\u001b[39m}\u001b[39;49;00m\u001b[39m{\u001b[39;49;00mCRLF\u001b[39m}\u001b[39;49;00m\u001b[39m'\u001b[39;49m)\n",
      "File \u001b[1;32mc:\\Users\\admin\\anaconda3\\lib\\smtplib.py:365\u001b[0m, in \u001b[0;36mSMTP.send\u001b[1;34m(self, s)\u001b[0m\n\u001b[0;32m    363\u001b[0m         \u001b[39mraise\u001b[39;00m SMTPServerDisconnected(\u001b[39m'\u001b[39m\u001b[39mServer not connected\u001b[39m\u001b[39m'\u001b[39m)\n\u001b[0;32m    364\u001b[0m \u001b[39melse\u001b[39;00m:\n\u001b[1;32m--> 365\u001b[0m     \u001b[39mraise\u001b[39;00m SMTPServerDisconnected(\u001b[39m'\u001b[39m\u001b[39mplease run connect() first\u001b[39m\u001b[39m'\u001b[39m)\n",
      "\u001b[1;31mSMTPServerDisconnected\u001b[0m: please run connect() first"
     ]
    }
   ],
   "source": [
    "# 2단계 인증이 된 경우 활용 불가? → 구글 앱 비밀번호 이용?\n",
    "# pyinputplus를 활용하여 소스코드에 비밀번호 직접 넣지 않도록 조치\n",
    "password = pyip.inputStr(prompt='비밀번호 입력: ')\n",
    "# login 메서드를 이용해 로그인 → 반환값 235는 인증에 성공했음을 의미\n",
    "smtpObj.login('kth1149@gmail.com', password)\n",
    "password = None"
   ]
  },
  {
   "cell_type": "code",
   "execution_count": 12,
   "metadata": {},
   "outputs": [],
   "source": [
    "# MIMEMultipart() 및 MIMEText() 이용하여 MIMEText(메시지) 등 객체 생성\n",
    "# MIMEText()에 html 문서를 집어넣을 수도 있으며, 그 경우 두 번째 인자로 'html' 넣어줘야 → HTML 웹에디터 활용 가능\n",
    "msg = MIMEMultipart()\n",
    "# msg['subject'], msg['to'], msg['from'], msg['cc'], msg['bcc'] 활용\n",
    "msg['Subject'] = '파이썬에서 보내는 이메일입니다.'\n",
    "msg['To'] = 'tkim@iportfolio.co.kr'\n",
    "msg['From'] = 'kth1149@gmail.com'\n",
    "msg['cc'] = 'kth1149@gmail.com'\n",
    "body = '파이썬에서 보내는 이메일입니다.'\n",
    "# attach 메서드를 활용하여 Multipart()에 MIMEText() 객체 삽입\n",
    "msg.attach(MIMEText(body))"
   ]
  },
  {
   "cell_type": "code",
   "execution_count": 13,
   "metadata": {},
   "outputs": [
    {
     "ename": "SMTPSenderRefused",
     "evalue": "(530, b'5.7.0 Authentication Required. Learn more at\\n5.7.0  https://support.google.com/mail/?p=WantAuthError h66-20020a62de45000000b0057524960947sm1227058pfg.39 - gsmtp', 'kth1149@gmail.com')",
     "output_type": "error",
     "traceback": [
      "\u001b[1;31m---------------------------------------------------------------------------\u001b[0m",
      "\u001b[1;31mSMTPSenderRefused\u001b[0m                         Traceback (most recent call last)",
      "\u001b[1;32mc:\\Users\\admin\\python_automate\\Python_automate_2_chapter18.ipynb 셀 5\u001b[0m in \u001b[0;36m<cell line: 1>\u001b[1;34m()\u001b[0m\n\u001b[1;32m----> <a href='vscode-notebook-cell:/c%3A/Users/admin/python_automate/Python_automate_2_chapter18.ipynb#W4sZmlsZQ%3D%3D?line=0'>1</a>\u001b[0m smtpObj\u001b[39m.\u001b[39;49msendmail(msg[\u001b[39m'\u001b[39;49m\u001b[39mfrom\u001b[39;49m\u001b[39m'\u001b[39;49m], msg[\u001b[39m'\u001b[39;49m\u001b[39mto\u001b[39;49m\u001b[39m'\u001b[39;49m], msg\u001b[39m.\u001b[39;49mas_string())\n",
      "File \u001b[1;32mc:\\Users\\admin\\anaconda3\\lib\\smtplib.py:887\u001b[0m, in \u001b[0;36mSMTP.sendmail\u001b[1;34m(self, from_addr, to_addrs, msg, mail_options, rcpt_options)\u001b[0m\n\u001b[0;32m    885\u001b[0m     \u001b[39melse\u001b[39;00m:\n\u001b[0;32m    886\u001b[0m         \u001b[39mself\u001b[39m\u001b[39m.\u001b[39m_rset()\n\u001b[1;32m--> 887\u001b[0m     \u001b[39mraise\u001b[39;00m SMTPSenderRefused(code, resp, from_addr)\n\u001b[0;32m    888\u001b[0m senderrs \u001b[39m=\u001b[39m {}\n\u001b[0;32m    889\u001b[0m \u001b[39mif\u001b[39;00m \u001b[39misinstance\u001b[39m(to_addrs, \u001b[39mstr\u001b[39m):\n",
      "\u001b[1;31mSMTPSenderRefused\u001b[0m: (530, b'5.7.0 Authentication Required. Learn more at\\n5.7.0  https://support.google.com/mail/?p=WantAuthError h66-20020a62de45000000b0057524960947sm1227058pfg.39 - gsmtp', 'kth1149@gmail.com')"
     ]
    }
   ],
   "source": [
    "# sendmail() 메서드를 통해 메일 보내기(보내는 사람, 받는 사람, 메시지 내용 순서의 인자)\n",
    "# msg.as_string()을 활용하여 설정되었던 'cc' 주소로도 메일을 보낼 수 있음을 확인\n",
    "smtpObj.sendmail(msg['from'], msg['to'], msg.as_string())"
   ]
  },
  {
   "cell_type": "code",
   "execution_count": 14,
   "metadata": {},
   "outputs": [
    {
     "data": {
      "text/plain": [
       "(221,\n",
       " b'2.0.0 closing connection h66-20020a62de45000000b0057524960947sm1227058pfg.39 - gsmtp')"
      ]
     },
     "execution_count": 14,
     "metadata": {},
     "output_type": "execute_result"
    }
   ],
   "source": [
    "# quit() 메서드를 사용해 연결 종료\n",
    "smtpObj.quit()"
   ]
  },
  {
   "cell_type": "code",
   "execution_count": 15,
   "metadata": {},
   "outputs": [],
   "source": [
    "# imaplib.IMAP4_SSL() 함수를 통해 imap 객체 생성\n",
    "imapObj = imaplib.IMAP4_SSL('imap.gmail.com')"
   ]
  },
  {
   "cell_type": "code",
   "execution_count": 18,
   "metadata": {},
   "outputs": [
    {
     "name": "stdout",
     "output_type": "stream",
     "text": [
      "비밀번호 입력: "
     ]
    }
   ],
   "source": [
    "# 2단계 인증이 된 경우 활용 불가? → 앱 비밀번호로 로그인 가능\n",
    "# pyinputplus를 활용하여 소스코드에 비밀번호 직접 넣지 않도록 조치\n",
    "password = pyip.inputStr(prompt='비밀번호 입력: ')\n",
    "# login 메서드를 이용해 로그인 → Success는 인증에 성공했음을 의미\n",
    "imapObj.login('kth1149@gmail.com', password)\n",
    "password = None"
   ]
  },
  {
   "cell_type": "code",
   "execution_count": 22,
   "metadata": {},
   "outputs": [
    {
     "data": {
      "text/plain": [
       "('OK', [b'24322'])"
      ]
     },
     "execution_count": 22,
     "metadata": {},
     "output_type": "execute_result"
    }
   ],
   "source": [
    "# select() 메서드를 통하여 메일함 지정 → 'INBOX' 등\n",
    "# readonly=True 인자를 통해 읽기 전용으로 열기도 가능\n",
    "imapObj.select('INBOX', readonly=True)"
   ]
  },
  {
   "cell_type": "code",
   "execution_count": 20,
   "metadata": {},
   "outputs": [
    {
     "data": {
      "text/plain": [
       "('OK',\n",
       " [b'(\\\\HasNoChildren) \"/\" \"INBOX\"',\n",
       "  b'(\\\\HasNoChildren) \"/\" \"Sent\"',\n",
       "  b'(\\\\HasChildren \\\\Noselect) \"/\" \"[Gmail]\"',\n",
       "  b'(\\\\Flagged \\\\HasNoChildren) \"/\" \"[Gmail]/&vMTUXNO4ycDVaA-\"',\n",
       "  b'(\\\\HasNoChildren \\\\Sent) \"/\" \"[Gmail]/&vPSwuNO4ycDVaA-\"',\n",
       "  b'(\\\\HasNoChildren \\\\Junk) \"/\" \"[Gmail]/&wqTTONVo-\"',\n",
       "  b'(\\\\Drafts \\\\HasNoChildren) \"/\" \"[Gmail]/&x4TC3Lz0rQDVaA-\"',\n",
       "  b'(\\\\All \\\\HasNoChildren) \"/\" \"[Gmail]/&yATMtLz0rQDVaA-\"',\n",
       "  b'(\\\\HasNoChildren \\\\Important) \"/\" \"[Gmail]/&yRHGlA-\"',\n",
       "  b'(\\\\HasNoChildren \\\\Trash) \"/\" \"[Gmail]/&1zTJwNG1-\"'])"
      ]
     },
     "execution_count": 20,
     "metadata": {},
     "output_type": "execute_result"
    }
   ],
   "source": [
    "# 메일함의 리스트 확인\n",
    "imapObj.list()"
   ]
  },
  {
   "cell_type": "code",
   "execution_count": 47,
   "metadata": {},
   "outputs": [
    {
     "data": {
      "text/plain": [
       "[b'936',\n",
       " b'993',\n",
       " b'1069',\n",
       " b'1077',\n",
       " b'1164',\n",
       " b'1288',\n",
       " b'1300',\n",
       " b'1339',\n",
       " b'1344',\n",
       " b'1350',\n",
       " b'1351',\n",
       " b'1359',\n",
       " b'1360',\n",
       " b'1371',\n",
       " b'1374',\n",
       " b'1375',\n",
       " b'1390',\n",
       " b'1469',\n",
       " b'1490',\n",
       " b'1492',\n",
       " b'1526',\n",
       " b'1530',\n",
       " b'1536',\n",
       " b'1538',\n",
       " b'1539',\n",
       " b'1543',\n",
       " b'1547',\n",
       " b'1551',\n",
       " b'1556',\n",
       " b'1557',\n",
       " b'1575',\n",
       " b'1576',\n",
       " b'1580',\n",
       " b'1581',\n",
       " b'1598',\n",
       " b'1600',\n",
       " b'1645',\n",
       " b'1646',\n",
       " b'1647',\n",
       " b'1660',\n",
       " b'1771',\n",
       " b'1793',\n",
       " b'1812',\n",
       " b'1823',\n",
       " b'1833',\n",
       " b'1837',\n",
       " b'1858',\n",
       " b'1862',\n",
       " b'1867',\n",
       " b'1876',\n",
       " b'1895',\n",
       " b'1926',\n",
       " b'1927',\n",
       " b'2478',\n",
       " b'2530',\n",
       " b'2534',\n",
       " b'2547',\n",
       " b'2840',\n",
       " b'2867',\n",
       " b'2878',\n",
       " b'2898',\n",
       " b'2933',\n",
       " b'2944',\n",
       " b'2976',\n",
       " b'3022',\n",
       " b'3027',\n",
       " b'3036',\n",
       " b'3058',\n",
       " b'3087',\n",
       " b'3107',\n",
       " b'3108',\n",
       " b'3111',\n",
       " b'3112',\n",
       " b'3113',\n",
       " b'3160',\n",
       " b'3161',\n",
       " b'3167',\n",
       " b'3291',\n",
       " b'3300',\n",
       " b'3314',\n",
       " b'3327',\n",
       " b'3337',\n",
       " b'3763',\n",
       " b'3886',\n",
       " b'4331',\n",
       " b'4335',\n",
       " b'4465',\n",
       " b'4540',\n",
       " b'4655',\n",
       " b'5094',\n",
       " b'5159',\n",
       " b'5647',\n",
       " b'5653',\n",
       " b'5674',\n",
       " b'5675',\n",
       " b'5718',\n",
       " b'5720',\n",
       " b'5950',\n",
       " b'6183',\n",
       " b'6315',\n",
       " b'7850',\n",
       " b'7859',\n",
       " b'7870',\n",
       " b'7871',\n",
       " b'8240',\n",
       " b'8318',\n",
       " b'8343',\n",
       " b'8344',\n",
       " b'8790',\n",
       " b'10691',\n",
       " b'11076',\n",
       " b'11128',\n",
       " b'11164',\n",
       " b'11185',\n",
       " b'11187',\n",
       " b'11241',\n",
       " b'11287',\n",
       " b'11288',\n",
       " b'11295',\n",
       " b'11299',\n",
       " b'11300',\n",
       " b'11305',\n",
       " b'11307',\n",
       " b'11313',\n",
       " b'11319',\n",
       " b'11320',\n",
       " b'11332',\n",
       " b'11334',\n",
       " b'11338',\n",
       " b'11482',\n",
       " b'11487',\n",
       " b'11607',\n",
       " b'11628',\n",
       " b'11663',\n",
       " b'11747',\n",
       " b'12044',\n",
       " b'12315',\n",
       " b'12609',\n",
       " b'12725',\n",
       " b'13006',\n",
       " b'13007',\n",
       " b'13075',\n",
       " b'13079',\n",
       " b'13080',\n",
       " b'13114',\n",
       " b'13123',\n",
       " b'13128',\n",
       " b'13162',\n",
       " b'13169',\n",
       " b'13170',\n",
       " b'13171',\n",
       " b'13174',\n",
       " b'13178',\n",
       " b'13179',\n",
       " b'13181',\n",
       " b'13182',\n",
       " b'13215',\n",
       " b'13217',\n",
       " b'13218',\n",
       " b'13271',\n",
       " b'13288',\n",
       " b'13439',\n",
       " b'13444',\n",
       " b'13445',\n",
       " b'13451',\n",
       " b'13580',\n",
       " b'13711',\n",
       " b'13718',\n",
       " b'13719',\n",
       " b'14014',\n",
       " b'14426',\n",
       " b'15223',\n",
       " b'15304',\n",
       " b'21849',\n",
       " b'21862',\n",
       " b'21863',\n",
       " b'22163',\n",
       " b'22164',\n",
       " b'22165',\n",
       " b'22205',\n",
       " b'22206',\n",
       " b'22463',\n",
       " b'22527',\n",
       " b'22682',\n",
       " b'22683',\n",
       " b'22684',\n",
       " b'22685',\n",
       " b'22686',\n",
       " b'22687',\n",
       " b'22840']"
      ]
     },
     "execution_count": 47,
     "metadata": {},
     "output_type": "execute_result"
    }
   ],
   "source": [
    "# search() 메서드 활용 → 첫 번째 인자는 charset, 두 번째 인자는 찾고자 하는 내용\n",
    "# status와 result(uid의 리스트 형태)를 튜플로 반환\n",
    "status, result = imapObj.search('utf-8', '(FROM \"kth1149@gmail.com\")')\n",
    "status, result\n",
    "result = result[0].split()\n",
    "result"
   ]
  },
  {
   "cell_type": "code",
   "execution_count": 48,
   "metadata": {},
   "outputs": [
    {
     "data": {
      "text/plain": [
       "b'Return-Path: <kth1149@gmail.com>\\r\\nReceived: from [192.168.0.3] ([124.111.165.182])\\r\\n        by smtp.gmail.com with ESMTPSA id z21-20020a630a55000000b00419ab8f8d2csm1026680pgk.20.2022.07.28.07.22.22\\r\\n        for <kth1149@gmail.com>\\r\\n        (version=TLS1_3 cipher=TLS_AES_256_GCM_SHA384 bits=256/256);\\r\\n        Thu, 28 Jul 2022 07:22:23 -0700 (PDT)\\r\\nMessage-ID: <62e29b9f.630a0220.b9420.13b1@mx.google.com>\\r\\nDate: Thu, 28 Jul 2022 07:22:23 -0700 (PDT)\\r\\nFrom: kth1149@gmail.com\\r\\nX-Google-Original-From: tkim@iportfolio.co.kr\\r\\nContent-Type: multipart/mixed; boundary=\"===============6903337225755396045==\"\\r\\nMIME-Version: 1.0\\r\\nTo: kth1149@gmail.com\\r\\ncc: kth1149@gmail.com\\r\\nSubject: [IMPORTANT] Jun 2014 dues unpaid.\\r\\n\\r\\n--===============6903337225755396045==\\r\\nContent-Type: text/html; charset=\"utf-8\"\\r\\nMIME-Version: 1.0\\r\\nContent-Transfer-Encoding: base64\\r\\n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\\r\\nZXIuPC9wPgo8L2h0bWw+CiAgICA=\\r\\n\\r\\n--===============6903337225755396045==--\\r\\n'"
      ]
     },
     "execution_count": 48,
     "metadata": {},
     "output_type": "execute_result"
    }
   ],
   "source": [
    "# fetch() 메서드를 활용하여 확인 → 첫 번째 인자는 확인하고자 하는 uid, 두 번째 인자는 '(RFC822)'로 고정\n",
    "# 마찬가지로 status와 result(인코딩 이전 메시지 형태)를 튜플로 반환\n",
    "status, result = imapObj.fetch(result[-5], '(RFC822)')\n",
    "raw = result[0][1]\n",
    "raw"
   ]
  },
  {
   "cell_type": "code",
   "execution_count": 53,
   "metadata": {},
   "outputs": [
    {
     "data": {
      "text/plain": [
       "<email.message.Message at 0x13514dbb2b0>"
      ]
     },
     "execution_count": 53,
     "metadata": {},
     "output_type": "execute_result"
    }
   ],
   "source": [
    "# email 모듈 활용하여 진행\n",
    "# email.message_from_bytes() 활용 → 디코딩을 진행하지 않았으므로\n",
    "email_msg = email.message_from_bytes(raw)\n",
    "email_msg"
   ]
  },
  {
   "cell_type": "code",
   "execution_count": 54,
   "metadata": {},
   "outputs": [
    {
     "data": {
      "text/plain": [
       "['Return-Path',\n",
       " 'Received',\n",
       " 'Message-ID',\n",
       " 'Date',\n",
       " 'From',\n",
       " 'X-Google-Original-From',\n",
       " 'Content-Type',\n",
       " 'MIME-Version',\n",
       " 'To',\n",
       " 'cc',\n",
       " 'Subject']"
      ]
     },
     "execution_count": 54,
     "metadata": {},
     "output_type": "execute_result"
    }
   ],
   "source": [
    "# keys() 메서드를 통해 어떠한 키들이 있는지 확인 → 즉, email_msg는 딕셔너리의 형태\n",
    "email_msg.keys()"
   ]
  },
  {
   "cell_type": "code",
   "execution_count": 55,
   "metadata": {},
   "outputs": [
    {
     "data": {
      "text/plain": [
       "('kth1149@gmail.com',\n",
       " 'kth1149@gmail.com',\n",
       " '[IMPORTANT] Jun 2014 dues unpaid.',\n",
       " 'Thu, 28 Jul 2022 07:22:23 -0700 (PDT)')"
      ]
     },
     "execution_count": 55,
     "metadata": {},
     "output_type": "execute_result"
    }
   ],
   "source": [
    "# 수신인, 발신인, 제목, 일시 확인\n",
    "email_msg['To'], email_msg['From'], email_msg['Subject'], email_msg['Date']"
   ]
  },
  {
   "cell_type": "code",
   "execution_count": 66,
   "metadata": {},
   "outputs": [
    {
     "data": {
      "text/plain": [
       "True"
      ]
     },
     "execution_count": 66,
     "metadata": {},
     "output_type": "execute_result"
    }
   ],
   "source": [
    "# 'RFC822' 형태로 보낸 multipart(MIMEMultipart) 메일이므로\n",
    "email_msg.is_multipart()"
   ]
  },
  {
   "cell_type": "code",
   "execution_count": 72,
   "metadata": {},
   "outputs": [
    {
     "data": {
      "text/plain": [
       "<email.message.Message at 0x13514dbb490>"
      ]
     },
     "execution_count": 72,
     "metadata": {},
     "output_type": "execute_result"
    }
   ],
   "source": [
    "# 메일 본문 내용을 get_payload() 메서드를 통해 확인\n",
    "email_msg.get_payload(0)"
   ]
  },
  {
   "cell_type": "code",
   "execution_count": 79,
   "metadata": {},
   "outputs": [],
   "source": [
    "if email_msg.is_multipart():\n",
    "    for part in email_msg.walk():\n",
    "        ctype = part.get_content_type()\n",
    "        cdispo = str(part.get('Content-Disposition'))\n",
    "        if ctype == 'text/plain' and 'attachment' not in cdispo:\n",
    "            body = part.get_payload(decode=True)  # decode\n",
    "            break\n",
    "else:\n",
    "    body = email_msg.get_payload(decode=True)"
   ]
  },
  {
   "cell_type": "code",
   "execution_count": 80,
   "metadata": {},
   "outputs": [
    {
     "ename": "AttributeError",
     "evalue": "'str' object has no attribute 'decode'",
     "output_type": "error",
     "traceback": [
      "\u001b[1;31m---------------------------------------------------------------------------\u001b[0m",
      "\u001b[1;31mAttributeError\u001b[0m                            Traceback (most recent call last)",
      "\u001b[1;32mc:\\Users\\admin\\python_automate\\Python_automate_2_chapter18.ipynb 셀 19\u001b[0m in \u001b[0;36m<cell line: 1>\u001b[1;34m()\u001b[0m\n\u001b[1;32m----> <a href='vscode-notebook-cell:/c%3A/Users/admin/python_automate/Python_automate_2_chapter18.ipynb#X25sZmlsZQ%3D%3D?line=0'>1</a>\u001b[0m body \u001b[39m=\u001b[39m body\u001b[39m.\u001b[39;49mdecode(\u001b[39m'\u001b[39m\u001b[39mutf-8\u001b[39m\u001b[39m'\u001b[39m)\n\u001b[0;32m      <a href='vscode-notebook-cell:/c%3A/Users/admin/python_automate/Python_automate_2_chapter18.ipynb#X25sZmlsZQ%3D%3D?line=1'>2</a>\u001b[0m \u001b[39mprint\u001b[39m(body)\n",
      "\u001b[1;31mAttributeError\u001b[0m: 'str' object has no attribute 'decode'"
     ]
    }
   ],
   "source": [
    "body = body.decode('utf-8')\n",
    "print(body)"
   ]
  },
  {
   "cell_type": "code",
   "execution_count": 3,
   "metadata": {},
   "outputs": [
    {
     "ename": "NameError",
     "evalue": "name 'imapObj' is not defined",
     "output_type": "error",
     "traceback": [
      "\u001b[1;31m---------------------------------------------------------------------------\u001b[0m",
      "\u001b[1;31mNameError\u001b[0m                                 Traceback (most recent call last)",
      "\u001b[1;32mc:\\Users\\admin\\python_automate\\Python_automate_2_chapter18.ipynb 셀 20\u001b[0m in \u001b[0;36m<cell line: 2>\u001b[1;34m()\u001b[0m\n\u001b[0;32m      <a href='vscode-notebook-cell:/c%3A/Users/admin/python_automate/Python_automate_2_chapter18.ipynb#X25sZmlsZQ%3D%3D?line=0'>1</a>\u001b[0m \u001b[39m# imap에서 로그아웃 진행\u001b[39;00m\n\u001b[1;32m----> <a href='vscode-notebook-cell:/c%3A/Users/admin/python_automate/Python_automate_2_chapter18.ipynb#X25sZmlsZQ%3D%3D?line=1'>2</a>\u001b[0m imapObj\u001b[39m.\u001b[39mlogout()\n",
      "\u001b[1;31mNameError\u001b[0m: name 'imapObj' is not defined"
     ]
    }
   ],
   "source": [
    "# imap에서 로그아웃 진행\n",
    "imapObj.logout()"
   ]
  },
  {
   "cell_type": "code",
   "execution_count": null,
   "metadata": {},
   "outputs": [],
   "source": []
  }
 ],
 "metadata": {
  "kernelspec": {
   "display_name": "Python 3.9.12 ('base')",
   "language": "python",
   "name": "python3"
  },
  "language_info": {
   "codemirror_mode": {
    "name": "ipython",
    "version": 3
   },
   "file_extension": ".py",
   "mimetype": "text/x-python",
   "name": "python",
   "nbconvert_exporter": "python",
   "pygments_lexer": "ipython3",
   "version": "3.9.12"
  },
  "orig_nbformat": 4,
  "vscode": {
   "interpreter": {
    "hash": "610a6f344c2137faf927ea819c63f6cee33a2c04455044b28099f39fe9722347"
   }
  }
 },
 "nbformat": 4,
 "nbformat_minor": 2
}
