{
 "cells": [
  {
   "cell_type": "code",
   "execution_count": 1,
   "metadata": {},
   "outputs": [],
   "source": [
    "import csv\n",
    "import json\n",
    "from pathlib import Path"
   ]
  },
  {
   "cell_type": "code",
   "execution_count": 2,
   "metadata": {},
   "outputs": [],
   "source": [
    "p1 = Path.cwd() / 'attachments'\n",
    "p2 = Path.cwd() / 'result_attachments' / 'walnut2'"
   ]
  },
  {
   "cell_type": "code",
   "execution_count": 5,
   "metadata": {},
   "outputs": [],
   "source": [
    "exampleFile = open(p1 / 'example.csv')\n",
    "exampleReader = csv.reader(exampleFile)\n",
    "exampleData = list(exampleReader)\n",
    "exampleData\n",
    "exampleFile.close()"
   ]
  },
  {
   "cell_type": "code",
   "execution_count": 8,
   "metadata": {},
   "outputs": [
    {
     "name": "stdout",
     "output_type": "stream",
     "text": [
      "Row #1 ['4/5/2014 13:34', 'Apples', '73']\n",
      "Row #2 ['4/5/2014 3:41', 'Cherries', '85']\n",
      "Row #3 ['4/6/2014 12:46', 'Pears', '14']\n",
      "Row #4 ['4/8/2014 8:59', 'Oranges', '52']\n",
      "Row #5 ['4/10/2014 2:07', 'Apples', '152']\n",
      "Row #6 ['4/10/2014 18:10', 'Bananas', '23']\n",
      "Row #7 ['4/10/2014 2:40', 'Strawberries', '98']\n"
     ]
    }
   ],
   "source": [
    "with open(p1 / 'example.csv') as exampleFile:\n",
    "    exampleReader = csv.reader(exampleFile)\n",
    "    for row in exampleReader:\n",
    "        print(f'Row #{exampleReader.line_num} {str(row)}')"
   ]
  },
  {
   "cell_type": "code",
   "execution_count": 10,
   "metadata": {},
   "outputs": [],
   "source": [
    "with open(p2 / 'output.csv', mode='w', newline='') as outputFile:\n",
    "    outputWriter = csv.writer(outputFile)\n",
    "    outputWriter.writerow(['spam', 'egg', 'bacon', 'ham'])\n",
    "    outputWriter.writerows([['kim', 'lee', 'park', 'choi'], [1, 3, 5, 7]])"
   ]
  },
  {
   "cell_type": "code",
   "execution_count": 11,
   "metadata": {},
   "outputs": [],
   "source": [
    "with open(p2 / 'example.tsv', mode='w', newline='') as outputFile:\n",
    "    csvWriter = csv.writer(outputFile, delimiter='\\t', lineterminator='\\n\\n')\n",
    "    csvWriter.writerows([['spam', 'egg', 'bacon', 'ham'], ['kim', 'lee', 'park', 'choi'], [1, 3, 5, 7]])"
   ]
  },
  {
   "cell_type": "code",
   "execution_count": 15,
   "metadata": {},
   "outputs": [
    {
     "name": "stdout",
     "output_type": "stream",
     "text": [
      "4/5/2014 13:34 Apples 73\n",
      "4/5/2014 3:41 Cherries 85\n",
      "4/6/2014 12:46 Pears 14\n",
      "4/8/2014 8:59 Oranges 52\n",
      "4/10/2014 2:07 Apples 152\n",
      "4/10/2014 18:10 Bananas 23\n",
      "4/10/2014 2:40 Strawberries 98\n"
     ]
    }
   ],
   "source": [
    "with open(p1 / 'exampleWithHeader.csv') as exampleFile:\n",
    "    exampleDictReader = csv.DictReader(exampleFile)\n",
    "    for row in exampleDictReader:\n",
    "        print(row['Timestamp'], row['Fruit'], row['Quantity'])"
   ]
  },
  {
   "cell_type": "code",
   "execution_count": 17,
   "metadata": {},
   "outputs": [
    {
     "name": "stdout",
     "output_type": "stream",
     "text": [
      "4/5/2014 13:34 Apples 73\n",
      "4/5/2014 3:41 Cherries 85\n",
      "4/6/2014 12:46 Pears 14\n",
      "4/8/2014 8:59 Oranges 52\n",
      "4/10/2014 2:07 Apples 152\n",
      "4/10/2014 18:10 Bananas 23\n",
      "4/10/2014 2:40 Strawberries 98\n"
     ]
    }
   ],
   "source": [
    "with open(p1 / 'example.csv') as exampleFile:\n",
    "    exampleDictReader = csv.DictReader(exampleFile, ['Timestamp', 'Fruit', 'Quantity'])\n",
    "    for row in exampleDictReader:\n",
    "        print(row['Timestamp'], row['Fruit'], row['Quantity'])"
   ]
  },
  {
   "cell_type": "code",
   "execution_count": 19,
   "metadata": {},
   "outputs": [],
   "source": [
    "header = ['Name', 'Pet', 'Phone']\n",
    "with open(p2 / 'output2.csv', mode='w', newline='') as outputFile:\n",
    "    outputWriter = csv.DictWriter(outputFile, header)\n",
    "    outputWriter.writeheader()\n",
    "    outputWriter.writerow(dict(zip(header, ['Alice', 'cat', '555-1234'])))\n",
    "    outputWriter.writerow(dict(zip(header, ['Bob', 'dog', '555-9999'])))"
   ]
  },
  {
   "cell_type": "code",
   "execution_count": null,
   "metadata": {},
   "outputs": [],
   "source": []
  }
 ],
 "metadata": {
  "kernelspec": {
   "display_name": "Python 3.9.12 ('base')",
   "language": "python",
   "name": "python3"
  },
  "language_info": {
   "codemirror_mode": {
    "name": "ipython",
    "version": 3
   },
   "file_extension": ".py",
   "mimetype": "text/x-python",
   "name": "python",
   "nbconvert_exporter": "python",
   "pygments_lexer": "ipython3",
   "version": "3.9.12"
  },
  "orig_nbformat": 4,
  "vscode": {
   "interpreter": {
    "hash": "610a6f344c2137faf927ea819c63f6cee33a2c04455044b28099f39fe9722347"
   }
  }
 },
 "nbformat": 4,
 "nbformat_minor": 2
}
