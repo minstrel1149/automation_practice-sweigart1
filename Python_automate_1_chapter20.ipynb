{
 "cells": [
  {
   "cell_type": "code",
   "execution_count": 14,
   "metadata": {},
   "outputs": [],
   "source": [
    "import pyautogui as pag\n",
    "from pathlib import Path\n",
    "import subprocess\n",
    "import time"
   ]
  },
  {
   "cell_type": "code",
   "execution_count": 4,
   "metadata": {},
   "outputs": [
    {
     "data": {
      "text/plain": [
       "(1920, 1080, 1920, 1080)"
      ]
     },
     "execution_count": 4,
     "metadata": {},
     "output_type": "execute_result"
    }
   ],
   "source": [
    "# pyautogui의 안전장치 기능 -> 마우스 커서를 모퉁이로 갖다 놓으면 FailSafeException 예외 발생\n",
    "# pyautogui 마우스 기능은 x, y 좌표 사용 -> 원점(화면 좌상단)이 (0, 0)\n",
    "# pag.size()를 통해 전체 크기 파악 -> 네임드 튜플 반환\n",
    "wh = pag.size()\n",
    "wh[0], wh[1], wh.width, wh.height"
   ]
  },
  {
   "cell_type": "code",
   "execution_count": 5,
   "metadata": {},
   "outputs": [],
   "source": [
    "# moveTo(x, y, duration='') 함수를 통해 마우스 움직이기 -> 절대 위치\n",
    "for i in range(3):\n",
    "    pag.moveTo(100, 100, duration=0.1)\n",
    "    pag.moveTo(200, 100, duration=0.1)\n",
    "    pag.moveTo(200, 200, duration=0.1)\n",
    "    pag.moveTo(100, 200, duration=0.1)"
   ]
  },
  {
   "cell_type": "code",
   "execution_count": 7,
   "metadata": {},
   "outputs": [],
   "source": [
    "# move(x, y, duration='') 함수를 통해 마우스 움직이기 -> 현재 위치 대비 상대 위치\n",
    "for i in range(3):\n",
    "    pag.move(100, 0, duration=0.1)\n",
    "    pag.move(0, 100, duration=0.1)\n",
    "    pag.move(-100, 0, duration=0.1)\n",
    "    pag.move(100, -100, duration=0.1)"
   ]
  },
  {
   "cell_type": "code",
   "execution_count": 8,
   "metadata": {},
   "outputs": [
    {
     "data": {
      "text/plain": [
       "Point(x=795, y=441)"
      ]
     },
     "execution_count": 8,
     "metadata": {},
     "output_type": "execute_result"
    }
   ],
   "source": [
    "# position() 함수를 통해 마우스 현재 위치 파악 -> 네임드 튜플 반환\n",
    "pag.position()"
   ]
  },
  {
   "cell_type": "code",
   "execution_count": 11,
   "metadata": {},
   "outputs": [],
   "source": [
    "# click(x, y, button='') 함수를 통해 마우스 클릭 가능\n",
    "# doubleClick() 함수 사용 가능\n",
    "# click은 mouseUp()과 mouseDown()의 결합\n",
    "p = pag.position()\n",
    "pag.click(p, button='right')"
   ]
  },
  {
   "cell_type": "code",
   "execution_count": 18,
   "metadata": {},
   "outputs": [],
   "source": [
    "# dragTo(x, y, duration='') 함수를 통해 마우스 드래그 -> 절대 위치\n",
    "# drag(x, y, duration='') 함수를 통해 마우스 움직이기 -> 현재 위치 대비 상대 위치\n",
    "paintProc = subprocess.Popen(Path('C:/') / 'Windows' / 'System32' / 'mspaint.exe')\n",
    "time.sleep(1)\n",
    "# 클릭하여 창을 활성화\n",
    "pag.click()\n",
    "distance = 300\n",
    "change = 20\n",
    "while distance > 0:\n",
    "    pag.drag(distance, 0, duration=0.2)\n",
    "    distance -= change\n",
    "    pag.drag(0, distance, duration=0.2)\n",
    "    distance -= change\n",
    "    pag.drag(-distance, 0, duration=0.2)\n",
    "    distance -= change\n",
    "    pag.drag(0, -distance, duration=0.2)\n",
    "    distance -= change"
   ]
  },
  {
   "cell_type": "code",
   "execution_count": 20,
   "metadata": {},
   "outputs": [],
   "source": [
    "# scroll() 함수를 통해 마우스 상하 스크롤 -> 양수는 위로, 음수는 아래로\n",
    "pag.scroll(-500)"
   ]
  },
  {
   "cell_type": "code",
   "execution_count": 22,
   "metadata": {},
   "outputs": [],
   "source": [
    "# mouseInfo() 함수를 이용하여 마우스 인포 창 호출 가능\n",
    "pag.mouseInfo()\n",
    "time.sleep(1)\n",
    "pag.click()"
   ]
  },
  {
   "cell_type": "code",
   "execution_count": null,
   "metadata": {},
   "outputs": [],
   "source": []
  }
 ],
 "metadata": {
  "kernelspec": {
   "display_name": "Python 3.9.12 ('base')",
   "language": "python",
   "name": "python3"
  },
  "language_info": {
   "codemirror_mode": {
    "name": "ipython",
    "version": 3
   },
   "file_extension": ".py",
   "mimetype": "text/x-python",
   "name": "python",
   "nbconvert_exporter": "python",
   "pygments_lexer": "ipython3",
   "version": "3.9.12"
  },
  "orig_nbformat": 4,
  "vscode": {
   "interpreter": {
    "hash": "610a6f344c2137faf927ea819c63f6cee33a2c04455044b28099f39fe9722347"
   }
  }
 },
 "nbformat": 4,
 "nbformat_minor": 2
}
