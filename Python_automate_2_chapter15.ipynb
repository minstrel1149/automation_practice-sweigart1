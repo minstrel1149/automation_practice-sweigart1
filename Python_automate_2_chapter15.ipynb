{
 "cells": [
  {
   "cell_type": "code",
   "execution_count": 1,
   "metadata": {},
   "outputs": [],
   "source": [
    "import PyPDF2\n",
    "from pathlib import Path"
   ]
  },
  {
   "cell_type": "code",
   "execution_count": 3,
   "metadata": {},
   "outputs": [],
   "source": [
    "p1 = Path.cwd() / 'attachments'\n",
    "p2 = Path.cwd() / 'result_attachments' / 'walnut2'"
   ]
  },
  {
   "cell_type": "code",
   "execution_count": 6,
   "metadata": {},
   "outputs": [
    {
     "data": {
      "text/plain": [
       "19"
      ]
     },
     "execution_count": 6,
     "metadata": {},
     "output_type": "execute_result"
    }
   ],
   "source": [
    "pdfFileObj = open(p1 / 'meetingminutes.pdf', mode='rb')\n",
    "pdfReader = PyPDF2.PdfFileReader(pdfFileObj)\n",
    "pdfReader.numPages"
   ]
  },
  {
   "cell_type": "code",
   "execution_count": 7,
   "metadata": {},
   "outputs": [
    {
     "data": {
      "text/plain": [
       "'OOFFFFIICCIIAALL  BBOOAARRDD  MMIINNUUTTEESS  \\n \\nMeeting of March 7 , 2014  \\n \\n \\n \\n  \\n \\n  \\n \\n   \\nThe Board of Elementary and Secondary Education shall provide leadership and \\ncreate policies for education that expand opportunities for children, empower \\nfamilies and communities, and advance Louisiana in an increasingly \\ncompetitive glob al market.  BOARD  \\nof \\nELEMENTARY  \\nand  \\nSECONDARY  \\nEDUCATION  \\n '"
      ]
     },
     "execution_count": 7,
     "metadata": {},
     "output_type": "execute_result"
    }
   ],
   "source": [
    "pageObj = pdfReader.getPage(0)\n",
    "pageObj.extractText()"
   ]
  },
  {
   "cell_type": "code",
   "execution_count": 9,
   "metadata": {},
   "outputs": [
    {
     "data": {
      "text/plain": [
       "True"
      ]
     },
     "execution_count": 9,
     "metadata": {},
     "output_type": "execute_result"
    }
   ],
   "source": [
    "pdfFileObj = open(p1 / 'encrypted.pdf', mode='rb')\n",
    "pdfReader = PyPDF2.PdfFileReader(pdfFileObj)\n",
    "pdfReader.isEncrypted"
   ]
  },
  {
   "cell_type": "code",
   "execution_count": 12,
   "metadata": {},
   "outputs": [
    {
     "data": {
      "text/plain": [
       "'OOFFFFIICCIIAALL  BBOOAARRDD  MMIINNUUTTEESS  \\n \\nMeeting of March 7 , 2014  \\n \\n \\n \\n  \\n \\n  \\n \\n   \\nThe Board of Elementary and Secondary Education shall provide leadership and \\ncreate policies for education that expand opportunities for children, empower \\nfamilies and communities, and advance Louisiana in an increasingly \\ncompetitive glob al market.  BOARD  \\nof \\nELEMENTARY  \\nand  \\nSECONDARY  \\nEDUCATION  \\n '"
      ]
     },
     "execution_count": 12,
     "metadata": {},
     "output_type": "execute_result"
    }
   ],
   "source": [
    "pdfReader.decrypt('rosebud')\n",
    "pageObj = pdfReader.getPage(0)\n",
    "pageObj.extractText()"
   ]
  },
  {
   "cell_type": "code",
   "execution_count": 15,
   "metadata": {},
   "outputs": [],
   "source": [
    "pdf1File = open(p1 / 'meetingminutes.pdf', mode='rb')\n",
    "pdf2File = open(p1 / 'meetingminutes2.pdf', mode='rb')\n",
    "pdf1Reader = PyPDF2.PdfFileReader(pdf1File)\n",
    "pdf2Reader = PyPDF2.PdfFileReader(pdf2File)\n",
    "pdfWriter = PyPDF2.PdfFileWriter()\n"
   ]
  },
  {
   "cell_type": "code",
   "execution_count": 16,
   "metadata": {},
   "outputs": [],
   "source": [
    "for page in range(pdf1Reader.numPages):\n",
    "    pageObj = pdf1Reader.getPage(page)\n",
    "    pdfWriter.addPage(pageObj)\n",
    "for page in range(pdf2Reader.numPages):\n",
    "    pageObj = pdf2Reader.getPage(page)\n",
    "    pdfWriter.addPage(pageObj)"
   ]
  },
  {
   "cell_type": "code",
   "execution_count": 17,
   "metadata": {},
   "outputs": [],
   "source": [
    "pdfOutputFile = open(p2 / 'combineminutes.pdf', mode='wb')\n",
    "pdfWriter.write(pdfOutputFile)\n",
    "pdfOutputFile.close()\n",
    "pdf1File.close()\n",
    "pdf2File.close()"
   ]
  },
  {
   "cell_type": "code",
   "execution_count": 19,
   "metadata": {},
   "outputs": [],
   "source": [
    "fileObj = open(p1 / 'meetingminutes.pdf', mode='rb')\n",
    "pdfReader = PyPDF2.PdfFileReader(fileObj)\n",
    "pdfWriter = PyPDF2.PdfFileWriter()\n",
    "\n",
    "for pageNum in range(pdfReader.numPages):\n",
    "    pageObj = pdfReader.getPage(pageNum)\n",
    "    pageObj.rotateClockwise(90)\n",
    "    pdfWriter.addPage(pageObj)\n",
    "\n",
    "outputFileObj = open(p2 / 'rotateminutes.pdf', mode='wb')\n",
    "pdfWriter.write(outputFileObj)\n",
    "\n",
    "fileObj.close()\n",
    "outputFileObj.close()"
   ]
  },
  {
   "cell_type": "code",
   "execution_count": 20,
   "metadata": {},
   "outputs": [],
   "source": [
    "fileObj1 = open(p1 / 'meetingminutes.pdf', mode='rb')\n",
    "fileObj2 = open(p1 / 'watermark.pdf', mode='rb')\n",
    "pdfReader1 = PyPDF2.PdfFileReader(fileObj1)\n",
    "pdfReader2 = PyPDF2.PdfFileReader(fileObj2)\n",
    "pdfWriter = PyPDF2.PdfFileWriter()\n",
    "\n",
    "for pageNum in range(pdfReader1.numPages):\n",
    "    pageObj = pdfReader1.getPage(pageNum)\n",
    "    pageObj.mergePage(pdfReader2.getPage(0))\n",
    "    pdfWriter.addPage(pageObj)\n",
    "\n",
    "outputFileObj = open(p2 / 'watermarkcombined.pdf', mode='wb')\n",
    "pdfWriter.write(outputFileObj)\n",
    "\n",
    "fileObj1.close()\n",
    "fileObj2.close()\n",
    "outputFileObj.close()"
   ]
  },
  {
   "cell_type": "code",
   "execution_count": null,
   "metadata": {},
   "outputs": [],
   "source": []
  }
 ],
 "metadata": {
  "kernelspec": {
   "display_name": "Python 3.9.12 ('base')",
   "language": "python",
   "name": "python3"
  },
  "language_info": {
   "codemirror_mode": {
    "name": "ipython",
    "version": 3
   },
   "file_extension": ".py",
   "mimetype": "text/x-python",
   "name": "python",
   "nbconvert_exporter": "python",
   "pygments_lexer": "ipython3",
   "version": "3.9.12"
  },
  "orig_nbformat": 4,
  "vscode": {
   "interpreter": {
    "hash": "610a6f344c2137faf927ea819c63f6cee33a2c04455044b28099f39fe9722347"
   }
  }
 },
 "nbformat": 4,
 "nbformat_minor": 2
}
