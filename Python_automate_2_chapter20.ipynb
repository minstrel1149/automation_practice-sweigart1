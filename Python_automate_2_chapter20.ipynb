{
 "cells": [
  {
   "cell_type": "code",
   "execution_count": 61,
   "metadata": {},
   "outputs": [],
   "source": [
    "import pyautogui as pag\n",
    "from pathlib import Path\n",
    "import subprocess\n",
    "import time\n",
    "import pyperclip"
   ]
  },
  {
   "cell_type": "code",
   "execution_count": 5,
   "metadata": {},
   "outputs": [
    {
     "data": {
      "text/plain": [
       "(1920, 1080, 1920, 1080)"
      ]
     },
     "execution_count": 5,
     "metadata": {},
     "output_type": "execute_result"
    }
   ],
   "source": [
    "wh = pag.size()\n",
    "wh[0], wh[1], wh.width, wh.height"
   ]
  },
  {
   "cell_type": "code",
   "execution_count": 7,
   "metadata": {},
   "outputs": [],
   "source": [
    "for i in range(5):\n",
    "    pag.moveTo(500, 500, duration=0.1)\n",
    "    pag.moveTo(500, 700, duration=0.1)\n",
    "    pag.moveTo(700, 700, duration=0.1)\n",
    "    pag.moveTo(700, 500, duration=0.1)"
   ]
  },
  {
   "cell_type": "code",
   "execution_count": 9,
   "metadata": {},
   "outputs": [],
   "source": [
    "for i in range(5):\n",
    "    pag.move(200, 0, duration=0.1)\n",
    "    pag.move(0, 200, duration=0.1)\n",
    "    pag.move(-200, 0, duration=0.1)\n",
    "    pag.move(0, -200, duration=0.1)"
   ]
  },
  {
   "cell_type": "code",
   "execution_count": 11,
   "metadata": {},
   "outputs": [
    {
     "data": {
      "text/plain": [
       "(836, 437)"
      ]
     },
     "execution_count": 11,
     "metadata": {},
     "output_type": "execute_result"
    }
   ],
   "source": [
    "p = pag.position()\n",
    "p[0], p[1]"
   ]
  },
  {
   "cell_type": "code",
   "execution_count": 12,
   "metadata": {},
   "outputs": [],
   "source": [
    "p = pag.position()\n",
    "pag.click(p, button='right')"
   ]
  },
  {
   "cell_type": "code",
   "execution_count": 16,
   "metadata": {},
   "outputs": [],
   "source": [
    "paintProc = subprocess.Popen(Path('C:/') / 'Windows' / 'System32' / 'mspaint.exe')\n",
    "time.sleep(1)\n",
    "distance = 300\n",
    "change = 20\n",
    "while distance > 0:\n",
    "    pag.drag(distance, 0, duration=0.1)\n",
    "    distance -= change\n",
    "    pag.drag(0, distance, duration=0.1)\n",
    "    pag.drag(-distance, 0, duration=0.1)\n",
    "    distance -= change\n",
    "    pag.drag(0, -distance, duration=0.1)"
   ]
  },
  {
   "cell_type": "code",
   "execution_count": 25,
   "metadata": {},
   "outputs": [],
   "source": [
    "pag.mouseInfo()"
   ]
  },
  {
   "cell_type": "code",
   "execution_count": 31,
   "metadata": {},
   "outputs": [
    {
     "data": {
      "text/plain": [
       "((37, 37, 38), False)"
      ]
     },
     "execution_count": 31,
     "metadata": {},
     "output_type": "execute_result"
    }
   ],
   "source": [
    "p = pag.position()\n",
    "pag.pixel(p[0], p[1]), pag.pixelMatchesColor(p[0], p[1], (30, 30, 30))"
   ]
  },
  {
   "cell_type": "code",
   "execution_count": 33,
   "metadata": {},
   "outputs": [
    {
     "data": {
      "text/plain": [
       "True"
      ]
     },
     "execution_count": 33,
     "metadata": {},
     "output_type": "execute_result"
    }
   ],
   "source": [
    "p1 = Path.cwd() / 'attachments' / 'submit.png'\n",
    "locate = pag.locateOnScreen(str(p1))\n",
    "locate == None"
   ]
  },
  {
   "cell_type": "code",
   "execution_count": 36,
   "metadata": {},
   "outputs": [
    {
     "data": {
      "text/plain": [
       "(Win32Window(hWnd=67706),\n",
       " '● Python_automate_2_chapter20.ipynb - python_automate - Visual Studio Code')"
      ]
     },
     "execution_count": 36,
     "metadata": {},
     "output_type": "execute_result"
    }
   ],
   "source": [
    "window = pag.getActiveWindow()\n",
    "window, pag.getActiveWindowTitle()"
   ]
  },
  {
   "cell_type": "code",
   "execution_count": 39,
   "metadata": {},
   "outputs": [
    {
     "data": {
      "text/plain": [
       "(Size(width=1936, height=1056),\n",
       " 2044416,\n",
       " Point(x=960, y=520),\n",
       " Box(left=-8, top=-8, width=1936, height=1056),\n",
       " '● Python_automate_2_chapter20.ipynb - python_automate - Visual Studio Code')"
      ]
     },
     "execution_count": 39,
     "metadata": {},
     "output_type": "execute_result"
    }
   ],
   "source": [
    "window.size, window.area, window.center, window.box, window.title"
   ]
  },
  {
   "cell_type": "code",
   "execution_count": 41,
   "metadata": {},
   "outputs": [
    {
     "name": "stdout",
     "output_type": "stream",
     "text": [
      "\n",
      "● Python_automate_2_chapter20.ipynb - python_automate - Visual Studio Code\n",
      "(197) 프로브 3기로 벌쳐 가둬서 잡는 변현제의 플레이에 놀란 팀원들ㅋㅋㅋㅋ(짭쭉변균 프로리그 1부) - YouTube - Chrome\n",
      "Steam 로그인\n",
      "Microsoft Text Input Application\n",
      "\n",
      "\n",
      "\n",
      "\n",
      "Program Manager\n"
     ]
    }
   ],
   "source": [
    "windows = pag.getAllWindows()\n",
    "for window in windows:\n",
    "    print(window.title)\n"
   ]
  },
  {
   "cell_type": "code",
   "execution_count": 45,
   "metadata": {},
   "outputs": [
    {
     "data": {
      "text/plain": [
       "[Win32Window(hWnd=67706)]"
      ]
     },
     "execution_count": 45,
     "metadata": {},
     "output_type": "execute_result"
    }
   ],
   "source": [
    "pag.getWindowsWithTitle('Python')"
   ]
  },
  {
   "cell_type": "code",
   "execution_count": 47,
   "metadata": {},
   "outputs": [
    {
     "data": {
      "text/plain": [
       "(Win32Window(hWnd=67706),\n",
       " '● Python_automate_2_chapter20.ipynb - python_automate - Visual Studio Code')"
      ]
     },
     "execution_count": 47,
     "metadata": {},
     "output_type": "execute_result"
    }
   ],
   "source": [
    "fw = pag.getActiveWindow()\n",
    "fw, pag.getActiveWindowTitle()"
   ]
  },
  {
   "cell_type": "code",
   "execution_count": 48,
   "metadata": {},
   "outputs": [
    {
     "data": {
      "text/plain": [
       "(True, False, True)"
      ]
     },
     "execution_count": 48,
     "metadata": {},
     "output_type": "execute_result"
    }
   ],
   "source": [
    "fw.isMaximized, fw.isMinimized, fw.isActive"
   ]
  },
  {
   "cell_type": "code",
   "execution_count": 50,
   "metadata": {},
   "outputs": [],
   "source": [
    "paintProc = subprocess.Popen(Path('C:/') / 'Windows' / 'System32' / 'mspaint.exe')\n",
    "time.sleep(3)\n",
    "fw = pag.getWindowsWithTitle('그림판')[0]\n",
    "fw.width, fw.topleft\n",
    "fw.topleft = (200, 200)\n",
    "fw.isActive\n",
    "fw.activate()\n",
    "time.sleep(3)\n",
    "fw.close()"
   ]
  },
  {
   "cell_type": "code",
   "execution_count": 51,
   "metadata": {},
   "outputs": [
    {
     "data": {
      "text/plain": [
       "True"
      ]
     },
     "execution_count": 51,
     "metadata": {},
     "output_type": "execute_result"
    }
   ],
   "source": [
    "import webbrowser\n",
    "webbrowser.open('google.com')"
   ]
  },
  {
   "cell_type": "code",
   "execution_count": 57,
   "metadata": {},
   "outputs": [],
   "source": [
    "p = pag.position()\n",
    "pag.click(p); pag.write('Hello', 0.2)"
   ]
  },
  {
   "cell_type": "code",
   "execution_count": 58,
   "metadata": {},
   "outputs": [],
   "source": [
    "csvProc = subprocess.Popen(Path('C:/') / 'Windows' / 'notepad.exe')\n",
    "time.sleep(1)\n",
    "fw = pag.getWindowsWithTitle('메모장')[0]\n",
    "fw.activate()\n",
    "pag.write('Hello world!', 0.2)\n",
    "time.sleep(1)\n",
    "pag.hotkey('ctrl', 'a')\n",
    "time.sleep(1)\n",
    "pag.hotkey('ctrl', 'c')\n",
    "time.sleep(1)\n",
    "fw.close()\n",
    "time.sleep(1)\n",
    "pag.write(['right', 'enter'])"
   ]
  },
  {
   "cell_type": "code",
   "execution_count": 62,
   "metadata": {},
   "outputs": [
    {
     "data": {
      "text/plain": [
       "'Hello, world'"
      ]
     },
     "execution_count": 62,
     "metadata": {},
     "output_type": "execute_result"
    }
   ],
   "source": [
    "# pyperclip.copy 함수를 통해 클립보드에 복사 가능\n",
    "pyperclip.copy('Hello, world')\n",
    "# pyperclip.paste 함수를 통해 클립보드에 복사된 내용을 붙여넣기 → 변수에 할당도 가능\n",
    "pyperclip.paste()"
   ]
  },
  {
   "cell_type": "code",
   "execution_count": null,
   "metadata": {},
   "outputs": [],
   "source": []
  }
 ],
 "metadata": {
  "kernelspec": {
   "display_name": "base",
   "language": "python",
   "name": "python3"
  },
  "language_info": {
   "codemirror_mode": {
    "name": "ipython",
    "version": 3
   },
   "file_extension": ".py",
   "mimetype": "text/x-python",
   "name": "python",
   "nbconvert_exporter": "python",
   "pygments_lexer": "ipython3",
   "version": "3.9.12"
  },
  "orig_nbformat": 4,
  "vscode": {
   "interpreter": {
    "hash": "610a6f344c2137faf927ea819c63f6cee33a2c04455044b28099f39fe9722347"
   }
  }
 },
 "nbformat": 4,
 "nbformat_minor": 2
}
